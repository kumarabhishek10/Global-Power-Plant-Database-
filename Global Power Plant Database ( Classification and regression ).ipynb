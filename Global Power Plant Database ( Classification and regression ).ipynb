{
 "cells": [
  {
   "cell_type": "code",
   "execution_count": 1,
   "id": "9012a905",
   "metadata": {},
   "outputs": [],
   "source": [
    "import pandas as pd\n",
    "import numpy as np\n",
    "import seaborn as sns\n",
    "import matplotlib.pyplot as plt\n",
    "import warnings\n",
    "warnings.filterwarnings('ignore')"
   ]
  },
  {
   "cell_type": "code",
   "execution_count": 2,
   "id": "9a605e1e",
   "metadata": {},
   "outputs": [
    {
     "data": {
      "text/html": [
       "<div>\n",
       "<style scoped>\n",
       "    .dataframe tbody tr th:only-of-type {\n",
       "        vertical-align: middle;\n",
       "    }\n",
       "\n",
       "    .dataframe tbody tr th {\n",
       "        vertical-align: top;\n",
       "    }\n",
       "\n",
       "    .dataframe thead th {\n",
       "        text-align: right;\n",
       "    }\n",
       "</style>\n",
       "<table border=\"1\" class=\"dataframe\">\n",
       "  <thead>\n",
       "    <tr style=\"text-align: right;\">\n",
       "      <th></th>\n",
       "      <th>country</th>\n",
       "      <th>country_long</th>\n",
       "      <th>name</th>\n",
       "      <th>gppd_idnr</th>\n",
       "      <th>capacity_mw</th>\n",
       "      <th>latitude</th>\n",
       "      <th>longitude</th>\n",
       "      <th>primary_fuel</th>\n",
       "      <th>other_fuel1</th>\n",
       "      <th>other_fuel2</th>\n",
       "      <th>...</th>\n",
       "      <th>year_of_capacity_data</th>\n",
       "      <th>generation_gwh_2013</th>\n",
       "      <th>generation_gwh_2014</th>\n",
       "      <th>generation_gwh_2015</th>\n",
       "      <th>generation_gwh_2016</th>\n",
       "      <th>generation_gwh_2017</th>\n",
       "      <th>generation_gwh_2018</th>\n",
       "      <th>generation_gwh_2019</th>\n",
       "      <th>generation_data_source</th>\n",
       "      <th>estimated_generation_gwh</th>\n",
       "    </tr>\n",
       "  </thead>\n",
       "  <tbody>\n",
       "    <tr>\n",
       "      <th>0</th>\n",
       "      <td>IND</td>\n",
       "      <td>India</td>\n",
       "      <td>ACME Solar Tower</td>\n",
       "      <td>WRI1020239</td>\n",
       "      <td>2.5</td>\n",
       "      <td>28.1839</td>\n",
       "      <td>73.2407</td>\n",
       "      <td>Solar</td>\n",
       "      <td>NaN</td>\n",
       "      <td>NaN</td>\n",
       "      <td>...</td>\n",
       "      <td>NaN</td>\n",
       "      <td>NaN</td>\n",
       "      <td>NaN</td>\n",
       "      <td>NaN</td>\n",
       "      <td>NaN</td>\n",
       "      <td>NaN</td>\n",
       "      <td>NaN</td>\n",
       "      <td>NaN</td>\n",
       "      <td>NaN</td>\n",
       "      <td>NaN</td>\n",
       "    </tr>\n",
       "    <tr>\n",
       "      <th>1</th>\n",
       "      <td>IND</td>\n",
       "      <td>India</td>\n",
       "      <td>ADITYA CEMENT WORKS</td>\n",
       "      <td>WRI1019881</td>\n",
       "      <td>98.0</td>\n",
       "      <td>24.7663</td>\n",
       "      <td>74.6090</td>\n",
       "      <td>Coal</td>\n",
       "      <td>NaN</td>\n",
       "      <td>NaN</td>\n",
       "      <td>...</td>\n",
       "      <td>NaN</td>\n",
       "      <td>NaN</td>\n",
       "      <td>NaN</td>\n",
       "      <td>NaN</td>\n",
       "      <td>NaN</td>\n",
       "      <td>NaN</td>\n",
       "      <td>NaN</td>\n",
       "      <td>NaN</td>\n",
       "      <td>NaN</td>\n",
       "      <td>NaN</td>\n",
       "    </tr>\n",
       "    <tr>\n",
       "      <th>2</th>\n",
       "      <td>IND</td>\n",
       "      <td>India</td>\n",
       "      <td>AES Saurashtra Windfarms</td>\n",
       "      <td>WRI1026669</td>\n",
       "      <td>39.2</td>\n",
       "      <td>21.9038</td>\n",
       "      <td>69.3732</td>\n",
       "      <td>Wind</td>\n",
       "      <td>NaN</td>\n",
       "      <td>NaN</td>\n",
       "      <td>...</td>\n",
       "      <td>NaN</td>\n",
       "      <td>NaN</td>\n",
       "      <td>NaN</td>\n",
       "      <td>NaN</td>\n",
       "      <td>NaN</td>\n",
       "      <td>NaN</td>\n",
       "      <td>NaN</td>\n",
       "      <td>NaN</td>\n",
       "      <td>NaN</td>\n",
       "      <td>NaN</td>\n",
       "    </tr>\n",
       "    <tr>\n",
       "      <th>3</th>\n",
       "      <td>IND</td>\n",
       "      <td>India</td>\n",
       "      <td>AGARTALA GT</td>\n",
       "      <td>IND0000001</td>\n",
       "      <td>135.0</td>\n",
       "      <td>23.8712</td>\n",
       "      <td>91.3602</td>\n",
       "      <td>Gas</td>\n",
       "      <td>NaN</td>\n",
       "      <td>NaN</td>\n",
       "      <td>...</td>\n",
       "      <td>2019.0</td>\n",
       "      <td>NaN</td>\n",
       "      <td>617.789264</td>\n",
       "      <td>843.747000</td>\n",
       "      <td>886.004428</td>\n",
       "      <td>663.774500</td>\n",
       "      <td>626.239128</td>\n",
       "      <td>NaN</td>\n",
       "      <td>Central Electricity Authority</td>\n",
       "      <td>NaN</td>\n",
       "    </tr>\n",
       "    <tr>\n",
       "      <th>4</th>\n",
       "      <td>IND</td>\n",
       "      <td>India</td>\n",
       "      <td>AKALTARA TPP</td>\n",
       "      <td>IND0000002</td>\n",
       "      <td>1800.0</td>\n",
       "      <td>21.9603</td>\n",
       "      <td>82.4091</td>\n",
       "      <td>Coal</td>\n",
       "      <td>Oil</td>\n",
       "      <td>NaN</td>\n",
       "      <td>...</td>\n",
       "      <td>2019.0</td>\n",
       "      <td>NaN</td>\n",
       "      <td>3035.550000</td>\n",
       "      <td>5916.370000</td>\n",
       "      <td>6243.000000</td>\n",
       "      <td>5385.579736</td>\n",
       "      <td>7279.000000</td>\n",
       "      <td>NaN</td>\n",
       "      <td>Central Electricity Authority</td>\n",
       "      <td>NaN</td>\n",
       "    </tr>\n",
       "    <tr>\n",
       "      <th>...</th>\n",
       "      <td>...</td>\n",
       "      <td>...</td>\n",
       "      <td>...</td>\n",
       "      <td>...</td>\n",
       "      <td>...</td>\n",
       "      <td>...</td>\n",
       "      <td>...</td>\n",
       "      <td>...</td>\n",
       "      <td>...</td>\n",
       "      <td>...</td>\n",
       "      <td>...</td>\n",
       "      <td>...</td>\n",
       "      <td>...</td>\n",
       "      <td>...</td>\n",
       "      <td>...</td>\n",
       "      <td>...</td>\n",
       "      <td>...</td>\n",
       "      <td>...</td>\n",
       "      <td>...</td>\n",
       "      <td>...</td>\n",
       "      <td>...</td>\n",
       "    </tr>\n",
       "    <tr>\n",
       "      <th>902</th>\n",
       "      <td>IND</td>\n",
       "      <td>India</td>\n",
       "      <td>YERMARUS TPP</td>\n",
       "      <td>IND0000513</td>\n",
       "      <td>1600.0</td>\n",
       "      <td>16.2949</td>\n",
       "      <td>77.3568</td>\n",
       "      <td>Coal</td>\n",
       "      <td>Oil</td>\n",
       "      <td>NaN</td>\n",
       "      <td>...</td>\n",
       "      <td>2019.0</td>\n",
       "      <td>NaN</td>\n",
       "      <td>NaN</td>\n",
       "      <td>0.994875</td>\n",
       "      <td>233.596650</td>\n",
       "      <td>865.400000</td>\n",
       "      <td>686.500000</td>\n",
       "      <td>NaN</td>\n",
       "      <td>Central Electricity Authority</td>\n",
       "      <td>NaN</td>\n",
       "    </tr>\n",
       "    <tr>\n",
       "      <th>903</th>\n",
       "      <td>IND</td>\n",
       "      <td>India</td>\n",
       "      <td>Yelesandra Solar Power Plant</td>\n",
       "      <td>WRI1026222</td>\n",
       "      <td>3.0</td>\n",
       "      <td>12.8932</td>\n",
       "      <td>78.1654</td>\n",
       "      <td>Solar</td>\n",
       "      <td>NaN</td>\n",
       "      <td>NaN</td>\n",
       "      <td>...</td>\n",
       "      <td>NaN</td>\n",
       "      <td>NaN</td>\n",
       "      <td>NaN</td>\n",
       "      <td>NaN</td>\n",
       "      <td>NaN</td>\n",
       "      <td>NaN</td>\n",
       "      <td>NaN</td>\n",
       "      <td>NaN</td>\n",
       "      <td>NaN</td>\n",
       "      <td>NaN</td>\n",
       "    </tr>\n",
       "    <tr>\n",
       "      <th>904</th>\n",
       "      <td>IND</td>\n",
       "      <td>India</td>\n",
       "      <td>Yelisirur wind power project</td>\n",
       "      <td>WRI1026776</td>\n",
       "      <td>25.5</td>\n",
       "      <td>15.2758</td>\n",
       "      <td>75.5811</td>\n",
       "      <td>Wind</td>\n",
       "      <td>NaN</td>\n",
       "      <td>NaN</td>\n",
       "      <td>...</td>\n",
       "      <td>NaN</td>\n",
       "      <td>NaN</td>\n",
       "      <td>NaN</td>\n",
       "      <td>NaN</td>\n",
       "      <td>NaN</td>\n",
       "      <td>NaN</td>\n",
       "      <td>NaN</td>\n",
       "      <td>NaN</td>\n",
       "      <td>NaN</td>\n",
       "      <td>NaN</td>\n",
       "    </tr>\n",
       "    <tr>\n",
       "      <th>905</th>\n",
       "      <td>IND</td>\n",
       "      <td>India</td>\n",
       "      <td>ZAWAR MINES</td>\n",
       "      <td>WRI1019901</td>\n",
       "      <td>80.0</td>\n",
       "      <td>24.3500</td>\n",
       "      <td>73.7477</td>\n",
       "      <td>Coal</td>\n",
       "      <td>NaN</td>\n",
       "      <td>NaN</td>\n",
       "      <td>...</td>\n",
       "      <td>NaN</td>\n",
       "      <td>NaN</td>\n",
       "      <td>NaN</td>\n",
       "      <td>NaN</td>\n",
       "      <td>NaN</td>\n",
       "      <td>NaN</td>\n",
       "      <td>NaN</td>\n",
       "      <td>NaN</td>\n",
       "      <td>NaN</td>\n",
       "      <td>NaN</td>\n",
       "    </tr>\n",
       "    <tr>\n",
       "      <th>906</th>\n",
       "      <td>IND</td>\n",
       "      <td>India</td>\n",
       "      <td>iEnergy Theni Wind Farm</td>\n",
       "      <td>WRI1026761</td>\n",
       "      <td>16.5</td>\n",
       "      <td>9.9344</td>\n",
       "      <td>77.4768</td>\n",
       "      <td>Wind</td>\n",
       "      <td>NaN</td>\n",
       "      <td>NaN</td>\n",
       "      <td>...</td>\n",
       "      <td>NaN</td>\n",
       "      <td>NaN</td>\n",
       "      <td>NaN</td>\n",
       "      <td>NaN</td>\n",
       "      <td>NaN</td>\n",
       "      <td>NaN</td>\n",
       "      <td>NaN</td>\n",
       "      <td>NaN</td>\n",
       "      <td>NaN</td>\n",
       "      <td>NaN</td>\n",
       "    </tr>\n",
       "  </tbody>\n",
       "</table>\n",
       "<p>907 rows × 27 columns</p>\n",
       "</div>"
      ],
      "text/plain": [
       "    country country_long                          name   gppd_idnr  \\\n",
       "0       IND        India              ACME Solar Tower  WRI1020239   \n",
       "1       IND        India           ADITYA CEMENT WORKS  WRI1019881   \n",
       "2       IND        India      AES Saurashtra Windfarms  WRI1026669   \n",
       "3       IND        India                   AGARTALA GT  IND0000001   \n",
       "4       IND        India                  AKALTARA TPP  IND0000002   \n",
       "..      ...          ...                           ...         ...   \n",
       "902     IND        India                  YERMARUS TPP  IND0000513   \n",
       "903     IND        India  Yelesandra Solar Power Plant  WRI1026222   \n",
       "904     IND        India  Yelisirur wind power project  WRI1026776   \n",
       "905     IND        India                   ZAWAR MINES  WRI1019901   \n",
       "906     IND        India       iEnergy Theni Wind Farm  WRI1026761   \n",
       "\n",
       "     capacity_mw  latitude  longitude primary_fuel other_fuel1 other_fuel2  \\\n",
       "0            2.5   28.1839    73.2407        Solar         NaN         NaN   \n",
       "1           98.0   24.7663    74.6090         Coal         NaN         NaN   \n",
       "2           39.2   21.9038    69.3732         Wind         NaN         NaN   \n",
       "3          135.0   23.8712    91.3602          Gas         NaN         NaN   \n",
       "4         1800.0   21.9603    82.4091         Coal         Oil         NaN   \n",
       "..           ...       ...        ...          ...         ...         ...   \n",
       "902       1600.0   16.2949    77.3568         Coal         Oil         NaN   \n",
       "903          3.0   12.8932    78.1654        Solar         NaN         NaN   \n",
       "904         25.5   15.2758    75.5811         Wind         NaN         NaN   \n",
       "905         80.0   24.3500    73.7477         Coal         NaN         NaN   \n",
       "906         16.5    9.9344    77.4768         Wind         NaN         NaN   \n",
       "\n",
       "     ...  year_of_capacity_data  generation_gwh_2013 generation_gwh_2014  \\\n",
       "0    ...                    NaN                  NaN                 NaN   \n",
       "1    ...                    NaN                  NaN                 NaN   \n",
       "2    ...                    NaN                  NaN                 NaN   \n",
       "3    ...                 2019.0                  NaN          617.789264   \n",
       "4    ...                 2019.0                  NaN         3035.550000   \n",
       "..   ...                    ...                  ...                 ...   \n",
       "902  ...                 2019.0                  NaN                 NaN   \n",
       "903  ...                    NaN                  NaN                 NaN   \n",
       "904  ...                    NaN                  NaN                 NaN   \n",
       "905  ...                    NaN                  NaN                 NaN   \n",
       "906  ...                    NaN                  NaN                 NaN   \n",
       "\n",
       "    generation_gwh_2015 generation_gwh_2016 generation_gwh_2017  \\\n",
       "0                   NaN                 NaN                 NaN   \n",
       "1                   NaN                 NaN                 NaN   \n",
       "2                   NaN                 NaN                 NaN   \n",
       "3            843.747000          886.004428          663.774500   \n",
       "4           5916.370000         6243.000000         5385.579736   \n",
       "..                  ...                 ...                 ...   \n",
       "902            0.994875          233.596650          865.400000   \n",
       "903                 NaN                 NaN                 NaN   \n",
       "904                 NaN                 NaN                 NaN   \n",
       "905                 NaN                 NaN                 NaN   \n",
       "906                 NaN                 NaN                 NaN   \n",
       "\n",
       "     generation_gwh_2018  generation_gwh_2019         generation_data_source  \\\n",
       "0                    NaN                  NaN                            NaN   \n",
       "1                    NaN                  NaN                            NaN   \n",
       "2                    NaN                  NaN                            NaN   \n",
       "3             626.239128                  NaN  Central Electricity Authority   \n",
       "4            7279.000000                  NaN  Central Electricity Authority   \n",
       "..                   ...                  ...                            ...   \n",
       "902           686.500000                  NaN  Central Electricity Authority   \n",
       "903                  NaN                  NaN                            NaN   \n",
       "904                  NaN                  NaN                            NaN   \n",
       "905                  NaN                  NaN                            NaN   \n",
       "906                  NaN                  NaN                            NaN   \n",
       "\n",
       "     estimated_generation_gwh  \n",
       "0                         NaN  \n",
       "1                         NaN  \n",
       "2                         NaN  \n",
       "3                         NaN  \n",
       "4                         NaN  \n",
       "..                        ...  \n",
       "902                       NaN  \n",
       "903                       NaN  \n",
       "904                       NaN  \n",
       "905                       NaN  \n",
       "906                       NaN  \n",
       "\n",
       "[907 rows x 27 columns]"
      ]
     },
     "execution_count": 2,
     "metadata": {},
     "output_type": "execute_result"
    }
   ],
   "source": [
    "df=pd.read_csv(\"database_IND.csv\")\n",
    "df"
   ]
  },
  {
   "cell_type": "code",
   "execution_count": 3,
   "id": "9388fe31",
   "metadata": {},
   "outputs": [],
   "source": [
    "#EDA(Exploratory Data Analysis)"
   ]
  },
  {
   "cell_type": "code",
   "execution_count": 4,
   "id": "cde274f2",
   "metadata": {},
   "outputs": [
    {
     "data": {
      "text/html": [
       "<div>\n",
       "<style scoped>\n",
       "    .dataframe tbody tr th:only-of-type {\n",
       "        vertical-align: middle;\n",
       "    }\n",
       "\n",
       "    .dataframe tbody tr th {\n",
       "        vertical-align: top;\n",
       "    }\n",
       "\n",
       "    .dataframe thead th {\n",
       "        text-align: right;\n",
       "    }\n",
       "</style>\n",
       "<table border=\"1\" class=\"dataframe\">\n",
       "  <thead>\n",
       "    <tr style=\"text-align: right;\">\n",
       "      <th></th>\n",
       "      <th>country</th>\n",
       "      <th>country_long</th>\n",
       "      <th>name</th>\n",
       "      <th>gppd_idnr</th>\n",
       "      <th>capacity_mw</th>\n",
       "      <th>latitude</th>\n",
       "      <th>longitude</th>\n",
       "      <th>primary_fuel</th>\n",
       "      <th>other_fuel1</th>\n",
       "      <th>other_fuel2</th>\n",
       "      <th>...</th>\n",
       "      <th>year_of_capacity_data</th>\n",
       "      <th>generation_gwh_2013</th>\n",
       "      <th>generation_gwh_2014</th>\n",
       "      <th>generation_gwh_2015</th>\n",
       "      <th>generation_gwh_2016</th>\n",
       "      <th>generation_gwh_2017</th>\n",
       "      <th>generation_gwh_2018</th>\n",
       "      <th>generation_gwh_2019</th>\n",
       "      <th>generation_data_source</th>\n",
       "      <th>estimated_generation_gwh</th>\n",
       "    </tr>\n",
       "  </thead>\n",
       "  <tbody>\n",
       "    <tr>\n",
       "      <th>0</th>\n",
       "      <td>IND</td>\n",
       "      <td>India</td>\n",
       "      <td>ACME Solar Tower</td>\n",
       "      <td>WRI1020239</td>\n",
       "      <td>2.5</td>\n",
       "      <td>28.1839</td>\n",
       "      <td>73.2407</td>\n",
       "      <td>Solar</td>\n",
       "      <td>NaN</td>\n",
       "      <td>NaN</td>\n",
       "      <td>...</td>\n",
       "      <td>NaN</td>\n",
       "      <td>NaN</td>\n",
       "      <td>NaN</td>\n",
       "      <td>NaN</td>\n",
       "      <td>NaN</td>\n",
       "      <td>NaN</td>\n",
       "      <td>NaN</td>\n",
       "      <td>NaN</td>\n",
       "      <td>NaN</td>\n",
       "      <td>NaN</td>\n",
       "    </tr>\n",
       "    <tr>\n",
       "      <th>1</th>\n",
       "      <td>IND</td>\n",
       "      <td>India</td>\n",
       "      <td>ADITYA CEMENT WORKS</td>\n",
       "      <td>WRI1019881</td>\n",
       "      <td>98.0</td>\n",
       "      <td>24.7663</td>\n",
       "      <td>74.6090</td>\n",
       "      <td>Coal</td>\n",
       "      <td>NaN</td>\n",
       "      <td>NaN</td>\n",
       "      <td>...</td>\n",
       "      <td>NaN</td>\n",
       "      <td>NaN</td>\n",
       "      <td>NaN</td>\n",
       "      <td>NaN</td>\n",
       "      <td>NaN</td>\n",
       "      <td>NaN</td>\n",
       "      <td>NaN</td>\n",
       "      <td>NaN</td>\n",
       "      <td>NaN</td>\n",
       "      <td>NaN</td>\n",
       "    </tr>\n",
       "    <tr>\n",
       "      <th>2</th>\n",
       "      <td>IND</td>\n",
       "      <td>India</td>\n",
       "      <td>AES Saurashtra Windfarms</td>\n",
       "      <td>WRI1026669</td>\n",
       "      <td>39.2</td>\n",
       "      <td>21.9038</td>\n",
       "      <td>69.3732</td>\n",
       "      <td>Wind</td>\n",
       "      <td>NaN</td>\n",
       "      <td>NaN</td>\n",
       "      <td>...</td>\n",
       "      <td>NaN</td>\n",
       "      <td>NaN</td>\n",
       "      <td>NaN</td>\n",
       "      <td>NaN</td>\n",
       "      <td>NaN</td>\n",
       "      <td>NaN</td>\n",
       "      <td>NaN</td>\n",
       "      <td>NaN</td>\n",
       "      <td>NaN</td>\n",
       "      <td>NaN</td>\n",
       "    </tr>\n",
       "    <tr>\n",
       "      <th>3</th>\n",
       "      <td>IND</td>\n",
       "      <td>India</td>\n",
       "      <td>AGARTALA GT</td>\n",
       "      <td>IND0000001</td>\n",
       "      <td>135.0</td>\n",
       "      <td>23.8712</td>\n",
       "      <td>91.3602</td>\n",
       "      <td>Gas</td>\n",
       "      <td>NaN</td>\n",
       "      <td>NaN</td>\n",
       "      <td>...</td>\n",
       "      <td>2019.0</td>\n",
       "      <td>NaN</td>\n",
       "      <td>617.789264</td>\n",
       "      <td>843.747</td>\n",
       "      <td>886.004428</td>\n",
       "      <td>663.774500</td>\n",
       "      <td>626.239128</td>\n",
       "      <td>NaN</td>\n",
       "      <td>Central Electricity Authority</td>\n",
       "      <td>NaN</td>\n",
       "    </tr>\n",
       "    <tr>\n",
       "      <th>4</th>\n",
       "      <td>IND</td>\n",
       "      <td>India</td>\n",
       "      <td>AKALTARA TPP</td>\n",
       "      <td>IND0000002</td>\n",
       "      <td>1800.0</td>\n",
       "      <td>21.9603</td>\n",
       "      <td>82.4091</td>\n",
       "      <td>Coal</td>\n",
       "      <td>Oil</td>\n",
       "      <td>NaN</td>\n",
       "      <td>...</td>\n",
       "      <td>2019.0</td>\n",
       "      <td>NaN</td>\n",
       "      <td>3035.550000</td>\n",
       "      <td>5916.370</td>\n",
       "      <td>6243.000000</td>\n",
       "      <td>5385.579736</td>\n",
       "      <td>7279.000000</td>\n",
       "      <td>NaN</td>\n",
       "      <td>Central Electricity Authority</td>\n",
       "      <td>NaN</td>\n",
       "    </tr>\n",
       "  </tbody>\n",
       "</table>\n",
       "<p>5 rows × 27 columns</p>\n",
       "</div>"
      ],
      "text/plain": [
       "  country country_long                      name   gppd_idnr  capacity_mw  \\\n",
       "0     IND        India          ACME Solar Tower  WRI1020239          2.5   \n",
       "1     IND        India       ADITYA CEMENT WORKS  WRI1019881         98.0   \n",
       "2     IND        India  AES Saurashtra Windfarms  WRI1026669         39.2   \n",
       "3     IND        India               AGARTALA GT  IND0000001        135.0   \n",
       "4     IND        India              AKALTARA TPP  IND0000002       1800.0   \n",
       "\n",
       "   latitude  longitude primary_fuel other_fuel1 other_fuel2  ...  \\\n",
       "0   28.1839    73.2407        Solar         NaN         NaN  ...   \n",
       "1   24.7663    74.6090         Coal         NaN         NaN  ...   \n",
       "2   21.9038    69.3732         Wind         NaN         NaN  ...   \n",
       "3   23.8712    91.3602          Gas         NaN         NaN  ...   \n",
       "4   21.9603    82.4091         Coal         Oil         NaN  ...   \n",
       "\n",
       "   year_of_capacity_data  generation_gwh_2013 generation_gwh_2014  \\\n",
       "0                    NaN                  NaN                 NaN   \n",
       "1                    NaN                  NaN                 NaN   \n",
       "2                    NaN                  NaN                 NaN   \n",
       "3                 2019.0                  NaN          617.789264   \n",
       "4                 2019.0                  NaN         3035.550000   \n",
       "\n",
       "  generation_gwh_2015 generation_gwh_2016 generation_gwh_2017  \\\n",
       "0                 NaN                 NaN                 NaN   \n",
       "1                 NaN                 NaN                 NaN   \n",
       "2                 NaN                 NaN                 NaN   \n",
       "3             843.747          886.004428          663.774500   \n",
       "4            5916.370         6243.000000         5385.579736   \n",
       "\n",
       "   generation_gwh_2018  generation_gwh_2019         generation_data_source  \\\n",
       "0                  NaN                  NaN                            NaN   \n",
       "1                  NaN                  NaN                            NaN   \n",
       "2                  NaN                  NaN                            NaN   \n",
       "3           626.239128                  NaN  Central Electricity Authority   \n",
       "4          7279.000000                  NaN  Central Electricity Authority   \n",
       "\n",
       "   estimated_generation_gwh  \n",
       "0                       NaN  \n",
       "1                       NaN  \n",
       "2                       NaN  \n",
       "3                       NaN  \n",
       "4                       NaN  \n",
       "\n",
       "[5 rows x 27 columns]"
      ]
     },
     "execution_count": 4,
     "metadata": {},
     "output_type": "execute_result"
    }
   ],
   "source": [
    "df.head()"
   ]
  },
  {
   "cell_type": "code",
   "execution_count": 5,
   "id": "6fe4b273",
   "metadata": {},
   "outputs": [
    {
     "data": {
      "text/html": [
       "<div>\n",
       "<style scoped>\n",
       "    .dataframe tbody tr th:only-of-type {\n",
       "        vertical-align: middle;\n",
       "    }\n",
       "\n",
       "    .dataframe tbody tr th {\n",
       "        vertical-align: top;\n",
       "    }\n",
       "\n",
       "    .dataframe thead th {\n",
       "        text-align: right;\n",
       "    }\n",
       "</style>\n",
       "<table border=\"1\" class=\"dataframe\">\n",
       "  <thead>\n",
       "    <tr style=\"text-align: right;\">\n",
       "      <th></th>\n",
       "      <th>country</th>\n",
       "      <th>country_long</th>\n",
       "      <th>name</th>\n",
       "      <th>gppd_idnr</th>\n",
       "      <th>capacity_mw</th>\n",
       "      <th>latitude</th>\n",
       "      <th>longitude</th>\n",
       "      <th>primary_fuel</th>\n",
       "      <th>other_fuel1</th>\n",
       "      <th>other_fuel2</th>\n",
       "      <th>...</th>\n",
       "      <th>year_of_capacity_data</th>\n",
       "      <th>generation_gwh_2013</th>\n",
       "      <th>generation_gwh_2014</th>\n",
       "      <th>generation_gwh_2015</th>\n",
       "      <th>generation_gwh_2016</th>\n",
       "      <th>generation_gwh_2017</th>\n",
       "      <th>generation_gwh_2018</th>\n",
       "      <th>generation_gwh_2019</th>\n",
       "      <th>generation_data_source</th>\n",
       "      <th>estimated_generation_gwh</th>\n",
       "    </tr>\n",
       "  </thead>\n",
       "  <tbody>\n",
       "    <tr>\n",
       "      <th>902</th>\n",
       "      <td>IND</td>\n",
       "      <td>India</td>\n",
       "      <td>YERMARUS TPP</td>\n",
       "      <td>IND0000513</td>\n",
       "      <td>1600.0</td>\n",
       "      <td>16.2949</td>\n",
       "      <td>77.3568</td>\n",
       "      <td>Coal</td>\n",
       "      <td>Oil</td>\n",
       "      <td>NaN</td>\n",
       "      <td>...</td>\n",
       "      <td>2019.0</td>\n",
       "      <td>NaN</td>\n",
       "      <td>NaN</td>\n",
       "      <td>0.994875</td>\n",
       "      <td>233.59665</td>\n",
       "      <td>865.4</td>\n",
       "      <td>686.5</td>\n",
       "      <td>NaN</td>\n",
       "      <td>Central Electricity Authority</td>\n",
       "      <td>NaN</td>\n",
       "    </tr>\n",
       "    <tr>\n",
       "      <th>903</th>\n",
       "      <td>IND</td>\n",
       "      <td>India</td>\n",
       "      <td>Yelesandra Solar Power Plant</td>\n",
       "      <td>WRI1026222</td>\n",
       "      <td>3.0</td>\n",
       "      <td>12.8932</td>\n",
       "      <td>78.1654</td>\n",
       "      <td>Solar</td>\n",
       "      <td>NaN</td>\n",
       "      <td>NaN</td>\n",
       "      <td>...</td>\n",
       "      <td>NaN</td>\n",
       "      <td>NaN</td>\n",
       "      <td>NaN</td>\n",
       "      <td>NaN</td>\n",
       "      <td>NaN</td>\n",
       "      <td>NaN</td>\n",
       "      <td>NaN</td>\n",
       "      <td>NaN</td>\n",
       "      <td>NaN</td>\n",
       "      <td>NaN</td>\n",
       "    </tr>\n",
       "    <tr>\n",
       "      <th>904</th>\n",
       "      <td>IND</td>\n",
       "      <td>India</td>\n",
       "      <td>Yelisirur wind power project</td>\n",
       "      <td>WRI1026776</td>\n",
       "      <td>25.5</td>\n",
       "      <td>15.2758</td>\n",
       "      <td>75.5811</td>\n",
       "      <td>Wind</td>\n",
       "      <td>NaN</td>\n",
       "      <td>NaN</td>\n",
       "      <td>...</td>\n",
       "      <td>NaN</td>\n",
       "      <td>NaN</td>\n",
       "      <td>NaN</td>\n",
       "      <td>NaN</td>\n",
       "      <td>NaN</td>\n",
       "      <td>NaN</td>\n",
       "      <td>NaN</td>\n",
       "      <td>NaN</td>\n",
       "      <td>NaN</td>\n",
       "      <td>NaN</td>\n",
       "    </tr>\n",
       "    <tr>\n",
       "      <th>905</th>\n",
       "      <td>IND</td>\n",
       "      <td>India</td>\n",
       "      <td>ZAWAR MINES</td>\n",
       "      <td>WRI1019901</td>\n",
       "      <td>80.0</td>\n",
       "      <td>24.3500</td>\n",
       "      <td>73.7477</td>\n",
       "      <td>Coal</td>\n",
       "      <td>NaN</td>\n",
       "      <td>NaN</td>\n",
       "      <td>...</td>\n",
       "      <td>NaN</td>\n",
       "      <td>NaN</td>\n",
       "      <td>NaN</td>\n",
       "      <td>NaN</td>\n",
       "      <td>NaN</td>\n",
       "      <td>NaN</td>\n",
       "      <td>NaN</td>\n",
       "      <td>NaN</td>\n",
       "      <td>NaN</td>\n",
       "      <td>NaN</td>\n",
       "    </tr>\n",
       "    <tr>\n",
       "      <th>906</th>\n",
       "      <td>IND</td>\n",
       "      <td>India</td>\n",
       "      <td>iEnergy Theni Wind Farm</td>\n",
       "      <td>WRI1026761</td>\n",
       "      <td>16.5</td>\n",
       "      <td>9.9344</td>\n",
       "      <td>77.4768</td>\n",
       "      <td>Wind</td>\n",
       "      <td>NaN</td>\n",
       "      <td>NaN</td>\n",
       "      <td>...</td>\n",
       "      <td>NaN</td>\n",
       "      <td>NaN</td>\n",
       "      <td>NaN</td>\n",
       "      <td>NaN</td>\n",
       "      <td>NaN</td>\n",
       "      <td>NaN</td>\n",
       "      <td>NaN</td>\n",
       "      <td>NaN</td>\n",
       "      <td>NaN</td>\n",
       "      <td>NaN</td>\n",
       "    </tr>\n",
       "  </tbody>\n",
       "</table>\n",
       "<p>5 rows × 27 columns</p>\n",
       "</div>"
      ],
      "text/plain": [
       "    country country_long                          name   gppd_idnr  \\\n",
       "902     IND        India                  YERMARUS TPP  IND0000513   \n",
       "903     IND        India  Yelesandra Solar Power Plant  WRI1026222   \n",
       "904     IND        India  Yelisirur wind power project  WRI1026776   \n",
       "905     IND        India                   ZAWAR MINES  WRI1019901   \n",
       "906     IND        India       iEnergy Theni Wind Farm  WRI1026761   \n",
       "\n",
       "     capacity_mw  latitude  longitude primary_fuel other_fuel1 other_fuel2  \\\n",
       "902       1600.0   16.2949    77.3568         Coal         Oil         NaN   \n",
       "903          3.0   12.8932    78.1654        Solar         NaN         NaN   \n",
       "904         25.5   15.2758    75.5811         Wind         NaN         NaN   \n",
       "905         80.0   24.3500    73.7477         Coal         NaN         NaN   \n",
       "906         16.5    9.9344    77.4768         Wind         NaN         NaN   \n",
       "\n",
       "     ...  year_of_capacity_data  generation_gwh_2013 generation_gwh_2014  \\\n",
       "902  ...                 2019.0                  NaN                 NaN   \n",
       "903  ...                    NaN                  NaN                 NaN   \n",
       "904  ...                    NaN                  NaN                 NaN   \n",
       "905  ...                    NaN                  NaN                 NaN   \n",
       "906  ...                    NaN                  NaN                 NaN   \n",
       "\n",
       "    generation_gwh_2015 generation_gwh_2016 generation_gwh_2017  \\\n",
       "902            0.994875           233.59665               865.4   \n",
       "903                 NaN                 NaN                 NaN   \n",
       "904                 NaN                 NaN                 NaN   \n",
       "905                 NaN                 NaN                 NaN   \n",
       "906                 NaN                 NaN                 NaN   \n",
       "\n",
       "     generation_gwh_2018  generation_gwh_2019         generation_data_source  \\\n",
       "902                686.5                  NaN  Central Electricity Authority   \n",
       "903                  NaN                  NaN                            NaN   \n",
       "904                  NaN                  NaN                            NaN   \n",
       "905                  NaN                  NaN                            NaN   \n",
       "906                  NaN                  NaN                            NaN   \n",
       "\n",
       "     estimated_generation_gwh  \n",
       "902                       NaN  \n",
       "903                       NaN  \n",
       "904                       NaN  \n",
       "905                       NaN  \n",
       "906                       NaN  \n",
       "\n",
       "[5 rows x 27 columns]"
      ]
     },
     "execution_count": 5,
     "metadata": {},
     "output_type": "execute_result"
    }
   ],
   "source": [
    "df.tail()"
   ]
  },
  {
   "cell_type": "code",
   "execution_count": 6,
   "id": "34c32121",
   "metadata": {},
   "outputs": [
    {
     "data": {
      "text/plain": [
       "country                      object\n",
       "country_long                 object\n",
       "name                         object\n",
       "gppd_idnr                    object\n",
       "capacity_mw                 float64\n",
       "latitude                    float64\n",
       "longitude                   float64\n",
       "primary_fuel                 object\n",
       "other_fuel1                  object\n",
       "other_fuel2                  object\n",
       "other_fuel3                 float64\n",
       "commissioning_year          float64\n",
       "owner                        object\n",
       "source                       object\n",
       "url                          object\n",
       "geolocation_source           object\n",
       "wepp_id                     float64\n",
       "year_of_capacity_data       float64\n",
       "generation_gwh_2013         float64\n",
       "generation_gwh_2014         float64\n",
       "generation_gwh_2015         float64\n",
       "generation_gwh_2016         float64\n",
       "generation_gwh_2017         float64\n",
       "generation_gwh_2018         float64\n",
       "generation_gwh_2019         float64\n",
       "generation_data_source       object\n",
       "estimated_generation_gwh    float64\n",
       "dtype: object"
      ]
     },
     "execution_count": 6,
     "metadata": {},
     "output_type": "execute_result"
    }
   ],
   "source": [
    "df.dtypes   #Datatype of all the columns"
   ]
  },
  {
   "cell_type": "code",
   "execution_count": 7,
   "id": "d7dc2314",
   "metadata": {},
   "outputs": [
    {
     "data": {
      "text/plain": [
       "(907, 27)"
      ]
     },
     "execution_count": 7,
     "metadata": {},
     "output_type": "execute_result"
    }
   ],
   "source": [
    "df.shape  #Dimension of the dataset"
   ]
  },
  {
   "cell_type": "code",
   "execution_count": 8,
   "id": "72fa1d40",
   "metadata": {},
   "outputs": [
    {
     "data": {
      "text/plain": [
       "Index(['country', 'country_long', 'name', 'gppd_idnr', 'capacity_mw',\n",
       "       'latitude', 'longitude', 'primary_fuel', 'other_fuel1', 'other_fuel2',\n",
       "       'other_fuel3', 'commissioning_year', 'owner', 'source', 'url',\n",
       "       'geolocation_source', 'wepp_id', 'year_of_capacity_data',\n",
       "       'generation_gwh_2013', 'generation_gwh_2014', 'generation_gwh_2015',\n",
       "       'generation_gwh_2016', 'generation_gwh_2017', 'generation_gwh_2018',\n",
       "       'generation_gwh_2019', 'generation_data_source',\n",
       "       'estimated_generation_gwh'],\n",
       "      dtype='object')"
      ]
     },
     "execution_count": 8,
     "metadata": {},
     "output_type": "execute_result"
    }
   ],
   "source": [
    "df.columns  #Names of all the columns in the dataset"
   ]
  },
  {
   "cell_type": "code",
   "execution_count": 9,
   "id": "75891a5e",
   "metadata": {},
   "outputs": [
    {
     "data": {
      "text/plain": [
       "['country',\n",
       " 'country_long',\n",
       " 'name',\n",
       " 'gppd_idnr',\n",
       " 'capacity_mw',\n",
       " 'latitude',\n",
       " 'longitude',\n",
       " 'primary_fuel',\n",
       " 'other_fuel1',\n",
       " 'other_fuel2',\n",
       " 'other_fuel3',\n",
       " 'commissioning_year',\n",
       " 'owner',\n",
       " 'source',\n",
       " 'url',\n",
       " 'geolocation_source',\n",
       " 'wepp_id',\n",
       " 'year_of_capacity_data',\n",
       " 'generation_gwh_2013',\n",
       " 'generation_gwh_2014',\n",
       " 'generation_gwh_2015',\n",
       " 'generation_gwh_2016',\n",
       " 'generation_gwh_2017',\n",
       " 'generation_gwh_2018',\n",
       " 'generation_gwh_2019',\n",
       " 'generation_data_source',\n",
       " 'estimated_generation_gwh']"
      ]
     },
     "execution_count": 9,
     "metadata": {},
     "output_type": "execute_result"
    }
   ],
   "source": [
    "df.columns.to_list()"
   ]
  },
  {
   "cell_type": "code",
   "execution_count": 10,
   "id": "c61cb009",
   "metadata": {},
   "outputs": [
    {
     "data": {
      "text/plain": [
       "country                       0\n",
       "country_long                  0\n",
       "name                          0\n",
       "gppd_idnr                     0\n",
       "capacity_mw                   0\n",
       "latitude                     46\n",
       "longitude                    46\n",
       "primary_fuel                  0\n",
       "other_fuel1                 709\n",
       "other_fuel2                 906\n",
       "other_fuel3                 907\n",
       "commissioning_year          380\n",
       "owner                       565\n",
       "source                        0\n",
       "url                           0\n",
       "geolocation_source           19\n",
       "wepp_id                     907\n",
       "year_of_capacity_data       388\n",
       "generation_gwh_2013         907\n",
       "generation_gwh_2014         509\n",
       "generation_gwh_2015         485\n",
       "generation_gwh_2016         473\n",
       "generation_gwh_2017         467\n",
       "generation_gwh_2018         459\n",
       "generation_gwh_2019         907\n",
       "generation_data_source      458\n",
       "estimated_generation_gwh    907\n",
       "dtype: int64"
      ]
     },
     "execution_count": 10,
     "metadata": {},
     "output_type": "execute_result"
    }
   ],
   "source": [
    "df.isnull().sum() #Number of null values in each column"
   ]
  },
  {
   "cell_type": "code",
   "execution_count": 11,
   "id": "4ef70b4a",
   "metadata": {},
   "outputs": [
    {
     "name": "stdout",
     "output_type": "stream",
     "text": [
      "<class 'pandas.core.frame.DataFrame'>\n",
      "RangeIndex: 907 entries, 0 to 906\n",
      "Data columns (total 27 columns):\n",
      " #   Column                    Non-Null Count  Dtype  \n",
      "---  ------                    --------------  -----  \n",
      " 0   country                   907 non-null    object \n",
      " 1   country_long              907 non-null    object \n",
      " 2   name                      907 non-null    object \n",
      " 3   gppd_idnr                 907 non-null    object \n",
      " 4   capacity_mw               907 non-null    float64\n",
      " 5   latitude                  861 non-null    float64\n",
      " 6   longitude                 861 non-null    float64\n",
      " 7   primary_fuel              907 non-null    object \n",
      " 8   other_fuel1               198 non-null    object \n",
      " 9   other_fuel2               1 non-null      object \n",
      " 10  other_fuel3               0 non-null      float64\n",
      " 11  commissioning_year        527 non-null    float64\n",
      " 12  owner                     342 non-null    object \n",
      " 13  source                    907 non-null    object \n",
      " 14  url                       907 non-null    object \n",
      " 15  geolocation_source        888 non-null    object \n",
      " 16  wepp_id                   0 non-null      float64\n",
      " 17  year_of_capacity_data     519 non-null    float64\n",
      " 18  generation_gwh_2013       0 non-null      float64\n",
      " 19  generation_gwh_2014       398 non-null    float64\n",
      " 20  generation_gwh_2015       422 non-null    float64\n",
      " 21  generation_gwh_2016       434 non-null    float64\n",
      " 22  generation_gwh_2017       440 non-null    float64\n",
      " 23  generation_gwh_2018       448 non-null    float64\n",
      " 24  generation_gwh_2019       0 non-null      float64\n",
      " 25  generation_data_source    449 non-null    object \n",
      " 26  estimated_generation_gwh  0 non-null      float64\n",
      "dtypes: float64(15), object(12)\n",
      "memory usage: 191.4+ KB\n"
     ]
    }
   ],
   "source": [
    "df.info()  "
   ]
  },
  {
   "cell_type": "code",
   "execution_count": 12,
   "id": "8aa773ac",
   "metadata": {},
   "outputs": [
    {
     "data": {
      "text/plain": [
       "<AxesSubplot:>"
      ]
     },
     "execution_count": 12,
     "metadata": {},
     "output_type": "execute_result"
    },
    {
     "data": {
      "image/png": "[encoded data removed]",
      "text/plain": [
       "<Figure size 432x288 with 2 Axes>"
      ]
     },
     "metadata": {
      "needs_background": "light"
     },
     "output_type": "display_data"
    }
   ],
   "source": [
    "sns.heatmap(df.isnull())   #Heatmap is of single colour as there are no null values"
   ]
  },
  {
   "cell_type": "code",
   "execution_count": 13,
   "id": "f39fa435",
   "metadata": {},
   "outputs": [
    {
     "data": {
      "text/html": [
       "<div>\n",
       "<style scoped>\n",
       "    .dataframe tbody tr th:only-of-type {\n",
       "        vertical-align: middle;\n",
       "    }\n",
       "\n",
       "    .dataframe tbody tr th {\n",
       "        vertical-align: top;\n",
       "    }\n",
       "\n",
       "    .dataframe thead th {\n",
       "        text-align: right;\n",
       "    }\n",
       "</style>\n",
       "<table border=\"1\" class=\"dataframe\">\n",
       "  <thead>\n",
       "    <tr style=\"text-align: right;\">\n",
       "      <th></th>\n",
       "      <th>No. of unique values</th>\n",
       "    </tr>\n",
       "  </thead>\n",
       "  <tbody>\n",
       "    <tr>\n",
       "      <th>country</th>\n",
       "      <td>1</td>\n",
       "    </tr>\n",
       "    <tr>\n",
       "      <th>country_long</th>\n",
       "      <td>1</td>\n",
       "    </tr>\n",
       "    <tr>\n",
       "      <th>name</th>\n",
       "      <td>907</td>\n",
       "    </tr>\n",
       "    <tr>\n",
       "      <th>gppd_idnr</th>\n",
       "      <td>907</td>\n",
       "    </tr>\n",
       "    <tr>\n",
       "      <th>capacity_mw</th>\n",
       "      <td>361</td>\n",
       "    </tr>\n",
       "    <tr>\n",
       "      <th>latitude</th>\n",
       "      <td>836</td>\n",
       "    </tr>\n",
       "    <tr>\n",
       "      <th>longitude</th>\n",
       "      <td>827</td>\n",
       "    </tr>\n",
       "    <tr>\n",
       "      <th>primary_fuel</th>\n",
       "      <td>8</td>\n",
       "    </tr>\n",
       "    <tr>\n",
       "      <th>other_fuel1</th>\n",
       "      <td>3</td>\n",
       "    </tr>\n",
       "    <tr>\n",
       "      <th>other_fuel2</th>\n",
       "      <td>1</td>\n",
       "    </tr>\n",
       "    <tr>\n",
       "      <th>other_fuel3</th>\n",
       "      <td>0</td>\n",
       "    </tr>\n",
       "    <tr>\n",
       "      <th>commissioning_year</th>\n",
       "      <td>73</td>\n",
       "    </tr>\n",
       "    <tr>\n",
       "      <th>owner</th>\n",
       "      <td>280</td>\n",
       "    </tr>\n",
       "    <tr>\n",
       "      <th>source</th>\n",
       "      <td>191</td>\n",
       "    </tr>\n",
       "    <tr>\n",
       "      <th>url</th>\n",
       "      <td>304</td>\n",
       "    </tr>\n",
       "    <tr>\n",
       "      <th>geolocation_source</th>\n",
       "      <td>3</td>\n",
       "    </tr>\n",
       "    <tr>\n",
       "      <th>wepp_id</th>\n",
       "      <td>0</td>\n",
       "    </tr>\n",
       "    <tr>\n",
       "      <th>year_of_capacity_data</th>\n",
       "      <td>1</td>\n",
       "    </tr>\n",
       "    <tr>\n",
       "      <th>generation_gwh_2013</th>\n",
       "      <td>0</td>\n",
       "    </tr>\n",
       "    <tr>\n",
       "      <th>generation_gwh_2014</th>\n",
       "      <td>371</td>\n",
       "    </tr>\n",
       "    <tr>\n",
       "      <th>generation_gwh_2015</th>\n",
       "      <td>396</td>\n",
       "    </tr>\n",
       "    <tr>\n",
       "      <th>generation_gwh_2016</th>\n",
       "      <td>403</td>\n",
       "    </tr>\n",
       "    <tr>\n",
       "      <th>generation_gwh_2017</th>\n",
       "      <td>408</td>\n",
       "    </tr>\n",
       "    <tr>\n",
       "      <th>generation_gwh_2018</th>\n",
       "      <td>410</td>\n",
       "    </tr>\n",
       "    <tr>\n",
       "      <th>generation_gwh_2019</th>\n",
       "      <td>0</td>\n",
       "    </tr>\n",
       "    <tr>\n",
       "      <th>generation_data_source</th>\n",
       "      <td>1</td>\n",
       "    </tr>\n",
       "    <tr>\n",
       "      <th>estimated_generation_gwh</th>\n",
       "      <td>0</td>\n",
       "    </tr>\n",
       "  </tbody>\n",
       "</table>\n",
       "</div>"
      ],
      "text/plain": [
       "                          No. of unique values\n",
       "country                                      1\n",
       "country_long                                 1\n",
       "name                                       907\n",
       "gppd_idnr                                  907\n",
       "capacity_mw                                361\n",
       "latitude                                   836\n",
       "longitude                                  827\n",
       "primary_fuel                                 8\n",
       "other_fuel1                                  3\n",
       "other_fuel2                                  1\n",
       "other_fuel3                                  0\n",
       "commissioning_year                          73\n",
       "owner                                      280\n",
       "source                                     191\n",
       "url                                        304\n",
       "geolocation_source                           3\n",
       "wepp_id                                      0\n",
       "year_of_capacity_data                        1\n",
       "generation_gwh_2013                          0\n",
       "generation_gwh_2014                        371\n",
       "generation_gwh_2015                        396\n",
       "generation_gwh_2016                        403\n",
       "generation_gwh_2017                        408\n",
       "generation_gwh_2018                        410\n",
       "generation_gwh_2019                          0\n",
       "generation_data_source                       1\n",
       "estimated_generation_gwh                     0"
      ]
     },
     "execution_count": 13,
     "metadata": {},
     "output_type": "execute_result"
    }
   ],
   "source": [
    "#Checking number of unique values in each column\n",
    "df.nunique().to_frame(\"No. of unique values\")  "
   ]
  },
  {
   "cell_type": "code",
   "execution_count": 14,
   "id": "e36cf153",
   "metadata": {},
   "outputs": [
    {
     "name": "stdout",
     "output_type": "stream",
     "text": [
      "IND    907\n",
      "Name: country, dtype: int64\n",
      "\n",
      "\n",
      "India    907\n",
      "Name: country_long, dtype: int64\n",
      "\n",
      "\n",
      "ACME Solar Tower           1\n",
      "RAICHUR                    1\n",
      "PRYAGRAJ (BARA) TPP        1\n",
      "PULICHINTALA               1\n",
      "PUNE MILL                  1\n",
      "                          ..\n",
      "KADANA                     1\n",
      "KADRA                      1\n",
      "KAHALGAON                  1\n",
      "KAIGA                      1\n",
      "iEnergy Theni Wind Farm    1\n",
      "Name: name, Length: 907, dtype: int64\n",
      "\n",
      "\n",
      "WRI1020239    1\n",
      "IND0000356    1\n",
      "IND0000346    1\n",
      "IND0000523    1\n",
      "WRI1019978    1\n",
      "             ..\n",
      "IND0000167    1\n",
      "IND0000168    1\n",
      "IND0000169    1\n",
      "IND0000170    1\n",
      "WRI1026761    1\n",
      "Name: gppd_idnr, Length: 907, dtype: int64\n",
      "\n",
      "\n",
      "5.0       39\n",
      "10.0      22\n",
      "600.0     20\n",
      "15.0      20\n",
      "1200.0    19\n",
      "          ..\n",
      "291.0      1\n",
      "645.0      1\n",
      "41.4       1\n",
      "17.5       1\n",
      "106.6      1\n",
      "Name: capacity_mw, Length: 361, dtype: int64\n",
      "\n",
      "\n",
      "19.0004    3\n",
      "24.1917    3\n",
      "24.8747    2\n",
      "13.2450    2\n",
      "11.5336    2\n",
      "          ..\n",
      "22.7554    1\n",
      "27.1598    1\n",
      "17.2970    1\n",
      "20.8772    1\n",
      "9.9344     1\n",
      "Name: latitude, Length: 836, dtype: int64\n",
      "\n",
      "\n",
      "71.6917    4\n",
      "75.8988    3\n",
      "71.6918    3\n",
      "72.8983    3\n",
      "81.2875    3\n",
      "          ..\n",
      "70.3961    1\n",
      "74.2393    1\n",
      "77.0435    1\n",
      "73.8254    1\n",
      "77.4768    1\n",
      "Name: longitude, Length: 827, dtype: int64\n",
      "\n",
      "\n",
      "Coal       258\n",
      "Hydro      251\n",
      "Solar      127\n",
      "Wind       123\n",
      "Gas         69\n",
      "Biomass     50\n",
      "Oil         20\n",
      "Nuclear      9\n",
      "Name: primary_fuel, dtype: int64\n",
      "\n",
      "\n",
      "Oil             195\n",
      "Gas               2\n",
      "Cogeneration      1\n",
      "Name: other_fuel1, dtype: int64\n",
      "\n",
      "\n",
      "Oil    1\n",
      "Name: other_fuel2, dtype: int64\n",
      "\n",
      "\n",
      "Series([], Name: other_fuel3, dtype: int64)\n",
      "\n",
      "\n",
      "2015.0    28\n",
      "2013.0    25\n",
      "2012.0    23\n",
      "2016.0    19\n",
      "2010.0    18\n",
      "          ..\n",
      "1946.0     1\n",
      "1956.0     1\n",
      "1937.0     1\n",
      "1949.0     1\n",
      "1953.0     1\n",
      "Name: commissioning_year, Length: 73, dtype: int64\n",
      "\n",
      "\n",
      "Acc Acc ltd                                                    4\n",
      "Sterling Agro Industries ltd.                                  4\n",
      "Jk Cement ltd                                                  4\n",
      "SWPPL                                                          3\n",
      "Jaypee Ltd jccl)                                               3\n",
      "                                                              ..\n",
      "Sunkon Energy Private Limited                                  1\n",
      "West Bengal Energy Development Corporation Limited (WBEDCL)    1\n",
      "Energy Infratech Private Limited                               1\n",
      "K. N. Ram                                                      1\n",
      "iEnergy Wind Farms                                             1\n",
      "Name: owner, Length: 280, dtype: int64\n",
      "\n",
      "\n",
      "Central Electricity Authority                                  519\n",
      "CDM                                                            124\n",
      "Lancosola                                                       10\n",
      "National Renewable Energy Laboratory                             8\n",
      "National Thermal Power Corporation (NTPC)                        6\n",
      "                                                              ... \n",
      "Harsha Engineers Limited                                         1\n",
      "Godawari Energy ltd                                              1\n",
      "Sunkon Energy Private Limited                                    1\n",
      "West Bengal Energy Development Corporation Limited (WBEDCL)      1\n",
      "Yashwantrao Krishna ssk                                          1\n",
      "Name: source, Length: 191, dtype: int64\n",
      "\n",
      "\n",
      "http://www.cea.nic.in/                                                              519\n",
      "http://www.lancosolar.com/pdfs/rajasthan-pv-project-details.pdf                       7\n",
      "http://www.ntpc.co.in                                                                 6\n",
      "http://viainfotech.biz/Biomass/theme5/document/green_market/REC-project-list.pdf      5\n",
      "http://www.mahaurja.com/PDF/PG2_GridConnSPPCommissioned.pdf                           4\n",
      "                                                                                   ... \n",
      "https://cdm.unfccc.int/Projects/DB/LRQA%20Ltd1346322352.66/view                       1\n",
      "https://cdm.unfccc.int/Projects/DB/DNV-CUK1351166669.28/view                          1\n",
      "http://harshaengineers.com                                                            1\n",
      "http://hiragroup.com/companies/godawari-green-energy-limited/                         1\n",
      "https://cdm.unfccc.int/Projects/DB/RWTUV1345031355.85/view                            1\n",
      "Name: url, Length: 304, dtype: int64\n",
      "\n",
      "\n",
      "WRI                                     765\n",
      "Industry About                          119\n",
      "National Renewable Energy Laboratory      4\n",
      "Name: geolocation_source, dtype: int64\n",
      "\n",
      "\n",
      "Series([], Name: wepp_id, dtype: int64)\n",
      "\n",
      "\n",
      "2019.0    519\n",
      "Name: year_of_capacity_data, dtype: int64\n",
      "\n",
      "\n",
      "Series([], Name: generation_gwh_2013, dtype: int64)\n",
      "\n",
      "\n",
      "0.000000       28\n",
      "617.789264      1\n",
      "359.139800      1\n",
      "7368.390000     1\n",
      "9983.018000     1\n",
      "               ..\n",
      "4436.700000     1\n",
      "1154.342000     1\n",
      "451.053400      1\n",
      "3239.142900     1\n",
      "3194.359820     1\n",
      "Name: generation_gwh_2014, Length: 371, dtype: int64\n",
      "\n",
      "\n",
      "0.000000        27\n",
      "843.747000       1\n",
      "1497.798000      1\n",
      "10422.690000     1\n",
      "240.799900       1\n",
      "                ..\n",
      "6996.000000      1\n",
      "14192.000000     1\n",
      "219.377600       1\n",
      "288.460450       1\n",
      "0.994875         1\n",
      "Name: generation_gwh_2015, Length: 396, dtype: int64\n",
      "\n",
      "\n",
      "0.000000       30\n",
      "8470.570000     2\n",
      "1511.000000     2\n",
      "886.004428      1\n",
      "90.644500       1\n",
      "               ..\n",
      "1338.095900     1\n",
      "131.021600      1\n",
      "6130.019928     1\n",
      "5931.490000     1\n",
      "233.596650      1\n",
      "Name: generation_gwh_2016, Length: 403, dtype: int64\n",
      "\n",
      "\n",
      "0.00000        32\n",
      "170.08530       2\n",
      "663.77450       1\n",
      "1632.36715      1\n",
      "272.73945       1\n",
      "               ..\n",
      "15177.00000     1\n",
      "191.94545       1\n",
      "307.37540       1\n",
      "382.43820       1\n",
      "865.40000       1\n",
      "Name: generation_gwh_2017, Length: 408, dtype: int64\n",
      "\n",
      "\n",
      "0.000000        39\n",
      "626.239128       1\n",
      "505.420200       1\n",
      "1098.450150      1\n",
      "17.213500        1\n",
      "                ..\n",
      "220.551700       1\n",
      "7321.267900      1\n",
      "6532.350000      1\n",
      "15305.220000     1\n",
      "686.500000       1\n",
      "Name: generation_gwh_2018, Length: 410, dtype: int64\n",
      "\n",
      "\n",
      "Series([], Name: generation_gwh_2019, dtype: int64)\n",
      "\n",
      "\n",
      "Central Electricity Authority    449\n",
      "Name: generation_data_source, dtype: int64\n",
      "\n",
      "\n",
      "Series([], Name: estimated_generation_gwh, dtype: int64)\n",
      "\n",
      "\n"
     ]
    }
   ],
   "source": [
    "#checking the value counts of unique values in each column\n",
    "for i in df.columns:\n",
    "    print(df[i].value_counts())\n",
    "    print('\\n')  #new line"
   ]
  },
  {
   "cell_type": "code",
   "execution_count": 15,
   "id": "9cc6ab81",
   "metadata": {},
   "outputs": [],
   "source": [
    "# Primary fule will be predicted with classificatio model as thee are only 8 unique values out of 907\n",
    "# capicity_mw will be predicted with regression model as there are 361 unique values out of 907"
   ]
  },
  {
   "cell_type": "code",
   "execution_count": 16,
   "id": "f541ced5",
   "metadata": {},
   "outputs": [],
   "source": [
    "# Dropping columns which are not useful\n",
    "df=df.drop('country',axis=1)\n",
    "df=df.drop('country_long',axis=1)\n",
    "df=df.drop('other_fuel3',axis=1)\n",
    "df=df.drop('wepp_id',axis=1)\n",
    "df=df.drop('estimated_generation_gwh',axis=1)\n",
    "df=df.drop('generation_gwh_2019',axis=1)\n",
    "df=df.drop('generation_gwh_2013',axis=1)\n",
    "df=df.drop('generation_gwh_2014',axis=1)\n",
    "df=df.drop('generation_gwh_2016',axis=1)\n",
    "df=df.drop('generation_gwh_2015',axis=1)\n",
    "df=df.drop('generation_gwh_2017',axis=1)\n",
    "df=df.drop('generation_gwh_2018',axis=1)\n",
    "df=df.drop('other_fuel1',axis=1)\n",
    "df=df.drop('other_fuel2',axis=1)\n",
    "df=df.drop('year_of_capacity_data',axis=1)\n",
    "df=df.drop('commissioning_year',axis=1)\n",
    "df=df.drop('owner',axis=1)\n",
    "df=df.drop('generation_data_source',axis=1)"
   ]
  },
  {
   "cell_type": "code",
   "execution_count": 17,
   "id": "6de5cb2d",
   "metadata": {},
   "outputs": [],
   "source": [
    "# lots of colums are dropped as they are containing more than 50% of NaN data so they wont be of any use to us"
   ]
  },
  {
   "cell_type": "code",
   "execution_count": 18,
   "id": "15800910",
   "metadata": {},
   "outputs": [
    {
     "data": {
      "text/html": [
       "<div>\n",
       "<style scoped>\n",
       "    .dataframe tbody tr th:only-of-type {\n",
       "        vertical-align: middle;\n",
       "    }\n",
       "\n",
       "    .dataframe tbody tr th {\n",
       "        vertical-align: top;\n",
       "    }\n",
       "\n",
       "    .dataframe thead th {\n",
       "        text-align: right;\n",
       "    }\n",
       "</style>\n",
       "<table border=\"1\" class=\"dataframe\">\n",
       "  <thead>\n",
       "    <tr style=\"text-align: right;\">\n",
       "      <th></th>\n",
       "      <th>name</th>\n",
       "      <th>gppd_idnr</th>\n",
       "      <th>capacity_mw</th>\n",
       "      <th>latitude</th>\n",
       "      <th>longitude</th>\n",
       "      <th>primary_fuel</th>\n",
       "      <th>source</th>\n",
       "      <th>url</th>\n",
       "      <th>geolocation_source</th>\n",
       "    </tr>\n",
       "  </thead>\n",
       "  <tbody>\n",
       "    <tr>\n",
       "      <th>0</th>\n",
       "      <td>ACME Solar Tower</td>\n",
       "      <td>WRI1020239</td>\n",
       "      <td>2.5</td>\n",
       "      <td>28.1839</td>\n",
       "      <td>73.2407</td>\n",
       "      <td>Solar</td>\n",
       "      <td>National Renewable Energy Laboratory</td>\n",
       "      <td>http://www.nrel.gov/csp/solarpaces/project_det...</td>\n",
       "      <td>National Renewable Energy Laboratory</td>\n",
       "    </tr>\n",
       "    <tr>\n",
       "      <th>1</th>\n",
       "      <td>ADITYA CEMENT WORKS</td>\n",
       "      <td>WRI1019881</td>\n",
       "      <td>98.0</td>\n",
       "      <td>24.7663</td>\n",
       "      <td>74.6090</td>\n",
       "      <td>Coal</td>\n",
       "      <td>Ultratech Cement ltd</td>\n",
       "      <td>http://www.ultratechcement.com/</td>\n",
       "      <td>WRI</td>\n",
       "    </tr>\n",
       "    <tr>\n",
       "      <th>2</th>\n",
       "      <td>AES Saurashtra Windfarms</td>\n",
       "      <td>WRI1026669</td>\n",
       "      <td>39.2</td>\n",
       "      <td>21.9038</td>\n",
       "      <td>69.3732</td>\n",
       "      <td>Wind</td>\n",
       "      <td>CDM</td>\n",
       "      <td>https://cdm.unfccc.int/Projects/DB/DNV-CUK1328...</td>\n",
       "      <td>WRI</td>\n",
       "    </tr>\n",
       "    <tr>\n",
       "      <th>3</th>\n",
       "      <td>AGARTALA GT</td>\n",
       "      <td>IND0000001</td>\n",
       "      <td>135.0</td>\n",
       "      <td>23.8712</td>\n",
       "      <td>91.3602</td>\n",
       "      <td>Gas</td>\n",
       "      <td>Central Electricity Authority</td>\n",
       "      <td>http://www.cea.nic.in/</td>\n",
       "      <td>WRI</td>\n",
       "    </tr>\n",
       "    <tr>\n",
       "      <th>4</th>\n",
       "      <td>AKALTARA TPP</td>\n",
       "      <td>IND0000002</td>\n",
       "      <td>1800.0</td>\n",
       "      <td>21.9603</td>\n",
       "      <td>82.4091</td>\n",
       "      <td>Coal</td>\n",
       "      <td>Central Electricity Authority</td>\n",
       "      <td>http://www.cea.nic.in/</td>\n",
       "      <td>WRI</td>\n",
       "    </tr>\n",
       "    <tr>\n",
       "      <th>...</th>\n",
       "      <td>...</td>\n",
       "      <td>...</td>\n",
       "      <td>...</td>\n",
       "      <td>...</td>\n",
       "      <td>...</td>\n",
       "      <td>...</td>\n",
       "      <td>...</td>\n",
       "      <td>...</td>\n",
       "      <td>...</td>\n",
       "    </tr>\n",
       "    <tr>\n",
       "      <th>902</th>\n",
       "      <td>YERMARUS TPP</td>\n",
       "      <td>IND0000513</td>\n",
       "      <td>1600.0</td>\n",
       "      <td>16.2949</td>\n",
       "      <td>77.3568</td>\n",
       "      <td>Coal</td>\n",
       "      <td>Central Electricity Authority</td>\n",
       "      <td>http://www.cea.nic.in/</td>\n",
       "      <td>WRI</td>\n",
       "    </tr>\n",
       "    <tr>\n",
       "      <th>903</th>\n",
       "      <td>Yelesandra Solar Power Plant</td>\n",
       "      <td>WRI1026222</td>\n",
       "      <td>3.0</td>\n",
       "      <td>12.8932</td>\n",
       "      <td>78.1654</td>\n",
       "      <td>Solar</td>\n",
       "      <td>Karnataka Power Corporation Limited</td>\n",
       "      <td>http://karnatakapower.com</td>\n",
       "      <td>Industry About</td>\n",
       "    </tr>\n",
       "    <tr>\n",
       "      <th>904</th>\n",
       "      <td>Yelisirur wind power project</td>\n",
       "      <td>WRI1026776</td>\n",
       "      <td>25.5</td>\n",
       "      <td>15.2758</td>\n",
       "      <td>75.5811</td>\n",
       "      <td>Wind</td>\n",
       "      <td>CDM</td>\n",
       "      <td>https://cdm.unfccc.int/Projects/DB/TUEV-RHEIN1...</td>\n",
       "      <td>WRI</td>\n",
       "    </tr>\n",
       "    <tr>\n",
       "      <th>905</th>\n",
       "      <td>ZAWAR MINES</td>\n",
       "      <td>WRI1019901</td>\n",
       "      <td>80.0</td>\n",
       "      <td>24.3500</td>\n",
       "      <td>73.7477</td>\n",
       "      <td>Coal</td>\n",
       "      <td>Hindustan Zinc ltd</td>\n",
       "      <td>http://www.hzlindia.com/</td>\n",
       "      <td>WRI</td>\n",
       "    </tr>\n",
       "    <tr>\n",
       "      <th>906</th>\n",
       "      <td>iEnergy Theni Wind Farm</td>\n",
       "      <td>WRI1026761</td>\n",
       "      <td>16.5</td>\n",
       "      <td>9.9344</td>\n",
       "      <td>77.4768</td>\n",
       "      <td>Wind</td>\n",
       "      <td>CDM</td>\n",
       "      <td>https://cdm.unfccc.int/Projects/DB/RWTUV134503...</td>\n",
       "      <td>WRI</td>\n",
       "    </tr>\n",
       "  </tbody>\n",
       "</table>\n",
       "<p>907 rows × 9 columns</p>\n",
       "</div>"
      ],
      "text/plain": [
       "                             name   gppd_idnr  capacity_mw  latitude  \\\n",
       "0                ACME Solar Tower  WRI1020239          2.5   28.1839   \n",
       "1             ADITYA CEMENT WORKS  WRI1019881         98.0   24.7663   \n",
       "2        AES Saurashtra Windfarms  WRI1026669         39.2   21.9038   \n",
       "3                     AGARTALA GT  IND0000001        135.0   23.8712   \n",
       "4                    AKALTARA TPP  IND0000002       1800.0   21.9603   \n",
       "..                            ...         ...          ...       ...   \n",
       "902                  YERMARUS TPP  IND0000513       1600.0   16.2949   \n",
       "903  Yelesandra Solar Power Plant  WRI1026222          3.0   12.8932   \n",
       "904  Yelisirur wind power project  WRI1026776         25.5   15.2758   \n",
       "905                   ZAWAR MINES  WRI1019901         80.0   24.3500   \n",
       "906       iEnergy Theni Wind Farm  WRI1026761         16.5    9.9344   \n",
       "\n",
       "     longitude primary_fuel                                source  \\\n",
       "0      73.2407        Solar  National Renewable Energy Laboratory   \n",
       "1      74.6090         Coal                  Ultratech Cement ltd   \n",
       "2      69.3732         Wind                                   CDM   \n",
       "3      91.3602          Gas         Central Electricity Authority   \n",
       "4      82.4091         Coal         Central Electricity Authority   \n",
       "..         ...          ...                                   ...   \n",
       "902    77.3568         Coal         Central Electricity Authority   \n",
       "903    78.1654        Solar   Karnataka Power Corporation Limited   \n",
       "904    75.5811         Wind                                   CDM   \n",
       "905    73.7477         Coal                    Hindustan Zinc ltd   \n",
       "906    77.4768         Wind                                   CDM   \n",
       "\n",
       "                                                   url  \\\n",
       "0    http://www.nrel.gov/csp/solarpaces/project_det...   \n",
       "1                      http://www.ultratechcement.com/   \n",
       "2    https://cdm.unfccc.int/Projects/DB/DNV-CUK1328...   \n",
       "3                               http://www.cea.nic.in/   \n",
       "4                               http://www.cea.nic.in/   \n",
       "..                                                 ...   \n",
       "902                             http://www.cea.nic.in/   \n",
       "903                          http://karnatakapower.com   \n",
       "904  https://cdm.unfccc.int/Projects/DB/TUEV-RHEIN1...   \n",
       "905                           http://www.hzlindia.com/   \n",
       "906  https://cdm.unfccc.int/Projects/DB/RWTUV134503...   \n",
       "\n",
       "                       geolocation_source  \n",
       "0    National Renewable Energy Laboratory  \n",
       "1                                     WRI  \n",
       "2                                     WRI  \n",
       "3                                     WRI  \n",
       "4                                     WRI  \n",
       "..                                    ...  \n",
       "902                                   WRI  \n",
       "903                        Industry About  \n",
       "904                                   WRI  \n",
       "905                                   WRI  \n",
       "906                                   WRI  \n",
       "\n",
       "[907 rows x 9 columns]"
      ]
     },
     "execution_count": 18,
     "metadata": {},
     "output_type": "execute_result"
    }
   ],
   "source": [
    "df"
   ]
  },
  {
   "cell_type": "code",
   "execution_count": 19,
   "id": "82b26150",
   "metadata": {},
   "outputs": [
    {
     "data": {
      "text/plain": [
       "(907, 9)"
      ]
     },
     "execution_count": 19,
     "metadata": {},
     "output_type": "execute_result"
    }
   ],
   "source": [
    "df.shape  #Dimension of the dataset"
   ]
  },
  {
   "cell_type": "code",
   "execution_count": 20,
   "id": "b63245ba",
   "metadata": {},
   "outputs": [
    {
     "data": {
      "text/plain": [
       "name                   0\n",
       "gppd_idnr              0\n",
       "capacity_mw            0\n",
       "latitude              46\n",
       "longitude             46\n",
       "primary_fuel           0\n",
       "source                 0\n",
       "url                    0\n",
       "geolocation_source    19\n",
       "dtype: int64"
      ]
     },
     "execution_count": 20,
     "metadata": {},
     "output_type": "execute_result"
    }
   ],
   "source": [
    "df.isnull().sum()"
   ]
  },
  {
   "cell_type": "code",
   "execution_count": 21,
   "id": "f4423b63",
   "metadata": {},
   "outputs": [],
   "source": [
    "# Calculate the mean of 'latitude', 'longitude', and 'geolocation_source'\n",
    "mean_latitude = df['latitude'].mean()\n",
    "mean_longitude = df['longitude'].mean()\n",
    "# Assuming 'geolocation_source' is a categorical column, let's fill NaN with the mode\n",
    "mode_geolocation_source = df['geolocation_source'].mode()[0]\n",
    "\n",
    "# Fill NaN values with the mean/mode of their respective columns\n",
    "df['latitude'].fillna(mean_latitude, inplace=True)\n",
    "df['longitude'].fillna(mean_longitude, inplace=True)\n",
    "df['geolocation_source'].fillna(mode_geolocation_source, inplace=True)"
   ]
  },
  {
   "cell_type": "code",
   "execution_count": 22,
   "id": "520f023c",
   "metadata": {},
   "outputs": [
    {
     "data": {
      "text/plain": [
       "<AxesSubplot:>"
      ]
     },
     "execution_count": 22,
     "metadata": {},
     "output_type": "execute_result"
    },
    {
     "data": {
      "image/png": "[encoded data removed]",
      "text/plain": [
       "<Figure size 432x288 with 2 Axes>"
      ]
     },
     "metadata": {
      "needs_background": "light"
     },
     "output_type": "display_data"
    }
   ],
   "source": [
    "sns.heatmap(df.isnull())   #Heatmap is of single colour as there are no null values"
   ]
  },
  {
   "cell_type": "code",
   "execution_count": 23,
   "id": "2474b8ba",
   "metadata": {},
   "outputs": [
    {
     "data": {
      "text/html": [
       "<div>\n",
       "<style scoped>\n",
       "    .dataframe tbody tr th:only-of-type {\n",
       "        vertical-align: middle;\n",
       "    }\n",
       "\n",
       "    .dataframe tbody tr th {\n",
       "        vertical-align: top;\n",
       "    }\n",
       "\n",
       "    .dataframe thead th {\n",
       "        text-align: right;\n",
       "    }\n",
       "</style>\n",
       "<table border=\"1\" class=\"dataframe\">\n",
       "  <thead>\n",
       "    <tr style=\"text-align: right;\">\n",
       "      <th></th>\n",
       "      <th>No. of unique values</th>\n",
       "    </tr>\n",
       "  </thead>\n",
       "  <tbody>\n",
       "    <tr>\n",
       "      <th>name</th>\n",
       "      <td>907</td>\n",
       "    </tr>\n",
       "    <tr>\n",
       "      <th>gppd_idnr</th>\n",
       "      <td>907</td>\n",
       "    </tr>\n",
       "    <tr>\n",
       "      <th>capacity_mw</th>\n",
       "      <td>361</td>\n",
       "    </tr>\n",
       "    <tr>\n",
       "      <th>latitude</th>\n",
       "      <td>837</td>\n",
       "    </tr>\n",
       "    <tr>\n",
       "      <th>longitude</th>\n",
       "      <td>828</td>\n",
       "    </tr>\n",
       "    <tr>\n",
       "      <th>primary_fuel</th>\n",
       "      <td>8</td>\n",
       "    </tr>\n",
       "    <tr>\n",
       "      <th>source</th>\n",
       "      <td>191</td>\n",
       "    </tr>\n",
       "    <tr>\n",
       "      <th>url</th>\n",
       "      <td>304</td>\n",
       "    </tr>\n",
       "    <tr>\n",
       "      <th>geolocation_source</th>\n",
       "      <td>3</td>\n",
       "    </tr>\n",
       "  </tbody>\n",
       "</table>\n",
       "</div>"
      ],
      "text/plain": [
       "                    No. of unique values\n",
       "name                                 907\n",
       "gppd_idnr                            907\n",
       "capacity_mw                          361\n",
       "latitude                             837\n",
       "longitude                            828\n",
       "primary_fuel                           8\n",
       "source                               191\n",
       "url                                  304\n",
       "geolocation_source                     3"
      ]
     },
     "execution_count": 23,
     "metadata": {},
     "output_type": "execute_result"
    }
   ],
   "source": [
    "df.nunique().to_frame(\"No. of unique values\") "
   ]
  },
  {
   "cell_type": "code",
   "execution_count": 24,
   "id": "4ef4df91",
   "metadata": {},
   "outputs": [
    {
     "data": {
      "text/plain": [
       "name                   object\n",
       "gppd_idnr              object\n",
       "capacity_mw           float64\n",
       "latitude              float64\n",
       "longitude             float64\n",
       "primary_fuel           object\n",
       "source                 object\n",
       "url                    object\n",
       "geolocation_source     object\n",
       "dtype: object"
      ]
     },
     "execution_count": 24,
     "metadata": {},
     "output_type": "execute_result"
    }
   ],
   "source": [
    "df.dtypes"
   ]
  },
  {
   "cell_type": "code",
   "execution_count": 25,
   "id": "f4d5a74a",
   "metadata": {},
   "outputs": [
    {
     "data": {
      "text/html": [
       "<div>\n",
       "<style scoped>\n",
       "    .dataframe tbody tr th:only-of-type {\n",
       "        vertical-align: middle;\n",
       "    }\n",
       "\n",
       "    .dataframe tbody tr th {\n",
       "        vertical-align: top;\n",
       "    }\n",
       "\n",
       "    .dataframe thead th {\n",
       "        text-align: right;\n",
       "    }\n",
       "</style>\n",
       "<table border=\"1\" class=\"dataframe\">\n",
       "  <thead>\n",
       "    <tr style=\"text-align: right;\">\n",
       "      <th></th>\n",
       "      <th>capacity_mw</th>\n",
       "      <th>latitude</th>\n",
       "      <th>longitude</th>\n",
       "    </tr>\n",
       "  </thead>\n",
       "  <tbody>\n",
       "    <tr>\n",
       "      <th>count</th>\n",
       "      <td>907.000000</td>\n",
       "      <td>907.000000</td>\n",
       "      <td>907.000000</td>\n",
       "    </tr>\n",
       "    <tr>\n",
       "      <th>mean</th>\n",
       "      <td>326.223755</td>\n",
       "      <td>21.197918</td>\n",
       "      <td>77.464907</td>\n",
       "    </tr>\n",
       "    <tr>\n",
       "      <th>std</th>\n",
       "      <td>590.085456</td>\n",
       "      <td>6.079148</td>\n",
       "      <td>4.812291</td>\n",
       "    </tr>\n",
       "    <tr>\n",
       "      <th>min</th>\n",
       "      <td>0.000000</td>\n",
       "      <td>8.168900</td>\n",
       "      <td>68.644700</td>\n",
       "    </tr>\n",
       "    <tr>\n",
       "      <th>25%</th>\n",
       "      <td>16.725000</td>\n",
       "      <td>17.072000</td>\n",
       "      <td>74.388900</td>\n",
       "    </tr>\n",
       "    <tr>\n",
       "      <th>50%</th>\n",
       "      <td>59.200000</td>\n",
       "      <td>21.281800</td>\n",
       "      <td>76.979200</td>\n",
       "    </tr>\n",
       "    <tr>\n",
       "      <th>75%</th>\n",
       "      <td>385.250000</td>\n",
       "      <td>25.176450</td>\n",
       "      <td>79.206100</td>\n",
       "    </tr>\n",
       "    <tr>\n",
       "      <th>max</th>\n",
       "      <td>4760.000000</td>\n",
       "      <td>34.649000</td>\n",
       "      <td>95.408000</td>\n",
       "    </tr>\n",
       "  </tbody>\n",
       "</table>\n",
       "</div>"
      ],
      "text/plain": [
       "       capacity_mw    latitude   longitude\n",
       "count   907.000000  907.000000  907.000000\n",
       "mean    326.223755   21.197918   77.464907\n",
       "std     590.085456    6.079148    4.812291\n",
       "min       0.000000    8.168900   68.644700\n",
       "25%      16.725000   17.072000   74.388900\n",
       "50%      59.200000   21.281800   76.979200\n",
       "75%     385.250000   25.176450   79.206100\n",
       "max    4760.000000   34.649000   95.408000"
      ]
     },
     "execution_count": 25,
     "metadata": {},
     "output_type": "execute_result"
    }
   ],
   "source": [
    "df.describe()"
   ]
  },
  {
   "cell_type": "code",
   "execution_count": 26,
   "id": "8202f5d4",
   "metadata": {},
   "outputs": [
    {
     "name": "stdout",
     "output_type": "stream",
     "text": [
      "Coal       258\n",
      "Hydro      251\n",
      "Solar      127\n",
      "Wind       123\n",
      "Gas         69\n",
      "Biomass     50\n",
      "Oil         20\n",
      "Nuclear      9\n",
      "Name: primary_fuel, dtype: int64\n"
     ]
    },
    {
     "data": {
      "image/png": "[encoded data removed]",
      "text/plain": [
       "<Figure size 432x288 with 1 Axes>"
      ]
     },
     "metadata": {
      "needs_background": "light"
     },
     "output_type": "display_data"
    }
   ],
   "source": [
    "#Univariate Analysis\n",
    "datamap=sns.countplot(df['primary_fuel'],data=df)\n",
    "print(df['primary_fuel'].value_counts())"
   ]
  },
  {
   "cell_type": "code",
   "execution_count": 27,
   "id": "43e2544e",
   "metadata": {},
   "outputs": [
    {
     "name": "stdout",
     "output_type": "stream",
     "text": [
      "WRI                                     784\n",
      "Industry About                          119\n",
      "National Renewable Energy Laboratory      4\n",
      "Name: geolocation_source, dtype: int64\n"
     ]
    },
    {
     "data": {
      "image/png": "[encoded data removed]",
      "text/plain": [
       "<Figure size 432x288 with 1 Axes>"
      ]
     },
     "metadata": {
      "needs_background": "light"
     },
     "output_type": "display_data"
    }
   ],
   "source": [
    "datamap=sns.countplot(df['geolocation_source'],data=df)\n",
    "print(df['geolocation_source'].value_counts())"
   ]
  },
  {
   "cell_type": "code",
   "execution_count": 28,
   "id": "f57c5775",
   "metadata": {},
   "outputs": [],
   "source": [
    "#Bivariate Analysis"
   ]
  },
  {
   "cell_type": "code",
   "execution_count": 29,
   "id": "eb034425",
   "metadata": {},
   "outputs": [],
   "source": [
    "#Map categorical values to numerical values\n",
    "primary_fuel_mapping = {'Coal': 1, 'Gas': 2, 'Oil': 3, 'Solar': 4, 'Wind': 5, 'Hydro': 6, 'Nuclear': 7, 'Biomass': 8}\n",
    "df['primary_fuel'] = df['primary_fuel'].map(primary_fuel_mapping)"
   ]
  },
  {
   "cell_type": "code",
   "execution_count": 30,
   "id": "c6a3179e",
   "metadata": {},
   "outputs": [
    {
     "data": {
      "text/html": [
       "<div>\n",
       "<style scoped>\n",
       "    .dataframe tbody tr th:only-of-type {\n",
       "        vertical-align: middle;\n",
       "    }\n",
       "\n",
       "    .dataframe tbody tr th {\n",
       "        vertical-align: top;\n",
       "    }\n",
       "\n",
       "    .dataframe thead th {\n",
       "        text-align: right;\n",
       "    }\n",
       "</style>\n",
       "<table border=\"1\" class=\"dataframe\">\n",
       "  <thead>\n",
       "    <tr style=\"text-align: right;\">\n",
       "      <th></th>\n",
       "      <th>name</th>\n",
       "      <th>gppd_idnr</th>\n",
       "      <th>capacity_mw</th>\n",
       "      <th>latitude</th>\n",
       "      <th>longitude</th>\n",
       "      <th>primary_fuel</th>\n",
       "      <th>source</th>\n",
       "      <th>url</th>\n",
       "      <th>geolocation_source</th>\n",
       "    </tr>\n",
       "  </thead>\n",
       "  <tbody>\n",
       "    <tr>\n",
       "      <th>0</th>\n",
       "      <td>ACME Solar Tower</td>\n",
       "      <td>WRI1020239</td>\n",
       "      <td>2.5</td>\n",
       "      <td>28.1839</td>\n",
       "      <td>73.2407</td>\n",
       "      <td>4</td>\n",
       "      <td>National Renewable Energy Laboratory</td>\n",
       "      <td>http://www.nrel.gov/csp/solarpaces/project_det...</td>\n",
       "      <td>National Renewable Energy Laboratory</td>\n",
       "    </tr>\n",
       "    <tr>\n",
       "      <th>1</th>\n",
       "      <td>ADITYA CEMENT WORKS</td>\n",
       "      <td>WRI1019881</td>\n",
       "      <td>98.0</td>\n",
       "      <td>24.7663</td>\n",
       "      <td>74.6090</td>\n",
       "      <td>1</td>\n",
       "      <td>Ultratech Cement ltd</td>\n",
       "      <td>http://www.ultratechcement.com/</td>\n",
       "      <td>WRI</td>\n",
       "    </tr>\n",
       "    <tr>\n",
       "      <th>2</th>\n",
       "      <td>AES Saurashtra Windfarms</td>\n",
       "      <td>WRI1026669</td>\n",
       "      <td>39.2</td>\n",
       "      <td>21.9038</td>\n",
       "      <td>69.3732</td>\n",
       "      <td>5</td>\n",
       "      <td>CDM</td>\n",
       "      <td>https://cdm.unfccc.int/Projects/DB/DNV-CUK1328...</td>\n",
       "      <td>WRI</td>\n",
       "    </tr>\n",
       "    <tr>\n",
       "      <th>3</th>\n",
       "      <td>AGARTALA GT</td>\n",
       "      <td>IND0000001</td>\n",
       "      <td>135.0</td>\n",
       "      <td>23.8712</td>\n",
       "      <td>91.3602</td>\n",
       "      <td>2</td>\n",
       "      <td>Central Electricity Authority</td>\n",
       "      <td>http://www.cea.nic.in/</td>\n",
       "      <td>WRI</td>\n",
       "    </tr>\n",
       "    <tr>\n",
       "      <th>4</th>\n",
       "      <td>AKALTARA TPP</td>\n",
       "      <td>IND0000002</td>\n",
       "      <td>1800.0</td>\n",
       "      <td>21.9603</td>\n",
       "      <td>82.4091</td>\n",
       "      <td>1</td>\n",
       "      <td>Central Electricity Authority</td>\n",
       "      <td>http://www.cea.nic.in/</td>\n",
       "      <td>WRI</td>\n",
       "    </tr>\n",
       "    <tr>\n",
       "      <th>...</th>\n",
       "      <td>...</td>\n",
       "      <td>...</td>\n",
       "      <td>...</td>\n",
       "      <td>...</td>\n",
       "      <td>...</td>\n",
       "      <td>...</td>\n",
       "      <td>...</td>\n",
       "      <td>...</td>\n",
       "      <td>...</td>\n",
       "    </tr>\n",
       "    <tr>\n",
       "      <th>902</th>\n",
       "      <td>YERMARUS TPP</td>\n",
       "      <td>IND0000513</td>\n",
       "      <td>1600.0</td>\n",
       "      <td>16.2949</td>\n",
       "      <td>77.3568</td>\n",
       "      <td>1</td>\n",
       "      <td>Central Electricity Authority</td>\n",
       "      <td>http://www.cea.nic.in/</td>\n",
       "      <td>WRI</td>\n",
       "    </tr>\n",
       "    <tr>\n",
       "      <th>903</th>\n",
       "      <td>Yelesandra Solar Power Plant</td>\n",
       "      <td>WRI1026222</td>\n",
       "      <td>3.0</td>\n",
       "      <td>12.8932</td>\n",
       "      <td>78.1654</td>\n",
       "      <td>4</td>\n",
       "      <td>Karnataka Power Corporation Limited</td>\n",
       "      <td>http://karnatakapower.com</td>\n",
       "      <td>Industry About</td>\n",
       "    </tr>\n",
       "    <tr>\n",
       "      <th>904</th>\n",
       "      <td>Yelisirur wind power project</td>\n",
       "      <td>WRI1026776</td>\n",
       "      <td>25.5</td>\n",
       "      <td>15.2758</td>\n",
       "      <td>75.5811</td>\n",
       "      <td>5</td>\n",
       "      <td>CDM</td>\n",
       "      <td>https://cdm.unfccc.int/Projects/DB/TUEV-RHEIN1...</td>\n",
       "      <td>WRI</td>\n",
       "    </tr>\n",
       "    <tr>\n",
       "      <th>905</th>\n",
       "      <td>ZAWAR MINES</td>\n",
       "      <td>WRI1019901</td>\n",
       "      <td>80.0</td>\n",
       "      <td>24.3500</td>\n",
       "      <td>73.7477</td>\n",
       "      <td>1</td>\n",
       "      <td>Hindustan Zinc ltd</td>\n",
       "      <td>http://www.hzlindia.com/</td>\n",
       "      <td>WRI</td>\n",
       "    </tr>\n",
       "    <tr>\n",
       "      <th>906</th>\n",
       "      <td>iEnergy Theni Wind Farm</td>\n",
       "      <td>WRI1026761</td>\n",
       "      <td>16.5</td>\n",
       "      <td>9.9344</td>\n",
       "      <td>77.4768</td>\n",
       "      <td>5</td>\n",
       "      <td>CDM</td>\n",
       "      <td>https://cdm.unfccc.int/Projects/DB/RWTUV134503...</td>\n",
       "      <td>WRI</td>\n",
       "    </tr>\n",
       "  </tbody>\n",
       "</table>\n",
       "<p>907 rows × 9 columns</p>\n",
       "</div>"
      ],
      "text/plain": [
       "                             name   gppd_idnr  capacity_mw  latitude  \\\n",
       "0                ACME Solar Tower  WRI1020239          2.5   28.1839   \n",
       "1             ADITYA CEMENT WORKS  WRI1019881         98.0   24.7663   \n",
       "2        AES Saurashtra Windfarms  WRI1026669         39.2   21.9038   \n",
       "3                     AGARTALA GT  IND0000001        135.0   23.8712   \n",
       "4                    AKALTARA TPP  IND0000002       1800.0   21.9603   \n",
       "..                            ...         ...          ...       ...   \n",
       "902                  YERMARUS TPP  IND0000513       1600.0   16.2949   \n",
       "903  Yelesandra Solar Power Plant  WRI1026222          3.0   12.8932   \n",
       "904  Yelisirur wind power project  WRI1026776         25.5   15.2758   \n",
       "905                   ZAWAR MINES  WRI1019901         80.0   24.3500   \n",
       "906       iEnergy Theni Wind Farm  WRI1026761         16.5    9.9344   \n",
       "\n",
       "     longitude  primary_fuel                                source  \\\n",
       "0      73.2407             4  National Renewable Energy Laboratory   \n",
       "1      74.6090             1                  Ultratech Cement ltd   \n",
       "2      69.3732             5                                   CDM   \n",
       "3      91.3602             2         Central Electricity Authority   \n",
       "4      82.4091             1         Central Electricity Authority   \n",
       "..         ...           ...                                   ...   \n",
       "902    77.3568             1         Central Electricity Authority   \n",
       "903    78.1654             4   Karnataka Power Corporation Limited   \n",
       "904    75.5811             5                                   CDM   \n",
       "905    73.7477             1                    Hindustan Zinc ltd   \n",
       "906    77.4768             5                                   CDM   \n",
       "\n",
       "                                                   url  \\\n",
       "0    http://www.nrel.gov/csp/solarpaces/project_det...   \n",
       "1                      http://www.ultratechcement.com/   \n",
       "2    https://cdm.unfccc.int/Projects/DB/DNV-CUK1328...   \n",
       "3                               http://www.cea.nic.in/   \n",
       "4                               http://www.cea.nic.in/   \n",
       "..                                                 ...   \n",
       "902                             http://www.cea.nic.in/   \n",
       "903                          http://karnatakapower.com   \n",
       "904  https://cdm.unfccc.int/Projects/DB/TUEV-RHEIN1...   \n",
       "905                           http://www.hzlindia.com/   \n",
       "906  https://cdm.unfccc.int/Projects/DB/RWTUV134503...   \n",
       "\n",
       "                       geolocation_source  \n",
       "0    National Renewable Energy Laboratory  \n",
       "1                                     WRI  \n",
       "2                                     WRI  \n",
       "3                                     WRI  \n",
       "4                                     WRI  \n",
       "..                                    ...  \n",
       "902                                   WRI  \n",
       "903                        Industry About  \n",
       "904                                   WRI  \n",
       "905                                   WRI  \n",
       "906                                   WRI  \n",
       "\n",
       "[907 rows x 9 columns]"
      ]
     },
     "execution_count": 30,
     "metadata": {},
     "output_type": "execute_result"
    }
   ],
   "source": [
    "df"
   ]
  },
  {
   "cell_type": "code",
   "execution_count": 31,
   "id": "ab6a288b",
   "metadata": {},
   "outputs": [
    {
     "data": {
      "text/plain": [
       "<seaborn.axisgrid.FacetGrid at 0x2905765ad90>"
      ]
     },
     "execution_count": 31,
     "metadata": {},
     "output_type": "execute_result"
    },
    {
     "data": {
      "image/png": "[encoded data removed]",
      "text/plain": [
       "<Figure size 360x360 with 1 Axes>"
      ]
     },
     "metadata": {
      "needs_background": "light"
     },
     "output_type": "display_data"
    }
   ],
   "source": [
    "sns.lmplot(x='latitude',y='primary_fuel',data=df)"
   ]
  },
  {
   "cell_type": "code",
   "execution_count": 32,
   "id": "68479db9",
   "metadata": {},
   "outputs": [],
   "source": [
    "#latitude is showng a negative coreation with primary_fuel"
   ]
  },
  {
   "cell_type": "code",
   "execution_count": 33,
   "id": "55964ed1",
   "metadata": {},
   "outputs": [
    {
     "data": {
      "text/plain": [
       "<seaborn.axisgrid.FacetGrid at 0x2905744e190>"
      ]
     },
     "execution_count": 33,
     "metadata": {},
     "output_type": "execute_result"
    },
    {
     "data": {
      "image/png": "[encoded data removed]",
      "text/plain": [
       "<Figure size 360x360 with 1 Axes>"
      ]
     },
     "metadata": {
      "needs_background": "light"
     },
     "output_type": "display_data"
    }
   ],
   "source": [
    "sns.lmplot(x='longitude',y='primary_fuel',data=df)"
   ]
  },
  {
   "cell_type": "code",
   "execution_count": 34,
   "id": "78897211",
   "metadata": {},
   "outputs": [],
   "source": [
    "#longitude is showng a negative coreation with primary_fuel"
   ]
  },
  {
   "cell_type": "code",
   "execution_count": 35,
   "id": "adf09215",
   "metadata": {},
   "outputs": [
    {
     "data": {
      "image/png": "[encoded data removed]",
      "text/plain": [
       "<Figure size 432x288 with 1 Axes>"
      ]
     },
     "metadata": {
      "needs_background": "light"
     },
     "output_type": "display_data"
    }
   ],
   "source": [
    "sns.scatterplot(x='longitude',y='primary_fuel',data=df)\n",
    "plt.title('Scatter Plot')\n",
    "plt.show()"
   ]
  },
  {
   "cell_type": "code",
   "execution_count": 36,
   "id": "3b9147cb",
   "metadata": {},
   "outputs": [
    {
     "data": {
      "image/png": "[encoded data removed]",
      "text/plain": [
       "<Figure size 432x288 with 1 Axes>"
      ]
     },
     "metadata": {
      "needs_background": "light"
     },
     "output_type": "display_data"
    }
   ],
   "source": [
    "sns.scatterplot(x='longitude',y='primary_fuel',data=df)\n",
    "plt.title('Scatter Plot')\n",
    "plt.show()"
   ]
  },
  {
   "cell_type": "code",
   "execution_count": null,
   "id": "0bcb8817",
   "metadata": {},
   "outputs": [],
   "source": []
  },
  {
   "cell_type": "code",
   "execution_count": null,
   "id": "800100fa",
   "metadata": {},
   "outputs": [],
   "source": []
  },
  {
   "cell_type": "code",
   "execution_count": 37,
   "id": "a5a9aae4",
   "metadata": {},
   "outputs": [
    {
     "data": {
      "text/plain": [
       "<seaborn.axisgrid.FacetGrid at 0x290577da610>"
      ]
     },
     "execution_count": 37,
     "metadata": {},
     "output_type": "execute_result"
    },
    {
     "data": {
      "image/png": "[encoded data removed]",
      "text/plain": [
       "<Figure size 360x360 with 1 Axes>"
      ]
     },
     "metadata": {
      "needs_background": "light"
     },
     "output_type": "display_data"
    }
   ],
   "source": [
    "sns.lmplot(x='latitude',y='capacity_mw',data=df)"
   ]
  },
  {
   "cell_type": "code",
   "execution_count": 38,
   "id": "9af2af22",
   "metadata": {},
   "outputs": [
    {
     "data": {
      "text/plain": [
       "<seaborn.axisgrid.FacetGrid at 0x290577cc160>"
      ]
     },
     "execution_count": 38,
     "metadata": {},
     "output_type": "execute_result"
    },
    {
     "data": {
      "image/png": "[encoded data removed]",
      "text/plain": [
       "<Figure size 360x360 with 1 Axes>"
      ]
     },
     "metadata": {
      "needs_background": "light"
     },
     "output_type": "display_data"
    }
   ],
   "source": [
    "sns.lmplot(x='longitude',y='capacity_mw',data=df)"
   ]
  },
  {
   "cell_type": "code",
   "execution_count": 39,
   "id": "75160bd4",
   "metadata": {},
   "outputs": [],
   "source": [
    "#it is showig a positive correlation between longitude and capacity_mw"
   ]
  },
  {
   "cell_type": "code",
   "execution_count": 40,
   "id": "92ff41f0",
   "metadata": {},
   "outputs": [
    {
     "data": {
      "image/png": "[encoded data removed]",
      "text/plain": [
       "<Figure size 432x288 with 1 Axes>"
      ]
     },
     "metadata": {
      "needs_background": "light"
     },
     "output_type": "display_data"
    }
   ],
   "source": [
    "sns.scatterplot(x='longitude',y='capacity_mw',data=df)\n",
    "plt.title('Scatter Plot')\n",
    "plt.show()"
   ]
  },
  {
   "cell_type": "code",
   "execution_count": 41,
   "id": "e5f517a1",
   "metadata": {},
   "outputs": [
    {
     "data": {
      "image/png": "[encoded data removed]",
      "text/plain": [
       "<Figure size 432x288 with 1 Axes>"
      ]
     },
     "metadata": {
      "needs_background": "light"
     },
     "output_type": "display_data"
    }
   ],
   "source": [
    "sns.scatterplot(x='latitude',y='capacity_mw',data=df)\n",
    "plt.title('Scatter Plot')\n",
    "plt.show()"
   ]
  },
  {
   "cell_type": "code",
   "execution_count": 42,
   "id": "156f0fd3",
   "metadata": {},
   "outputs": [
    {
     "data": {
      "image/png": "[encoded data removed]",
      "text/plain": [
       "<Figure size 432x288 with 1 Axes>"
      ]
     },
     "metadata": {
      "needs_background": "light"
     },
     "output_type": "display_data"
    }
   ],
   "source": [
    "sns.regplot(x='capacity_mw', y='latitude', data=df)\n",
    "plt.title('Regression Plot')\n",
    "plt.show()"
   ]
  },
  {
   "cell_type": "code",
   "execution_count": 43,
   "id": "b1f9347a",
   "metadata": {},
   "outputs": [
    {
     "data": {
      "image/png": "[encoded data removed]",
      "text/plain": [
       "<Figure size 432x288 with 1 Axes>"
      ]
     },
     "metadata": {
      "needs_background": "light"
     },
     "output_type": "display_data"
    }
   ],
   "source": [
    "sns.regplot(x='capacity_mw', y='longitude', data=df)\n",
    "plt.title('Regression Plot')\n",
    "plt.show()"
   ]
  },
  {
   "cell_type": "code",
   "execution_count": 44,
   "id": "bdfe32c8",
   "metadata": {},
   "outputs": [
    {
     "name": "stdout",
     "output_type": "stream",
     "text": [
      "Categorical columns are: ['name', 'gppd_idnr', 'source', 'url', 'geolocation_source']\n",
      "\n",
      "\n",
      "Numerical columns are: ['capacity_mw', 'latitude', 'longitude', 'primary_fuel']\n",
      "\n",
      "\n"
     ]
    }
   ],
   "source": [
    "#Seperating Numerical and categorical columns\n",
    "\n",
    "categorical_col=[]\n",
    "for i in df.columns:\n",
    "    if df.dtypes[i]=='object':\n",
    "        categorical_col.append(i)\n",
    "print(\"Categorical columns are:\",categorical_col)\n",
    "print('\\n')\n",
    "\n",
    "numerical_col=[]\n",
    "for i in df.columns:\n",
    "    if df.dtypes[i]!='object':\n",
    "        numerical_col.append(i)\n",
    "print(\"Numerical columns are:\",numerical_col)\n",
    "print(\"\\n\")"
   ]
  },
  {
   "cell_type": "markdown",
   "id": "bf197ab3",
   "metadata": {},
   "source": [
    "### Checking Outliers"
   ]
  },
  {
   "cell_type": "code",
   "execution_count": 45,
   "id": "c03907b0",
   "metadata": {},
   "outputs": [
    {
     "data": {
      "image/png": "[encoded data removed]",
      "text/plain": [
       "<Figure size 1800x1800 with 4 Axes>"
      ]
     },
     "metadata": {},
     "output_type": "display_data"
    }
   ],
   "source": [
    "# lets check the outliers using boxplot\n",
    "plt.figure(figsize=(25,25),facecolor='white')\n",
    "plotnumber=1\n",
    "for col in numerical_col:\n",
    "    if plotnumber<=36:\n",
    "        ax=plt.subplot(12,2,plotnumber)     \n",
    "        sns.boxplot(df[col],palette='bright')\n",
    "        plt.xlabel(col,fontsize=15)\n",
    "        plt.yticks(rotation=0,fontsize=10)\n",
    "    plotnumber+=1\n",
    "plt.tight_layout()"
   ]
  },
  {
   "cell_type": "code",
   "execution_count": 46,
   "id": "3ee9d6cf",
   "metadata": {},
   "outputs": [],
   "source": [
    "# we can see that there are outliers in capacity_mw and longitude"
   ]
  },
  {
   "cell_type": "code",
   "execution_count": 47,
   "id": "5052e404",
   "metadata": {},
   "outputs": [
    {
     "data": {
      "text/html": [
       "<div>\n",
       "<style scoped>\n",
       "    .dataframe tbody tr th:only-of-type {\n",
       "        vertical-align: middle;\n",
       "    }\n",
       "\n",
       "    .dataframe tbody tr th {\n",
       "        vertical-align: top;\n",
       "    }\n",
       "\n",
       "    .dataframe thead th {\n",
       "        text-align: right;\n",
       "    }\n",
       "</style>\n",
       "<table border=\"1\" class=\"dataframe\">\n",
       "  <thead>\n",
       "    <tr style=\"text-align: right;\">\n",
       "      <th></th>\n",
       "      <th>capacity_mw</th>\n",
       "      <th>longitude</th>\n",
       "    </tr>\n",
       "  </thead>\n",
       "  <tbody>\n",
       "    <tr>\n",
       "      <th>0</th>\n",
       "      <td>0.548908</td>\n",
       "      <td>0.878280</td>\n",
       "    </tr>\n",
       "    <tr>\n",
       "      <th>1</th>\n",
       "      <td>0.386977</td>\n",
       "      <td>0.593788</td>\n",
       "    </tr>\n",
       "    <tr>\n",
       "      <th>2</th>\n",
       "      <td>0.486679</td>\n",
       "      <td>1.682394</td>\n",
       "    </tr>\n",
       "    <tr>\n",
       "      <th>3</th>\n",
       "      <td>0.324240</td>\n",
       "      <td>2.889052</td>\n",
       "    </tr>\n",
       "    <tr>\n",
       "      <th>4</th>\n",
       "      <td>2.498942</td>\n",
       "      <td>1.027976</td>\n",
       "    </tr>\n",
       "    <tr>\n",
       "      <th>...</th>\n",
       "      <td>...</td>\n",
       "      <td>...</td>\n",
       "    </tr>\n",
       "    <tr>\n",
       "      <th>902</th>\n",
       "      <td>2.159821</td>\n",
       "      <td>0.022477</td>\n",
       "    </tr>\n",
       "    <tr>\n",
       "      <th>903</th>\n",
       "      <td>0.548060</td>\n",
       "      <td>0.145644</td>\n",
       "    </tr>\n",
       "    <tr>\n",
       "      <th>904</th>\n",
       "      <td>0.509909</td>\n",
       "      <td>0.391673</td>\n",
       "    </tr>\n",
       "    <tr>\n",
       "      <th>905</th>\n",
       "      <td>0.417498</td>\n",
       "      <td>0.772866</td>\n",
       "    </tr>\n",
       "    <tr>\n",
       "      <th>906</th>\n",
       "      <td>0.525169</td>\n",
       "      <td>0.002473</td>\n",
       "    </tr>\n",
       "  </tbody>\n",
       "</table>\n",
       "<p>907 rows × 2 columns</p>\n",
       "</div>"
      ],
      "text/plain": [
       "     capacity_mw  longitude\n",
       "0       0.548908   0.878280\n",
       "1       0.386977   0.593788\n",
       "2       0.486679   1.682394\n",
       "3       0.324240   2.889052\n",
       "4       2.498942   1.027976\n",
       "..           ...        ...\n",
       "902     2.159821   0.022477\n",
       "903     0.548060   0.145644\n",
       "904     0.509909   0.391673\n",
       "905     0.417498   0.772866\n",
       "906     0.525169   0.002473\n",
       "\n",
       "[907 rows x 2 columns]"
      ]
     },
     "execution_count": 47,
     "metadata": {},
     "output_type": "execute_result"
    }
   ],
   "source": [
    "#Removing outliers by z score\n",
    "\n",
    "from scipy.stats import zscore\n",
    "out_features=df[['capacity_mw','longitude']]\n",
    "z=np.abs(zscore(out_features))  \n",
    "z"
   ]
  },
  {
   "cell_type": "code",
   "execution_count": 48,
   "id": "8a23fe85",
   "metadata": {},
   "outputs": [
    {
     "data": {
      "text/plain": [
       "(array([ 15, 143, 147, 179, 183, 209, 244, 308, 323, 333, 340, 360, 363,\n",
       "        364, 375, 416, 427, 482, 493, 494, 499, 519, 546, 577, 638, 648,\n",
       "        657, 695, 726, 767, 786, 788, 808, 818, 847, 880], dtype=int64),\n",
       " array([0, 0, 0, 1, 1, 0, 1, 0, 1, 1, 1, 1, 0, 0, 0, 1, 1, 0, 0, 0, 1, 1,\n",
       "        1, 1, 1, 0, 0, 0, 0, 0, 0, 0, 0, 1, 1, 0], dtype=int64))"
      ]
     },
     "execution_count": 48,
     "metadata": {},
     "output_type": "execute_result"
    }
   ],
   "source": [
    "#threshold=3\n",
    "\n",
    "np.where(z>3)"
   ]
  },
  {
   "cell_type": "code",
   "execution_count": 49,
   "id": "44281ce2",
   "metadata": {},
   "outputs": [
    {
     "data": {
      "text/plain": [
       "(871, 9)"
      ]
     },
     "execution_count": 49,
     "metadata": {},
     "output_type": "execute_result"
    }
   ],
   "source": [
    "# now removing thedata above zscore and dreating a new DF\n",
    "df1=df[(z<3).all(axis=1)]\n",
    "df1.shape"
   ]
  },
  {
   "cell_type": "code",
   "execution_count": 50,
   "id": "5e6d01b0",
   "metadata": {},
   "outputs": [
    {
     "name": "stdout",
     "output_type": "stream",
     "text": [
      "Old Data Frame - 907\n",
      "New Data Frame - 871\n"
     ]
    }
   ],
   "source": [
    "#shape of old and new data frame\n",
    "print('Old Data Frame -',df.shape[0])\n",
    "print('New Data Frame -',df1.shape[0])"
   ]
  },
  {
   "cell_type": "code",
   "execution_count": 51,
   "id": "3312ae09",
   "metadata": {},
   "outputs": [],
   "source": [
    "# Now we will use IQR method\n",
    "\n",
    "\n",
    "#1st quar=ntile\n",
    "q1=out_features.quantile(0.25)\n",
    " \n",
    "\n",
    "#3rd quantile\n",
    "q3=out_features.quantile(0.75)\n",
    "\n",
    "#IQR\n",
    "IQR=q3-q1"
   ]
  },
  {
   "cell_type": "code",
   "execution_count": 52,
   "id": "af5edc3f",
   "metadata": {},
   "outputs": [],
   "source": [
    "df2=df[~((df < (q1-1.5*IQR))|(df>(q3+1.5*IQR))).any(axis=1)]   "
   ]
  },
  {
   "cell_type": "code",
   "execution_count": 53,
   "id": "7b87ca92",
   "metadata": {},
   "outputs": [
    {
     "data": {
      "text/plain": [
       "(743, 9)"
      ]
     },
     "execution_count": 53,
     "metadata": {},
     "output_type": "execute_result"
    }
   ],
   "source": [
    "df2.shape"
   ]
  },
  {
   "cell_type": "code",
   "execution_count": 54,
   "id": "beeb0538",
   "metadata": {},
   "outputs": [
    {
     "name": "stdout",
     "output_type": "stream",
     "text": [
      " Loss of Data -  164\n",
      "\n",
      "\n",
      " Loss of Data in percentage -  18.081587651598678\n"
     ]
    }
   ],
   "source": [
    "# loss of data from ols to new\n",
    "print(' Loss of Data - ',(df.shape[0]-df2.shape[0]))\n",
    "print('\\n')\n",
    "print(' Loss of Data in percentage - ',((df.shape[0]-df2.shape[0])/df.shape[0])*100)"
   ]
  },
  {
   "cell_type": "markdown",
   "id": "bc2a0c2e",
   "metadata": {},
   "source": [
    "We can see the data loss is less in Zscore so we will use zscore method"
   ]
  },
  {
   "cell_type": "code",
   "execution_count": 55,
   "id": "08f87d13",
   "metadata": {},
   "outputs": [],
   "source": [
    "df=df1"
   ]
  },
  {
   "cell_type": "markdown",
   "id": "9bc4aa3b",
   "metadata": {},
   "source": [
    "### Checking Skewness"
   ]
  },
  {
   "cell_type": "code",
   "execution_count": 56,
   "id": "61d18de7",
   "metadata": {},
   "outputs": [
    {
     "data": {
      "text/plain": [
       "capacity_mw     2.026880\n",
       "latitude       -0.109004\n",
       "longitude       0.925949\n",
       "primary_fuel   -0.098411\n",
       "dtype: float64"
      ]
     },
     "execution_count": 56,
     "metadata": {},
     "output_type": "execute_result"
    }
   ],
   "source": [
    "df.skew()"
   ]
  },
  {
   "cell_type": "code",
   "execution_count": 57,
   "id": "992caf57",
   "metadata": {},
   "outputs": [],
   "source": [
    "# the acceptable range for skewness-:\n",
    "                    # 1)if its 0 the data is semetrical or normaly distriuted\n",
    "                    # 2) acceptable range is -0.5 to 0.5 "
   ]
  },
  {
   "cell_type": "code",
   "execution_count": 58,
   "id": "c08874f0",
   "metadata": {},
   "outputs": [],
   "source": [
    "import scipy.stats as stats\n",
    "from scipy.stats import boxcox\n",
    "import math"
   ]
  },
  {
   "cell_type": "code",
   "execution_count": 59,
   "id": "b5e8e8ce",
   "metadata": {},
   "outputs": [],
   "source": [
    "df['capacity_mw'],lambda_=stats.yeojohnson(df['capacity_mw'])\n",
    "df['longitude'],lambda_value = boxcox(df['longitude'])"
   ]
  },
  {
   "cell_type": "code",
   "execution_count": 60,
   "id": "d0e2b7a5",
   "metadata": {},
   "outputs": [
    {
     "data": {
      "text/plain": [
       "capacity_mw     0.018625\n",
       "latitude       -0.109004\n",
       "longitude       0.000000\n",
       "primary_fuel   -0.098411\n",
       "dtype: float64"
      ]
     },
     "execution_count": 60,
     "metadata": {},
     "output_type": "execute_result"
    }
   ],
   "source": [
    "df.skew()"
   ]
  },
  {
   "cell_type": "markdown",
   "id": "8510d5b0",
   "metadata": {},
   "source": [
    "## Encoding Catogerical columns"
   ]
  },
  {
   "cell_type": "code",
   "execution_count": 65,
   "id": "bb12358c",
   "metadata": {},
   "outputs": [
    {
     "data": {
      "text/html": [
       "<div>\n",
       "<style scoped>\n",
       "    .dataframe tbody tr th:only-of-type {\n",
       "        vertical-align: middle;\n",
       "    }\n",
       "\n",
       "    .dataframe tbody tr th {\n",
       "        vertical-align: top;\n",
       "    }\n",
       "\n",
       "    .dataframe thead th {\n",
       "        text-align: right;\n",
       "    }\n",
       "</style>\n",
       "<table border=\"1\" class=\"dataframe\">\n",
       "  <thead>\n",
       "    <tr style=\"text-align: right;\">\n",
       "      <th></th>\n",
       "      <th>name</th>\n",
       "      <th>gppd_idnr</th>\n",
       "      <th>capacity_mw</th>\n",
       "      <th>latitude</th>\n",
       "      <th>longitude</th>\n",
       "      <th>primary_fuel</th>\n",
       "      <th>source</th>\n",
       "      <th>url</th>\n",
       "      <th>geolocation_source</th>\n",
       "    </tr>\n",
       "  </thead>\n",
       "  <tbody>\n",
       "    <tr>\n",
       "      <th>0</th>\n",
       "      <td>0.0</td>\n",
       "      <td>622.0</td>\n",
       "      <td>1.228057</td>\n",
       "      <td>28.1839</td>\n",
       "      <td>0.235355</td>\n",
       "      <td>4</td>\n",
       "      <td>109.0</td>\n",
       "      <td>128.0</td>\n",
       "      <td>1.0</td>\n",
       "    </tr>\n",
       "    <tr>\n",
       "      <th>1</th>\n",
       "      <td>1.0</td>\n",
       "      <td>484.0</td>\n",
       "      <td>4.274149</td>\n",
       "      <td>24.7663</td>\n",
       "      <td>0.235355</td>\n",
       "      <td>1</td>\n",
       "      <td>174.0</td>\n",
       "      <td>173.0</td>\n",
       "      <td>2.0</td>\n",
       "    </tr>\n",
       "    <tr>\n",
       "      <th>2</th>\n",
       "      <td>2.0</td>\n",
       "      <td>817.0</td>\n",
       "      <td>3.484501</td>\n",
       "      <td>21.9038</td>\n",
       "      <td>0.235355</td>\n",
       "      <td>5</td>\n",
       "      <td>21.0</td>\n",
       "      <td>205.0</td>\n",
       "      <td>2.0</td>\n",
       "    </tr>\n",
       "    <tr>\n",
       "      <th>3</th>\n",
       "      <td>3.0</td>\n",
       "      <td>0.0</td>\n",
       "      <td>4.546997</td>\n",
       "      <td>23.8712</td>\n",
       "      <td>0.235355</td>\n",
       "      <td>2</td>\n",
       "      <td>22.0</td>\n",
       "      <td>58.0</td>\n",
       "      <td>2.0</td>\n",
       "    </tr>\n",
       "    <tr>\n",
       "      <th>4</th>\n",
       "      <td>4.0</td>\n",
       "      <td>1.0</td>\n",
       "      <td>6.667070</td>\n",
       "      <td>21.9603</td>\n",
       "      <td>0.235355</td>\n",
       "      <td>1</td>\n",
       "      <td>22.0</td>\n",
       "      <td>58.0</td>\n",
       "      <td>2.0</td>\n",
       "    </tr>\n",
       "    <tr>\n",
       "      <th>...</th>\n",
       "      <td>...</td>\n",
       "      <td>...</td>\n",
       "      <td>...</td>\n",
       "      <td>...</td>\n",
       "      <td>...</td>\n",
       "      <td>...</td>\n",
       "      <td>...</td>\n",
       "      <td>...</td>\n",
       "      <td>...</td>\n",
       "    </tr>\n",
       "    <tr>\n",
       "      <th>902</th>\n",
       "      <td>866.0</td>\n",
       "      <td>459.0</td>\n",
       "      <td>6.574222</td>\n",
       "      <td>16.2949</td>\n",
       "      <td>0.235355</td>\n",
       "      <td>1</td>\n",
       "      <td>22.0</td>\n",
       "      <td>58.0</td>\n",
       "      <td>2.0</td>\n",
       "    </tr>\n",
       "    <tr>\n",
       "      <th>903</th>\n",
       "      <td>867.0</td>\n",
       "      <td>786.0</td>\n",
       "      <td>1.356083</td>\n",
       "      <td>12.8932</td>\n",
       "      <td>0.235355</td>\n",
       "      <td>4</td>\n",
       "      <td>77.0</td>\n",
       "      <td>22.0</td>\n",
       "      <td>0.0</td>\n",
       "    </tr>\n",
       "    <tr>\n",
       "      <th>904</th>\n",
       "      <td>868.0</td>\n",
       "      <td>855.0</td>\n",
       "      <td>3.111635</td>\n",
       "      <td>15.2758</td>\n",
       "      <td>0.235355</td>\n",
       "      <td>5</td>\n",
       "      <td>21.0</td>\n",
       "      <td>260.0</td>\n",
       "      <td>2.0</td>\n",
       "    </tr>\n",
       "    <tr>\n",
       "      <th>905</th>\n",
       "      <td>869.0</td>\n",
       "      <td>504.0</td>\n",
       "      <td>4.100287</td>\n",
       "      <td>24.3500</td>\n",
       "      <td>0.235355</td>\n",
       "      <td>1</td>\n",
       "      <td>59.0</td>\n",
       "      <td>82.0</td>\n",
       "      <td>2.0</td>\n",
       "    </tr>\n",
       "    <tr>\n",
       "      <th>906</th>\n",
       "      <td>870.0</td>\n",
       "      <td>840.0</td>\n",
       "      <td>2.735401</td>\n",
       "      <td>9.9344</td>\n",
       "      <td>0.235355</td>\n",
       "      <td>5</td>\n",
       "      <td>21.0</td>\n",
       "      <td>245.0</td>\n",
       "      <td>2.0</td>\n",
       "    </tr>\n",
       "  </tbody>\n",
       "</table>\n",
       "<p>871 rows × 9 columns</p>\n",
       "</div>"
      ],
      "text/plain": [
       "      name  gppd_idnr  capacity_mw  latitude  longitude  primary_fuel  source  \\\n",
       "0      0.0      622.0     1.228057   28.1839   0.235355             4   109.0   \n",
       "1      1.0      484.0     4.274149   24.7663   0.235355             1   174.0   \n",
       "2      2.0      817.0     3.484501   21.9038   0.235355             5    21.0   \n",
       "3      3.0        0.0     4.546997   23.8712   0.235355             2    22.0   \n",
       "4      4.0        1.0     6.667070   21.9603   0.235355             1    22.0   \n",
       "..     ...        ...          ...       ...        ...           ...     ...   \n",
       "902  866.0      459.0     6.574222   16.2949   0.235355             1    22.0   \n",
       "903  867.0      786.0     1.356083   12.8932   0.235355             4    77.0   \n",
       "904  868.0      855.0     3.111635   15.2758   0.235355             5    21.0   \n",
       "905  869.0      504.0     4.100287   24.3500   0.235355             1    59.0   \n",
       "906  870.0      840.0     2.735401    9.9344   0.235355             5    21.0   \n",
       "\n",
       "       url  geolocation_source  \n",
       "0    128.0                 1.0  \n",
       "1    173.0                 2.0  \n",
       "2    205.0                 2.0  \n",
       "3     58.0                 2.0  \n",
       "4     58.0                 2.0  \n",
       "..     ...                 ...  \n",
       "902   58.0                 2.0  \n",
       "903   22.0                 0.0  \n",
       "904  260.0                 2.0  \n",
       "905   82.0                 2.0  \n",
       "906  245.0                 2.0  \n",
       "\n",
       "[871 rows x 9 columns]"
      ]
     },
     "execution_count": 65,
     "metadata": {},
     "output_type": "execute_result"
    }
   ],
   "source": [
    "from sklearn.preprocessing import OrdinalEncoder\n",
    "OE=OrdinalEncoder()\n",
    "for i in df.columns:\n",
    "    if df[i].dtypes=='object':\n",
    "        df[i]=OE.fit_transform(df[i].values.reshape(-1,1)) \n",
    "        \n",
    "df"
   ]
  },
  {
   "cell_type": "code",
   "execution_count": 67,
   "id": "ac2cb6b2",
   "metadata": {},
   "outputs": [
    {
     "name": "stdout",
     "output_type": "stream",
     "text": [
      "<class 'pandas.core.frame.DataFrame'>\n",
      "Int64Index: 871 entries, 0 to 906\n",
      "Data columns (total 9 columns):\n",
      " #   Column              Non-Null Count  Dtype  \n",
      "---  ------              --------------  -----  \n",
      " 0   name                871 non-null    float64\n",
      " 1   gppd_idnr           871 non-null    float64\n",
      " 2   capacity_mw         871 non-null    float64\n",
      " 3   latitude            871 non-null    float64\n",
      " 4   longitude           871 non-null    float64\n",
      " 5   primary_fuel        871 non-null    int64  \n",
      " 6   source              871 non-null    float64\n",
      " 7   url                 871 non-null    float64\n",
      " 8   geolocation_source  871 non-null    float64\n",
      "dtypes: float64(8), int64(1)\n",
      "memory usage: 68.0 KB\n"
     ]
    }
   ],
   "source": [
    "df.info()"
   ]
  },
  {
   "cell_type": "code",
   "execution_count": 66,
   "id": "b34708b5",
   "metadata": {},
   "outputs": [
    {
     "data": {
      "text/html": [
       "<div>\n",
       "<style scoped>\n",
       "    .dataframe tbody tr th:only-of-type {\n",
       "        vertical-align: middle;\n",
       "    }\n",
       "\n",
       "    .dataframe tbody tr th {\n",
       "        vertical-align: top;\n",
       "    }\n",
       "\n",
       "    .dataframe thead th {\n",
       "        text-align: right;\n",
       "    }\n",
       "</style>\n",
       "<table border=\"1\" class=\"dataframe\">\n",
       "  <thead>\n",
       "    <tr style=\"text-align: right;\">\n",
       "      <th></th>\n",
       "      <th>name</th>\n",
       "      <th>gppd_idnr</th>\n",
       "      <th>capacity_mw</th>\n",
       "      <th>latitude</th>\n",
       "      <th>longitude</th>\n",
       "      <th>primary_fuel</th>\n",
       "      <th>source</th>\n",
       "      <th>url</th>\n",
       "      <th>geolocation_source</th>\n",
       "    </tr>\n",
       "  </thead>\n",
       "  <tbody>\n",
       "    <tr>\n",
       "      <th>name</th>\n",
       "      <td>1.000000</td>\n",
       "      <td>0.325306</td>\n",
       "      <td>0.001908</td>\n",
       "      <td>-0.140820</td>\n",
       "      <td>0.028662</td>\n",
       "      <td>0.016820</td>\n",
       "      <td>-0.010985</td>\n",
       "      <td>0.046255</td>\n",
       "      <td>0.032583</td>\n",
       "    </tr>\n",
       "    <tr>\n",
       "      <th>gppd_idnr</th>\n",
       "      <td>0.325306</td>\n",
       "      <td>1.000000</td>\n",
       "      <td>-0.571812</td>\n",
       "      <td>-0.091559</td>\n",
       "      <td>-0.402903</td>\n",
       "      <td>0.120014</td>\n",
       "      <td>0.408077</td>\n",
       "      <td>0.599680</td>\n",
       "      <td>-0.464512</td>\n",
       "    </tr>\n",
       "    <tr>\n",
       "      <th>capacity_mw</th>\n",
       "      <td>0.001908</td>\n",
       "      <td>-0.571812</td>\n",
       "      <td>1.000000</td>\n",
       "      <td>0.051956</td>\n",
       "      <td>0.329374</td>\n",
       "      <td>-0.417813</td>\n",
       "      <td>-0.388871</td>\n",
       "      <td>-0.329124</td>\n",
       "      <td>0.470751</td>\n",
       "    </tr>\n",
       "    <tr>\n",
       "      <th>latitude</th>\n",
       "      <td>-0.140820</td>\n",
       "      <td>-0.091559</td>\n",
       "      <td>0.051956</td>\n",
       "      <td>1.000000</td>\n",
       "      <td>-0.064463</td>\n",
       "      <td>-0.068678</td>\n",
       "      <td>0.068253</td>\n",
       "      <td>-0.122582</td>\n",
       "      <td>-0.198826</td>\n",
       "    </tr>\n",
       "    <tr>\n",
       "      <th>longitude</th>\n",
       "      <td>0.028662</td>\n",
       "      <td>-0.402903</td>\n",
       "      <td>0.329374</td>\n",
       "      <td>-0.064463</td>\n",
       "      <td>1.000000</td>\n",
       "      <td>-0.186687</td>\n",
       "      <td>-0.245515</td>\n",
       "      <td>-0.325054</td>\n",
       "      <td>0.302707</td>\n",
       "    </tr>\n",
       "    <tr>\n",
       "      <th>primary_fuel</th>\n",
       "      <td>0.016820</td>\n",
       "      <td>0.120014</td>\n",
       "      <td>-0.417813</td>\n",
       "      <td>-0.068678</td>\n",
       "      <td>-0.186687</td>\n",
       "      <td>1.000000</td>\n",
       "      <td>0.040275</td>\n",
       "      <td>0.149037</td>\n",
       "      <td>-0.006988</td>\n",
       "    </tr>\n",
       "    <tr>\n",
       "      <th>source</th>\n",
       "      <td>-0.010985</td>\n",
       "      <td>0.408077</td>\n",
       "      <td>-0.388871</td>\n",
       "      <td>0.068253</td>\n",
       "      <td>-0.245515</td>\n",
       "      <td>0.040275</td>\n",
       "      <td>1.000000</td>\n",
       "      <td>0.150845</td>\n",
       "      <td>-0.500208</td>\n",
       "    </tr>\n",
       "    <tr>\n",
       "      <th>url</th>\n",
       "      <td>0.046255</td>\n",
       "      <td>0.599680</td>\n",
       "      <td>-0.329124</td>\n",
       "      <td>-0.122582</td>\n",
       "      <td>-0.325054</td>\n",
       "      <td>0.149037</td>\n",
       "      <td>0.150845</td>\n",
       "      <td>1.000000</td>\n",
       "      <td>-0.009359</td>\n",
       "    </tr>\n",
       "    <tr>\n",
       "      <th>geolocation_source</th>\n",
       "      <td>0.032583</td>\n",
       "      <td>-0.464512</td>\n",
       "      <td>0.470751</td>\n",
       "      <td>-0.198826</td>\n",
       "      <td>0.302707</td>\n",
       "      <td>-0.006988</td>\n",
       "      <td>-0.500208</td>\n",
       "      <td>-0.009359</td>\n",
       "      <td>1.000000</td>\n",
       "    </tr>\n",
       "  </tbody>\n",
       "</table>\n",
       "</div>"
      ],
      "text/plain": [
       "                        name  gppd_idnr  capacity_mw  latitude  longitude  \\\n",
       "name                1.000000   0.325306     0.001908 -0.140820   0.028662   \n",
       "gppd_idnr           0.325306   1.000000    -0.571812 -0.091559  -0.402903   \n",
       "capacity_mw         0.001908  -0.571812     1.000000  0.051956   0.329374   \n",
       "latitude           -0.140820  -0.091559     0.051956  1.000000  -0.064463   \n",
       "longitude           0.028662  -0.402903     0.329374 -0.064463   1.000000   \n",
       "primary_fuel        0.016820   0.120014    -0.417813 -0.068678  -0.186687   \n",
       "source             -0.010985   0.408077    -0.388871  0.068253  -0.245515   \n",
       "url                 0.046255   0.599680    -0.329124 -0.122582  -0.325054   \n",
       "geolocation_source  0.032583  -0.464512     0.470751 -0.198826   0.302707   \n",
       "\n",
       "                    primary_fuel    source       url  geolocation_source  \n",
       "name                    0.016820 -0.010985  0.046255            0.032583  \n",
       "gppd_idnr               0.120014  0.408077  0.599680           -0.464512  \n",
       "capacity_mw            -0.417813 -0.388871 -0.329124            0.470751  \n",
       "latitude               -0.068678  0.068253 -0.122582           -0.198826  \n",
       "longitude              -0.186687 -0.245515 -0.325054            0.302707  \n",
       "primary_fuel            1.000000  0.040275  0.149037           -0.006988  \n",
       "source                  0.040275  1.000000  0.150845           -0.500208  \n",
       "url                     0.149037  0.150845  1.000000           -0.009359  \n",
       "geolocation_source     -0.006988 -0.500208 -0.009359            1.000000  "
      ]
     },
     "execution_count": 66,
     "metadata": {},
     "output_type": "execute_result"
    }
   ],
   "source": [
    "df.corr()"
   ]
  },
  {
   "cell_type": "code",
   "execution_count": 68,
   "id": "b858d933",
   "metadata": {},
   "outputs": [
    {
     "data": {
      "image/png": "[encoded data removed]",
      "text/plain": [
       "<Figure size 1440x1440 with 2 Axes>"
      ]
     },
     "metadata": {
      "needs_background": "light"
     },
     "output_type": "display_data"
    }
   ],
   "source": [
    "#We can visualize this by plotting a heatmap\n",
    "\n",
    "plt.figure(figsize=(20,20))\n",
    "sns.heatmap(df.corr(),linewidths=0.1,fmt=\".1g\",linecolor=\"black\",annot=True,cmap=\"Blues_r\")   \n",
    "plt.yticks(rotation=0)\n",
    "plt.show()"
   ]
  },
  {
   "cell_type": "code",
   "execution_count": 69,
   "id": "272448f8",
   "metadata": {},
   "outputs": [
    {
     "data": {
      "text/plain": [
       "primary_fuel          1.000000\n",
       "url                   0.149037\n",
       "gppd_idnr             0.120014\n",
       "source                0.040275\n",
       "name                  0.016820\n",
       "geolocation_source   -0.006988\n",
       "latitude             -0.068678\n",
       "longitude            -0.186687\n",
       "capacity_mw          -0.417813\n",
       "Name: primary_fuel, dtype: float64"
      ]
     },
     "execution_count": 69,
     "metadata": {},
     "output_type": "execute_result"
    }
   ],
   "source": [
    "df.corr()[\"primary_fuel\"].sort_values(ascending=False)   #arrange the correlation in descending order"
   ]
  },
  {
   "cell_type": "code",
   "execution_count": 70,
   "id": "ddc5008b",
   "metadata": {},
   "outputs": [
    {
     "data": {
      "text/plain": [
       "capacity_mw           1.000000\n",
       "geolocation_source    0.470751\n",
       "longitude             0.329374\n",
       "latitude              0.051956\n",
       "name                  0.001908\n",
       "url                  -0.329124\n",
       "source               -0.388871\n",
       "primary_fuel         -0.417813\n",
       "gppd_idnr            -0.571812\n",
       "Name: capacity_mw, dtype: float64"
      ]
     },
     "execution_count": 70,
     "metadata": {},
     "output_type": "execute_result"
    }
   ],
   "source": [
    "df.corr()[\"capacity_mw\"].sort_values(ascending=False)   #arrange the correlation in descending order"
   ]
  },
  {
   "cell_type": "code",
   "execution_count": 71,
   "id": "95b195b8",
   "metadata": {},
   "outputs": [
    {
     "data": {
      "image/png": "[encoded data removed]",
      "text/plain": [
       "<Figure size 1584x504 with 1 Axes>"
      ]
     },
     "metadata": {
      "needs_background": "light"
     },
     "output_type": "display_data"
    }
   ],
   "source": [
    "#Visualizing the correlation between the features and the label using bar plot\n",
    "\n",
    "plt.figure(figsize=(22,7))\n",
    "df.corr()['primary_fuel'].sort_values(ascending=False).drop(['primary_fuel']).plot(kind='bar',color='y')\n",
    "plt.title(\"Correlation between features and label using bar plot\",fontsize=20)\n",
    "plt.xlabel(\"Features\")\n",
    "plt.ylabel(\"Target variable\")\n",
    "plt.show()"
   ]
  },
  {
   "cell_type": "code",
   "execution_count": 72,
   "id": "777b7c68",
   "metadata": {},
   "outputs": [
    {
     "data": {
      "image/png": "[encoded data removed]",
      "text/plain": [
       "<Figure size 1584x504 with 1 Axes>"
      ]
     },
     "metadata": {
      "needs_background": "light"
     },
     "output_type": "display_data"
    }
   ],
   "source": [
    "#Visualizing the correlation between the features and the label using bar plot\n",
    "\n",
    "plt.figure(figsize=(22,7))\n",
    "df.corr()['capacity_mw'].sort_values(ascending=False).drop(['capacity_mw']).plot(kind='bar',color='y')\n",
    "plt.title(\"Correlation between features and label using bar plot\",fontsize=20)\n",
    "plt.xlabel(\"Features\")\n",
    "plt.ylabel(\"Target variable\")\n",
    "plt.show()"
   ]
  },
  {
   "cell_type": "markdown",
   "id": "95eb6f64",
   "metadata": {},
   "source": [
    "# Classification model"
   ]
  },
  {
   "cell_type": "markdown",
   "id": "1c41e44d",
   "metadata": {},
   "source": [
    "#### predicting primary_fuel"
   ]
  },
  {
   "cell_type": "markdown",
   "id": "1bfa12d4",
   "metadata": {},
   "source": [
    "## Seperating features and label"
   ]
  },
  {
   "cell_type": "code",
   "execution_count": 73,
   "id": "dbc1a0f9",
   "metadata": {},
   "outputs": [],
   "source": [
    "x=df.drop(['primary_fuel'],axis=1)\n",
    "y=df[\"primary_fuel\"]"
   ]
  },
  {
   "cell_type": "code",
   "execution_count": 74,
   "id": "28e84b9e",
   "metadata": {},
   "outputs": [
    {
     "name": "stdout",
     "output_type": "stream",
     "text": [
      "Feature dimensions: (871, 8)\n",
      "Target dimensions: (871,)\n"
     ]
    }
   ],
   "source": [
    "print(\"Feature dimensions:\",x.shape)\n",
    "print(\"Target dimensions:\",y.shape)"
   ]
  },
  {
   "cell_type": "markdown",
   "id": "79de41c8",
   "metadata": {},
   "source": [
    "### Feature scaling using standard scalarisation"
   ]
  },
  {
   "cell_type": "code",
   "execution_count": 75,
   "id": "11f96edb",
   "metadata": {},
   "outputs": [
    {
     "data": {
      "text/html": [
       "<div>\n",
       "<style scoped>\n",
       "    .dataframe tbody tr th:only-of-type {\n",
       "        vertical-align: middle;\n",
       "    }\n",
       "\n",
       "    .dataframe tbody tr th {\n",
       "        vertical-align: top;\n",
       "    }\n",
       "\n",
       "    .dataframe thead th {\n",
       "        text-align: right;\n",
       "    }\n",
       "</style>\n",
       "<table border=\"1\" class=\"dataframe\">\n",
       "  <thead>\n",
       "    <tr style=\"text-align: right;\">\n",
       "      <th></th>\n",
       "      <th>name</th>\n",
       "      <th>gppd_idnr</th>\n",
       "      <th>capacity_mw</th>\n",
       "      <th>latitude</th>\n",
       "      <th>longitude</th>\n",
       "      <th>source</th>\n",
       "      <th>url</th>\n",
       "      <th>geolocation_source</th>\n",
       "    </tr>\n",
       "  </thead>\n",
       "  <tbody>\n",
       "    <tr>\n",
       "      <th>0</th>\n",
       "      <td>-1.730063</td>\n",
       "      <td>0.743728</td>\n",
       "      <td>-1.683439</td>\n",
       "      <td>1.152834</td>\n",
       "      <td>-0.943636</td>\n",
       "      <td>1.421876</td>\n",
       "      <td>0.449820</td>\n",
       "      <td>-1.056082</td>\n",
       "    </tr>\n",
       "    <tr>\n",
       "      <th>1</th>\n",
       "      <td>-1.726086</td>\n",
       "      <td>0.194881</td>\n",
       "      <td>0.238271</td>\n",
       "      <td>0.596680</td>\n",
       "      <td>-0.524376</td>\n",
       "      <td>2.858110</td>\n",
       "      <td>1.080231</td>\n",
       "      <td>0.401679</td>\n",
       "    </tr>\n",
       "    <tr>\n",
       "      <th>2</th>\n",
       "      <td>-1.722109</td>\n",
       "      <td>1.519274</td>\n",
       "      <td>-0.259900</td>\n",
       "      <td>0.130858</td>\n",
       "      <td>-2.380666</td>\n",
       "      <td>-0.522564</td>\n",
       "      <td>1.528523</td>\n",
       "      <td>0.401679</td>\n",
       "    </tr>\n",
       "    <tr>\n",
       "      <th>3</th>\n",
       "      <td>-1.718132</td>\n",
       "      <td>-1.730063</td>\n",
       "      <td>0.410405</td>\n",
       "      <td>0.451018</td>\n",
       "      <td>2.432694</td>\n",
       "      <td>-0.500469</td>\n",
       "      <td>-0.530819</td>\n",
       "      <td>0.401679</td>\n",
       "    </tr>\n",
       "    <tr>\n",
       "      <th>4</th>\n",
       "      <td>-1.714155</td>\n",
       "      <td>-1.726086</td>\n",
       "      <td>1.747912</td>\n",
       "      <td>0.140053</td>\n",
       "      <td>1.241301</td>\n",
       "      <td>-0.500469</td>\n",
       "      <td>-0.530819</td>\n",
       "      <td>0.401679</td>\n",
       "    </tr>\n",
       "    <tr>\n",
       "      <th>...</th>\n",
       "      <td>...</td>\n",
       "      <td>...</td>\n",
       "      <td>...</td>\n",
       "      <td>...</td>\n",
       "      <td>...</td>\n",
       "      <td>...</td>\n",
       "      <td>...</td>\n",
       "      <td>...</td>\n",
       "    </tr>\n",
       "    <tr>\n",
       "      <th>866</th>\n",
       "      <td>1.714155</td>\n",
       "      <td>0.095452</td>\n",
       "      <td>1.689336</td>\n",
       "      <td>-0.781891</td>\n",
       "      <td>0.205526</td>\n",
       "      <td>-0.500469</td>\n",
       "      <td>-0.530819</td>\n",
       "      <td>0.401679</td>\n",
       "    </tr>\n",
       "    <tr>\n",
       "      <th>867</th>\n",
       "      <td>1.718132</td>\n",
       "      <td>1.395982</td>\n",
       "      <td>-1.602670</td>\n",
       "      <td>-1.335458</td>\n",
       "      <td>0.395445</td>\n",
       "      <td>0.714806</td>\n",
       "      <td>-1.035147</td>\n",
       "      <td>-2.513844</td>\n",
       "    </tr>\n",
       "    <tr>\n",
       "      <th>868</th>\n",
       "      <td>1.722109</td>\n",
       "      <td>1.670406</td>\n",
       "      <td>-0.495132</td>\n",
       "      <td>-0.947732</td>\n",
       "      <td>-0.250151</td>\n",
       "      <td>-0.522564</td>\n",
       "      <td>2.299024</td>\n",
       "      <td>0.401679</td>\n",
       "    </tr>\n",
       "    <tr>\n",
       "      <th>869</th>\n",
       "      <td>1.726086</td>\n",
       "      <td>0.274424</td>\n",
       "      <td>0.128586</td>\n",
       "      <td>0.528934</td>\n",
       "      <td>-0.783513</td>\n",
       "      <td>0.317080</td>\n",
       "      <td>-0.194600</td>\n",
       "      <td>0.401679</td>\n",
       "    </tr>\n",
       "    <tr>\n",
       "      <th>870</th>\n",
       "      <td>1.730063</td>\n",
       "      <td>1.610749</td>\n",
       "      <td>-0.732490</td>\n",
       "      <td>-1.816950</td>\n",
       "      <td>0.234371</td>\n",
       "      <td>-0.522564</td>\n",
       "      <td>2.088888</td>\n",
       "      <td>0.401679</td>\n",
       "    </tr>\n",
       "  </tbody>\n",
       "</table>\n",
       "<p>871 rows × 8 columns</p>\n",
       "</div>"
      ],
      "text/plain": [
       "         name  gppd_idnr  capacity_mw  latitude  longitude    source  \\\n",
       "0   -1.730063   0.743728    -1.683439  1.152834  -0.943636  1.421876   \n",
       "1   -1.726086   0.194881     0.238271  0.596680  -0.524376  2.858110   \n",
       "2   -1.722109   1.519274    -0.259900  0.130858  -2.380666 -0.522564   \n",
       "3   -1.718132  -1.730063     0.410405  0.451018   2.432694 -0.500469   \n",
       "4   -1.714155  -1.726086     1.747912  0.140053   1.241301 -0.500469   \n",
       "..        ...        ...          ...       ...        ...       ...   \n",
       "866  1.714155   0.095452     1.689336 -0.781891   0.205526 -0.500469   \n",
       "867  1.718132   1.395982    -1.602670 -1.335458   0.395445  0.714806   \n",
       "868  1.722109   1.670406    -0.495132 -0.947732  -0.250151 -0.522564   \n",
       "869  1.726086   0.274424     0.128586  0.528934  -0.783513  0.317080   \n",
       "870  1.730063   1.610749    -0.732490 -1.816950   0.234371 -0.522564   \n",
       "\n",
       "          url  geolocation_source  \n",
       "0    0.449820           -1.056082  \n",
       "1    1.080231            0.401679  \n",
       "2    1.528523            0.401679  \n",
       "3   -0.530819            0.401679  \n",
       "4   -0.530819            0.401679  \n",
       "..        ...                 ...  \n",
       "866 -0.530819            0.401679  \n",
       "867 -1.035147           -2.513844  \n",
       "868  2.299024            0.401679  \n",
       "869 -0.194600            0.401679  \n",
       "870  2.088888            0.401679  \n",
       "\n",
       "[871 rows x 8 columns]"
      ]
     },
     "execution_count": 75,
     "metadata": {},
     "output_type": "execute_result"
    }
   ],
   "source": [
    "from sklearn.preprocessing import StandardScaler\n",
    "scaler=StandardScaler()\n",
    "x=pd.DataFrame(scaler.fit_transform(x),columns=x.columns)\n",
    "x"
   ]
  },
  {
   "cell_type": "markdown",
   "id": "d82cbf90",
   "metadata": {},
   "source": [
    "### Checking Variance Inflation Factor"
   ]
  },
  {
   "cell_type": "code",
   "execution_count": 76,
   "id": "dbf3b783",
   "metadata": {},
   "outputs": [
    {
     "data": {
      "text/html": [
       "<div>\n",
       "<style scoped>\n",
       "    .dataframe tbody tr th:only-of-type {\n",
       "        vertical-align: middle;\n",
       "    }\n",
       "\n",
       "    .dataframe tbody tr th {\n",
       "        vertical-align: top;\n",
       "    }\n",
       "\n",
       "    .dataframe thead th {\n",
       "        text-align: right;\n",
       "    }\n",
       "</style>\n",
       "<table border=\"1\" class=\"dataframe\">\n",
       "  <thead>\n",
       "    <tr style=\"text-align: right;\">\n",
       "      <th></th>\n",
       "      <th>VIF values</th>\n",
       "      <th>Features</th>\n",
       "    </tr>\n",
       "  </thead>\n",
       "  <tbody>\n",
       "    <tr>\n",
       "      <th>0</th>\n",
       "      <td>1.364516</td>\n",
       "      <td>name</td>\n",
       "    </tr>\n",
       "    <tr>\n",
       "      <th>1</th>\n",
       "      <td>3.561117</td>\n",
       "      <td>gppd_idnr</td>\n",
       "    </tr>\n",
       "    <tr>\n",
       "      <th>2</th>\n",
       "      <td>1.719742</td>\n",
       "      <td>capacity_mw</td>\n",
       "    </tr>\n",
       "    <tr>\n",
       "      <th>3</th>\n",
       "      <td>1.111048</td>\n",
       "      <td>latitude</td>\n",
       "    </tr>\n",
       "    <tr>\n",
       "      <th>4</th>\n",
       "      <td>1.289248</td>\n",
       "      <td>longitude</td>\n",
       "    </tr>\n",
       "    <tr>\n",
       "      <th>5</th>\n",
       "      <td>1.434446</td>\n",
       "      <td>source</td>\n",
       "    </tr>\n",
       "    <tr>\n",
       "      <th>6</th>\n",
       "      <td>2.064000</td>\n",
       "      <td>url</td>\n",
       "    </tr>\n",
       "    <tr>\n",
       "      <th>7</th>\n",
       "      <td>2.069479</td>\n",
       "      <td>geolocation_source</td>\n",
       "    </tr>\n",
       "  </tbody>\n",
       "</table>\n",
       "</div>"
      ],
      "text/plain": [
       "   VIF values            Features\n",
       "0    1.364516                name\n",
       "1    3.561117           gppd_idnr\n",
       "2    1.719742         capacity_mw\n",
       "3    1.111048            latitude\n",
       "4    1.289248           longitude\n",
       "5    1.434446              source\n",
       "6    2.064000                 url\n",
       "7    2.069479  geolocation_source"
      ]
     },
     "execution_count": 76,
     "metadata": {},
     "output_type": "execute_result"
    }
   ],
   "source": [
    "#Checking Vif in every scaled column\n",
    "\n",
    "from statsmodels.stats.outliers_influence import variance_inflation_factor\n",
    "vif=pd.DataFrame()\n",
    "vif[\"VIF values\"]=[variance_inflation_factor(x.values,i)for i in range(len(x.columns))]\n",
    "vif[\"Features\"]=x.columns\n",
    "\n",
    "vif"
   ]
  },
  {
   "cell_type": "code",
   "execution_count": 77,
   "id": "e7d99887",
   "metadata": {},
   "outputs": [
    {
     "data": {
      "text/plain": [
       "6    240\n",
       "1    238\n",
       "4    126\n",
       "5    123\n",
       "2     65\n",
       "8     50\n",
       "3     20\n",
       "7      9\n",
       "Name: primary_fuel, dtype: int64"
      ]
     },
     "execution_count": 77,
     "metadata": {},
     "output_type": "execute_result"
    }
   ],
   "source": [
    "y.value_counts()"
   ]
  },
  {
   "cell_type": "markdown",
   "id": "6d2a41de",
   "metadata": {},
   "source": [
    "### Oversampling"
   ]
  },
  {
   "cell_type": "code",
   "execution_count": 78,
   "id": "8b1c4938",
   "metadata": {},
   "outputs": [
    {
     "name": "stdout",
     "output_type": "stream",
     "text": [
      "Requirement already satisfied: imblearn in c:\\users\\saket\\anaconda3\\lib\\site-packages (0.0)\n",
      "Requirement already satisfied: imbalanced-learn in c:\\users\\saket\\anaconda3\\lib\\site-packages (from imblearn) (0.10.1)\n",
      "Requirement already satisfied: numpy>=1.17.3 in c:\\users\\saket\\anaconda3\\lib\\site-packages (from imbalanced-learn->imblearn) (1.21.5)\n",
      "Requirement already satisfied: scikit-learn>=1.0.2 in c:\\users\\saket\\anaconda3\\lib\\site-packages (from imbalanced-learn->imblearn) (1.0.2)\n",
      "Requirement already satisfied: joblib>=1.1.1 in c:\\users\\saket\\anaconda3\\lib\\site-packages (from imbalanced-learn->imblearn) (1.2.0)\n",
      "Requirement already satisfied: scipy>=1.3.2 in c:\\users\\saket\\anaconda3\\lib\\site-packages (from imbalanced-learn->imblearn) (1.7.3)\n",
      "Requirement already satisfied: threadpoolctl>=2.0.0 in c:\\users\\saket\\anaconda3\\lib\\site-packages (from imbalanced-learn->imblearn) (2.2.0)\n"
     ]
    }
   ],
   "source": [
    "!pip install imblearn"
   ]
  },
  {
   "cell_type": "code",
   "execution_count": 79,
   "id": "bb4f8a85",
   "metadata": {},
   "outputs": [],
   "source": [
    "from imblearn.over_sampling import SMOTE\n",
    "SM=SMOTE()\n",
    "x,y=SM.fit_resample(x,y)"
   ]
  },
  {
   "cell_type": "code",
   "execution_count": 80,
   "id": "ef7920fc",
   "metadata": {},
   "outputs": [
    {
     "data": {
      "text/plain": [
       "4    240\n",
       "1    240\n",
       "5    240\n",
       "2    240\n",
       "6    240\n",
       "8    240\n",
       "3    240\n",
       "7    240\n",
       "Name: primary_fuel, dtype: int64"
      ]
     },
     "execution_count": 80,
     "metadata": {},
     "output_type": "execute_result"
    }
   ],
   "source": [
    "y.value_counts()"
   ]
  },
  {
   "cell_type": "code",
   "execution_count": 81,
   "id": "03ca750d",
   "metadata": {},
   "outputs": [],
   "source": [
    "#Now the data is balanced now we can build machine learning Classification model"
   ]
  },
  {
   "cell_type": "markdown",
   "id": "22e84d24",
   "metadata": {},
   "source": [
    "### Modelling"
   ]
  },
  {
   "cell_type": "code",
   "execution_count": 82,
   "id": "56f35a2c",
   "metadata": {},
   "outputs": [],
   "source": [
    "#Importing necessary libraries\n",
    "\n",
    "\n",
    "\n",
    "from sklearn.model_selection import train_test_split\n",
    "from sklearn.ensemble import RandomForestClassifier\n",
    "from sklearn.metrics import accuracy_score"
   ]
  },
  {
   "cell_type": "code",
   "execution_count": 83,
   "id": "05cdf69f",
   "metadata": {},
   "outputs": [
    {
     "name": "stdout",
     "output_type": "stream",
     "text": [
      "Best accuracy is 0.9270833333333334 at random_state 132\n"
     ]
    }
   ],
   "source": [
    "maxAccu=0\n",
    "maxRS=0\n",
    "for i in range(1,200):\n",
    "    x_train,x_test,y_train,y_test=train_test_split(x,y,test_size=0.30,random_state=i)\n",
    "    RFR=RandomForestClassifier()\n",
    "    RFR.fit(x_train,y_train)\n",
    "    pred=RFR.predict(x_test)\n",
    "    acc=accuracy_score(y_test,pred)\n",
    "    if acc>maxAccu:\n",
    "        maxAccu=acc\n",
    "        maxRS=i\n",
    "print(\"Best accuracy is\",maxAccu,\"at random_state\",maxRS)"
   ]
  },
  {
   "cell_type": "code",
   "execution_count": 84,
   "id": "ce1f4285",
   "metadata": {},
   "outputs": [],
   "source": [
    "x_train,x_test,y_train,y_test=train_test_split(x,y,test_size=0.30,random_state=maxRS)"
   ]
  },
  {
   "cell_type": "markdown",
   "id": "b458d195",
   "metadata": {},
   "source": [
    "### Classification Algorithms"
   ]
  },
  {
   "cell_type": "code",
   "execution_count": 85,
   "id": "5b931500",
   "metadata": {},
   "outputs": [],
   "source": [
    "#Importing all the classification libraries\n",
    "\n",
    "from sklearn.ensemble import RandomForestClassifier,ExtraTreesClassifier\n",
    "from sklearn.linear_model import LogisticRegression\n",
    "from sklearn.svm import SVC\n",
    "from sklearn.ensemble import GradientBoostingClassifier,AdaBoostClassifier,BaggingClassifier\n",
    "from sklearn.metrics import classification_report, confusion_matrix, roc_curve, accuracy_score\n",
    "from sklearn.model_selection import cross_val_score"
   ]
  },
  {
   "cell_type": "code",
   "execution_count": 86,
   "id": "fac2d600",
   "metadata": {},
   "outputs": [
    {
     "name": "stdout",
     "output_type": "stream",
     "text": [
      "0.921875\n",
      "[[50  5  1  0  0  1  5  3]\n",
      " [ 4 59  1  0  0  3  2  1]\n",
      " [ 0  0 74  0  0  2  0  0]\n",
      " [ 0  0  0 73  0  0  0  0]\n",
      " [ 0  0  0  0 69  0  0  0]\n",
      " [ 6  1  3  0  0 63  5  0]\n",
      " [ 0  0  0  0  0  0 73  0]\n",
      " [ 2  0  0  0  0  0  0 70]]\n",
      "              precision    recall  f1-score   support\n",
      "\n",
      "           1       0.81      0.77      0.79        65\n",
      "           2       0.91      0.84      0.87        70\n",
      "           3       0.94      0.97      0.95        76\n",
      "           4       1.00      1.00      1.00        73\n",
      "           5       1.00      1.00      1.00        69\n",
      "           6       0.91      0.81      0.86        78\n",
      "           7       0.86      1.00      0.92        73\n",
      "           8       0.95      0.97      0.96        72\n",
      "\n",
      "    accuracy                           0.92       576\n",
      "   macro avg       0.92      0.92      0.92       576\n",
      "weighted avg       0.92      0.92      0.92       576\n",
      "\n"
     ]
    }
   ],
   "source": [
    "#Checking accuracy for Random Forest Classifier\n",
    "\n",
    "RFC=RandomForestClassifier()\n",
    "RFC.fit(x_train,y_train)\n",
    "predRFC=RFC.predict(x_test)\n",
    "print(accuracy_score(y_test,predRFC))\n",
    "print(confusion_matrix(y_test,predRFC))\n",
    "print(classification_report(y_test,predRFC))"
   ]
  },
  {
   "cell_type": "code",
   "execution_count": 87,
   "id": "18d716fc",
   "metadata": {},
   "outputs": [],
   "source": [
    "# My accuracy is 92%"
   ]
  },
  {
   "cell_type": "code",
   "execution_count": 88,
   "id": "d1741214",
   "metadata": {},
   "outputs": [
    {
     "name": "stdout",
     "output_type": "stream",
     "text": [
      "0.6770833333333334\n",
      "[[27  5  3  0  0  3 23  4]\n",
      " [17 18 14  0  0  3 14  4]\n",
      " [ 3  1 46  0  2 23  1  0]\n",
      " [ 2  0  0 71  0  0  0  0]\n",
      " [ 0  0  0  0 69  0  0  0]\n",
      " [12  6 14  0  0 39  5  2]\n",
      " [ 5 10  0  0  0  6 52  0]\n",
      " [ 0  0  3  0  1  0  0 68]]\n"
     ]
    }
   ],
   "source": [
    "#Checking accuracy for logistic regression model\n",
    "\n",
    "LR=LogisticRegression()\n",
    "LR.fit(x_train,y_train)\n",
    "predLR=LR.predict(x_test)\n",
    "print(accuracy_score(y_test,predLR))\n",
    "print(confusion_matrix(y_test,predLR))"
   ]
  },
  {
   "cell_type": "code",
   "execution_count": 89,
   "id": "22e936d7",
   "metadata": {},
   "outputs": [],
   "source": [
    "#my accuracy is 67%"
   ]
  },
  {
   "cell_type": "code",
   "execution_count": 90,
   "id": "4824eb46",
   "metadata": {},
   "outputs": [
    {
     "name": "stdout",
     "output_type": "stream",
     "text": [
      "0.8211805555555556\n",
      "[[38  6  2  0  0  2 12  5]\n",
      " [ 9 41 11  0  0  3  3  3]\n",
      " [ 1  3 69  0  0  3  0  0]\n",
      " [ 1  0  1 71  0  0  0  0]\n",
      " [ 0  0  0  0 69  0  0  0]\n",
      " [ 6  7 17  0  0 43  5  0]\n",
      " [ 2  0  0  0  0  0 71  0]\n",
      " [ 1  0  0  0  0  0  0 71]]\n",
      "              precision    recall  f1-score   support\n",
      "\n",
      "           1       0.66      0.58      0.62        65\n",
      "           2       0.72      0.59      0.65        70\n",
      "           3       0.69      0.91      0.78        76\n",
      "           4       1.00      0.97      0.99        73\n",
      "           5       1.00      1.00      1.00        69\n",
      "           6       0.84      0.55      0.67        78\n",
      "           7       0.78      0.97      0.87        73\n",
      "           8       0.90      0.99      0.94        72\n",
      "\n",
      "    accuracy                           0.82       576\n",
      "   macro avg       0.82      0.82      0.81       576\n",
      "weighted avg       0.82      0.82      0.81       576\n",
      "\n"
     ]
    }
   ],
   "source": [
    "#Checking accuracy for support vector machine classifier\n",
    "\n",
    "svc=SVC()\n",
    "svc.fit(x_train,y_train)\n",
    "predsvc=svc.predict(x_test)\n",
    "print(accuracy_score(y_test,predsvc))\n",
    "print(confusion_matrix(y_test,predsvc))\n",
    "print(classification_report(y_test,predsvc))"
   ]
  },
  {
   "cell_type": "code",
   "execution_count": 91,
   "id": "50fe57c4",
   "metadata": {},
   "outputs": [],
   "source": [
    "#My accuracy is 82%"
   ]
  },
  {
   "cell_type": "code",
   "execution_count": 92,
   "id": "8a16f65e",
   "metadata": {},
   "outputs": [
    {
     "name": "stdout",
     "output_type": "stream",
     "text": [
      "0.8958333333333334\n",
      "[[52  3  2  0  0  0  7  1]\n",
      " [ 5 54  4  0  0  4  2  1]\n",
      " [ 0  0 69  0  0  7  0  0]\n",
      " [ 0  0  0 73  0  0  0  0]\n",
      " [ 0  0  0  0 69  0  0  0]\n",
      " [ 7  1  6  0  0 59  5  0]\n",
      " [ 1  2  0  0  0  0 70  0]\n",
      " [ 2  0  0  0  0  0  0 70]]\n",
      "              precision    recall  f1-score   support\n",
      "\n",
      "           1       0.78      0.80      0.79        65\n",
      "           2       0.90      0.77      0.83        70\n",
      "           3       0.85      0.91      0.88        76\n",
      "           4       1.00      1.00      1.00        73\n",
      "           5       1.00      1.00      1.00        69\n",
      "           6       0.84      0.76      0.80        78\n",
      "           7       0.83      0.96      0.89        73\n",
      "           8       0.97      0.97      0.97        72\n",
      "\n",
      "    accuracy                           0.90       576\n",
      "   macro avg       0.90      0.90      0.89       576\n",
      "weighted avg       0.90      0.90      0.89       576\n",
      "\n"
     ]
    }
   ],
   "source": [
    "#Checking accuracy for Gradient Boosting Classifier\n",
    "\n",
    "GB=GradientBoostingClassifier()\n",
    "GB.fit(x_train,y_train)\n",
    "predGB=GB.predict(x_test)\n",
    "print(accuracy_score(y_test,predGB))\n",
    "print(confusion_matrix(y_test,predGB))\n",
    "print(classification_report(y_test,predGB))"
   ]
  },
  {
   "cell_type": "code",
   "execution_count": 93,
   "id": "077a97f4",
   "metadata": {},
   "outputs": [],
   "source": [
    "# my accuracy is 89%"
   ]
  },
  {
   "cell_type": "code",
   "execution_count": 94,
   "id": "c7d57758",
   "metadata": {},
   "outputs": [
    {
     "name": "stdout",
     "output_type": "stream",
     "text": [
      "0.4826388888888889\n",
      "[[ 0 61  0  0  0  0  0  4]\n",
      " [ 1 66  0  0  0  0  0  3]\n",
      " [ 0 55  4  0  0  0  0 17]\n",
      " [ 0  0  0 72  1  0  0  0]\n",
      " [ 0  0  0  0 69  0  0  0]\n",
      " [ 0 48  5  0  0  0  0 25]\n",
      " [ 0 72  0  0  1  0  0  0]\n",
      " [ 3  0  2  0  0  0  0 67]]\n",
      "              precision    recall  f1-score   support\n",
      "\n",
      "           1       0.00      0.00      0.00        65\n",
      "           2       0.22      0.94      0.35        70\n",
      "           3       0.36      0.05      0.09        76\n",
      "           4       1.00      0.99      0.99        73\n",
      "           5       0.97      1.00      0.99        69\n",
      "           6       0.00      0.00      0.00        78\n",
      "           7       0.00      0.00      0.00        73\n",
      "           8       0.58      0.93      0.71        72\n",
      "\n",
      "    accuracy                           0.48       576\n",
      "   macro avg       0.39      0.49      0.39       576\n",
      "weighted avg       0.39      0.48      0.39       576\n",
      "\n"
     ]
    }
   ],
   "source": [
    "#Checking accuracy for Ada Boost Classifier\n",
    "\n",
    "ABC=AdaBoostClassifier()\n",
    "ABC.fit(x_train,y_train)\n",
    "predABC=ABC.predict(x_test)\n",
    "print(accuracy_score(y_test,predABC))\n",
    "print(confusion_matrix(y_test,predABC))\n",
    "print(classification_report(y_test,predABC))"
   ]
  },
  {
   "cell_type": "code",
   "execution_count": 95,
   "id": "211a2841",
   "metadata": {},
   "outputs": [],
   "source": [
    "# my accuracy is 42%"
   ]
  },
  {
   "cell_type": "code",
   "execution_count": 96,
   "id": "61b37692",
   "metadata": {},
   "outputs": [
    {
     "name": "stdout",
     "output_type": "stream",
     "text": [
      "0.921875\n",
      "[[55  1  1  0  0  2  4  2]\n",
      " [ 4 59  4  0  0  1  1  1]\n",
      " [ 0  0 73  0  0  3  0  0]\n",
      " [ 0  0  0 73  0  0  0  0]\n",
      " [ 0  0  0  0 69  0  0  0]\n",
      " [ 5  1  7  0  0 62  3  0]\n",
      " [ 0  2  0  0  0  0 71  0]\n",
      " [ 2  0  0  0  0  1  0 69]]\n",
      "              precision    recall  f1-score   support\n",
      "\n",
      "           1       0.83      0.85      0.84        65\n",
      "           2       0.94      0.84      0.89        70\n",
      "           3       0.86      0.96      0.91        76\n",
      "           4       1.00      1.00      1.00        73\n",
      "           5       1.00      1.00      1.00        69\n",
      "           6       0.90      0.79      0.84        78\n",
      "           7       0.90      0.97      0.93        73\n",
      "           8       0.96      0.96      0.96        72\n",
      "\n",
      "    accuracy                           0.92       576\n",
      "   macro avg       0.92      0.92      0.92       576\n",
      "weighted avg       0.92      0.92      0.92       576\n",
      "\n"
     ]
    }
   ],
   "source": [
    "#Checking accuracy for Bagging Classifier\n",
    "\n",
    "BC=BaggingClassifier()\n",
    "BC.fit(x_train,y_train)\n",
    "predBC=BC.predict(x_test)\n",
    "print(accuracy_score(y_test,predBC))\n",
    "print(confusion_matrix(y_test,predBC))\n",
    "print(classification_report(y_test,predBC))"
   ]
  },
  {
   "cell_type": "code",
   "execution_count": 97,
   "id": "71fae8aa",
   "metadata": {},
   "outputs": [],
   "source": [
    "# My accuracy is 92%"
   ]
  },
  {
   "cell_type": "code",
   "execution_count": 98,
   "id": "e7567574",
   "metadata": {},
   "outputs": [
    {
     "name": "stdout",
     "output_type": "stream",
     "text": [
      "0.9131944444444444\n",
      "[[48  3  1  0  0  2  5  6]\n",
      " [ 4 59  2  0  0  2  2  1]\n",
      " [ 1  1 69  0  0  5  0  0]\n",
      " [ 0  0  0 73  0  0  0  0]\n",
      " [ 0  0  0  0 69  0  0  0]\n",
      " [ 7  0  3  0  0 64  4  0]\n",
      " [ 0  0  0  0  0  0 73  0]\n",
      " [ 1  0  0  0  0  0  0 71]]\n",
      "              precision    recall  f1-score   support\n",
      "\n",
      "           1       0.79      0.74      0.76        65\n",
      "           2       0.94      0.84      0.89        70\n",
      "           3       0.92      0.91      0.91        76\n",
      "           4       1.00      1.00      1.00        73\n",
      "           5       1.00      1.00      1.00        69\n",
      "           6       0.88      0.82      0.85        78\n",
      "           7       0.87      1.00      0.93        73\n",
      "           8       0.91      0.99      0.95        72\n",
      "\n",
      "    accuracy                           0.91       576\n",
      "   macro avg       0.91      0.91      0.91       576\n",
      "weighted avg       0.91      0.91      0.91       576\n",
      "\n"
     ]
    }
   ],
   "source": [
    "#Checking accuracy for ExtraTrees Classifier\n",
    "\n",
    "ET=ExtraTreesClassifier()\n",
    "ET.fit(x_train,y_train)\n",
    "predET=ET.predict(x_test)\n",
    "print(accuracy_score(y_test,predET))\n",
    "print(confusion_matrix(y_test,predET))\n",
    "print(classification_report(y_test,predET))"
   ]
  },
  {
   "cell_type": "code",
   "execution_count": 99,
   "id": "398bab5b",
   "metadata": {},
   "outputs": [],
   "source": [
    "#My accuracy is 91%"
   ]
  },
  {
   "cell_type": "markdown",
   "id": "286041ff",
   "metadata": {},
   "source": [
    "### Cross Validation Score"
   ]
  },
  {
   "cell_type": "code",
   "execution_count": 100,
   "id": "fc2bdfb2",
   "metadata": {},
   "outputs": [],
   "source": [
    "from sklearn.model_selection import cross_val_score"
   ]
  },
  {
   "cell_type": "code",
   "execution_count": 101,
   "id": "8d9f91b1",
   "metadata": {},
   "outputs": [
    {
     "name": "stdout",
     "output_type": "stream",
     "text": [
      "[0.84635417 0.84114583 0.87239583 0.89583333 0.84375   ]\n",
      "0.8598958333333334\n",
      "Difference between Accuracy score and Cross validation score is: 0.061979166666666585\n"
     ]
    }
   ],
   "source": [
    "#Checking cv score for Random Forest Classifier\n",
    "\n",
    "score=cross_val_score(RFC,x,y) \n",
    "print(score)  #this will print the score 5 times one for each fold\n",
    "print(score.mean())   #will takeout the mean for all those 5 scores\n",
    "print(\"Difference between Accuracy score and Cross validation score is:\",accuracy_score(y_test,predRFC)-score.mean()) "
   ]
  },
  {
   "cell_type": "code",
   "execution_count": 102,
   "id": "5f429d11",
   "metadata": {},
   "outputs": [
    {
     "name": "stdout",
     "output_type": "stream",
     "text": [
      "[0.6015625  0.65364583 0.6640625  0.66927083 0.64583333]\n",
      "0.6468750000000001\n",
      "Difference between Accuracy score and Cross validation score is: 0.03020833333333328\n"
     ]
    }
   ],
   "source": [
    "#Checking cv score for Logistic Regression\n",
    "\n",
    "score=cross_val_score(LR,x,y)  \n",
    "print(score)\n",
    "print(score.mean())   \n",
    "print(\"Difference between Accuracy score and Cross validation score is:\",accuracy_score(y_test,predLR)-score.mean())"
   ]
  },
  {
   "cell_type": "code",
   "execution_count": 103,
   "id": "a725b82b",
   "metadata": {},
   "outputs": [
    {
     "name": "stdout",
     "output_type": "stream",
     "text": [
      "[0.83333333 0.81770833 0.84635417 0.86979167 0.8046875 ]\n",
      "0.834375\n",
      "Difference between Accuracy score and Cross validation score is: 0.06145833333333339\n"
     ]
    }
   ],
   "source": [
    "#Checking cv score for Gradient Boosting Classifier\n",
    "\n",
    "score=cross_val_score(GB,x,y)  \n",
    "print(score)\n",
    "print(score.mean())   \n",
    "print(\"Difference between Accuracy score and Cross validation score is:\",accuracy_score(y_test,predGB)-score.mean()) "
   ]
  },
  {
   "cell_type": "code",
   "execution_count": 104,
   "id": "a2834020",
   "metadata": {},
   "outputs": [
    {
     "name": "stdout",
     "output_type": "stream",
     "text": [
      "[0.6953125  0.75260417 0.79427083 0.8046875  0.75      ]\n",
      "0.759375\n",
      "Difference between Accuracy score and Cross validation score is: 0.06180555555555556\n"
     ]
    }
   ],
   "source": [
    "#Checking cv score for Support Vector Machine Classifier\n",
    "\n",
    "score=cross_val_score(svc,x,y)  \n",
    "print(score)\n",
    "print(score.mean())   \n",
    "print(\"Difference between Accuracy score and Cross validation score is:\",accuracy_score(y_test,predsvc)-score.mean()) "
   ]
  },
  {
   "cell_type": "code",
   "execution_count": 105,
   "id": "3388be91",
   "metadata": {},
   "outputs": [
    {
     "name": "stdout",
     "output_type": "stream",
     "text": [
      "[0.375      0.51041667 0.3984375  0.42447917 0.51302083]\n",
      "0.4442708333333333\n",
      "Difference between Accuracy score and Cross validation score is: 0.038368055555555614\n"
     ]
    }
   ],
   "source": [
    "#Checking cv score for Ada Boosting Classifier\n",
    "\n",
    "score=cross_val_score(ABC,x,y)  \n",
    "print(score)\n",
    "print(score.mean())   \n",
    "print(\"Difference between Accuracy score and Cross validation score is:\",accuracy_score(y_test,predABC)-score.mean()) "
   ]
  },
  {
   "cell_type": "code",
   "execution_count": 106,
   "id": "1d57c020",
   "metadata": {},
   "outputs": [
    {
     "name": "stdout",
     "output_type": "stream",
     "text": [
      "[0.83072917 0.8203125  0.890625   0.89322917 0.84635417]\n",
      "0.85625\n",
      "Difference between Accuracy score and Cross validation score is: 0.06562500000000004\n"
     ]
    }
   ],
   "source": [
    "#Checking cv score for Bagging Classifier\n",
    "\n",
    "score=cross_val_score(BC,x,y)  \n",
    "print(score)\n",
    "print(score.mean())   \n",
    "print(\"Difference between Accuracy score and Cross validation score is:\",accuracy_score(y_test,predBC)-score.mean()) "
   ]
  },
  {
   "cell_type": "code",
   "execution_count": 107,
   "id": "7c8fa714",
   "metadata": {},
   "outputs": [
    {
     "name": "stdout",
     "output_type": "stream",
     "text": [
      "[0.82552083 0.85677083 0.86979167 0.890625   0.86979167]\n",
      "0.8625\n",
      "Difference between Accuracy score and Cross validation score is: 0.050694444444444375\n"
     ]
    }
   ],
   "source": [
    "#Checking cv score for Extra Trees Classifier\n",
    "\n",
    "score=cross_val_score(ET,x,y)  \n",
    "print(score)\n",
    "print(score.mean())   \n",
    "\n",
    "print(\"Difference between Accuracy score and Cross validation score is:\",accuracy_score(y_test,predET)-score.mean())"
   ]
  },
  {
   "cell_type": "code",
   "execution_count": 108,
   "id": "4ea644e1",
   "metadata": {},
   "outputs": [],
   "source": [
    "# we can see that Logistic Regression model has lowest difference so we will go with it"
   ]
  },
  {
   "cell_type": "markdown",
   "id": "d94a4ae9",
   "metadata": {},
   "source": [
    "### Hyper Parameter Tuning"
   ]
  },
  {
   "cell_type": "code",
   "execution_count": 109,
   "id": "6985c7ca",
   "metadata": {},
   "outputs": [
    {
     "name": "stdout",
     "output_type": "stream",
     "text": [
      "Requirement already satisfied: sklearn.model in c:\\users\\saket\\anaconda3\\lib\\site-packages (0.0.6)\n",
      "Requirement already satisfied: pandas in c:\\users\\saket\\anaconda3\\lib\\site-packages (from sklearn.model) (1.4.2)\n",
      "Requirement already satisfied: scikit-learn>=0.22 in c:\\users\\saket\\anaconda3\\lib\\site-packages (from sklearn.model) (1.0.2)\n",
      "Requirement already satisfied: numpy>=1.14.6 in c:\\users\\saket\\anaconda3\\lib\\site-packages (from scikit-learn>=0.22->sklearn.model) (1.21.5)\n",
      "Requirement already satisfied: joblib>=0.11 in c:\\users\\saket\\anaconda3\\lib\\site-packages (from scikit-learn>=0.22->sklearn.model) (1.2.0)\n",
      "Requirement already satisfied: threadpoolctl>=2.0.0 in c:\\users\\saket\\anaconda3\\lib\\site-packages (from scikit-learn>=0.22->sklearn.model) (2.2.0)\n",
      "Requirement already satisfied: scipy>=1.1.0 in c:\\users\\saket\\anaconda3\\lib\\site-packages (from scikit-learn>=0.22->sklearn.model) (1.7.3)\n",
      "Requirement already satisfied: pytz>=2020.1 in c:\\users\\saket\\anaconda3\\lib\\site-packages (from pandas->sklearn.model) (2021.3)\n",
      "Requirement already satisfied: python-dateutil>=2.8.1 in c:\\users\\saket\\anaconda3\\lib\\site-packages (from pandas->sklearn.model) (2.8.2)\n",
      "Requirement already satisfied: six>=1.5 in c:\\users\\saket\\anaconda3\\lib\\site-packages (from python-dateutil>=2.8.1->pandas->sklearn.model) (1.16.0)\n"
     ]
    }
   ],
   "source": [
    "!pip install sklearn.model"
   ]
  },
  {
   "cell_type": "code",
   "execution_count": 115,
   "id": "fb1d6908",
   "metadata": {},
   "outputs": [],
   "source": [
    "#Logistic Regression model\n",
    "\n",
    "from sklearn.model_selection import GridSearchCV\n",
    "\n",
    "parameters = {\n",
    "    'C': [0.001, 0.01, 0.1, 1, 10, 100],\n",
    "    'penalty': ['l1', 'l2'],\n",
    "    'solver': ['liblinear', 'lbfgs', 'newton-cg', 'sag', 'saga'],\n",
    "    'max_iter': [100, 200, 300],\n",
    "    'class_weight': [None, 'balanced']\n",
    "}"
   ]
  },
  {
   "cell_type": "code",
   "execution_count": 116,
   "id": "ed6327b4",
   "metadata": {},
   "outputs": [],
   "source": [
    "GCV=GridSearchCV(LogisticRegression(),parameters,cv=5)"
   ]
  },
  {
   "cell_type": "code",
   "execution_count": 117,
   "id": "3f881cf4",
   "metadata": {},
   "outputs": [
    {
     "data": {
      "text/plain": [
       "GridSearchCV(cv=5, estimator=LogisticRegression(),\n",
       "             param_grid={'C': [0.001, 0.01, 0.1, 1, 10, 100],\n",
       "                         'class_weight': [None, 'balanced'],\n",
       "                         'max_iter': [100, 200, 300], 'penalty': ['l1', 'l2'],\n",
       "                         'solver': ['liblinear', 'lbfgs', 'newton-cg', 'sag',\n",
       "                                    'saga']})"
      ]
     },
     "execution_count": 117,
     "metadata": {},
     "output_type": "execute_result"
    }
   ],
   "source": [
    "GCV.fit(x_train,y_train)"
   ]
  },
  {
   "cell_type": "code",
   "execution_count": 118,
   "id": "82812c6b",
   "metadata": {},
   "outputs": [
    {
     "data": {
      "text/plain": [
       "{'C': 100,\n",
       " 'class_weight': 'balanced',\n",
       " 'max_iter': 100,\n",
       " 'penalty': 'l2',\n",
       " 'solver': 'lbfgs'}"
      ]
     },
     "execution_count": 118,
     "metadata": {},
     "output_type": "execute_result"
    }
   ],
   "source": [
    "GCV.best_params_"
   ]
  },
  {
   "cell_type": "code",
   "execution_count": 125,
   "id": "046ca80d",
   "metadata": {},
   "outputs": [
    {
     "name": "stdout",
     "output_type": "stream",
     "text": [
      "67.53472222222221\n"
     ]
    }
   ],
   "source": [
    "Final_model = LogisticRegression(C=100, class_weight='balanced', max_iter=100, penalty='l2', solver='lbfgs')\n",
    "Final_model.fit(x_train,y_train)\n",
    "pred=Final_model.predict(x_test)\n",
    "acc=accuracy_score(y_test,pred)\n",
    "print(acc*100)"
   ]
  },
  {
   "cell_type": "markdown",
   "id": "fe21841e",
   "metadata": {},
   "source": [
    "## Saving the model"
   ]
  },
  {
   "cell_type": "code",
   "execution_count": 126,
   "id": "fbdba305",
   "metadata": {},
   "outputs": [
    {
     "data": {
      "text/plain": [
       "['Primary Fuel.pkl']"
      ]
     },
     "execution_count": 126,
     "metadata": {},
     "output_type": "execute_result"
    }
   ],
   "source": [
    "#Saving the model using .pkl\n",
    "\n",
    "import joblib\n",
    "joblib.dump(Final_model,\"Primary Fuel.pkl\")"
   ]
  },
  {
   "cell_type": "markdown",
   "id": "d7b2e0f6",
   "metadata": {},
   "source": [
    "### Predicting the saved model"
   ]
  },
  {
   "cell_type": "code",
   "execution_count": 127,
   "id": "3747ab54",
   "metadata": {},
   "outputs": [
    {
     "data": {
      "text/plain": [
       "array([7, 5, 5, 5, 6, 3, 4, 7, 6, 4, 3, 4, 1, 7, 5, 5, 6, 4, 3, 6, 1, 6,\n",
       "       7, 8, 3, 8, 6, 5, 4, 5, 3, 4, 1, 4, 3, 8, 6, 1, 6, 4, 5, 4, 4, 3,\n",
       "       7, 1, 7, 8, 1, 7, 4, 6, 8, 8, 1, 3, 7, 5, 4, 3, 1, 2, 6, 7, 8, 8,\n",
       "       5, 5, 8, 2, 7, 3, 3, 6, 3, 7, 7, 7, 6, 2, 1, 8, 1, 2, 5, 2, 3, 7,\n",
       "       3, 2, 1, 7, 7, 2, 3, 3, 7, 2, 4, 4, 3, 1, 5, 4, 8, 2, 2, 1, 6, 5,\n",
       "       2, 7, 6, 8, 5, 7, 3, 7, 5, 5, 8, 7, 8, 7, 1, 7, 7, 7, 4, 4, 2, 4,\n",
       "       6, 6, 7, 7, 8, 7, 4, 6, 5, 8, 4, 2, 1, 8, 1, 1, 7, 8, 3, 8, 8, 1,\n",
       "       8, 3, 6, 1, 3, 1, 6, 3, 8, 3, 6, 5, 4, 2, 8, 6, 6, 6, 2, 6, 7, 6,\n",
       "       5, 8, 3, 7, 3, 7, 6, 2, 8, 7, 7, 3, 4, 1, 5, 3, 5, 3, 8, 7, 1, 1,\n",
       "       3, 7, 1, 4, 7, 1, 8, 5, 1, 3, 7, 5, 7, 6, 7, 2, 4, 7, 6, 4, 1, 4,\n",
       "       3, 6, 6, 3, 3, 6, 8, 7, 5, 3, 7, 3, 6, 8, 5, 7, 6, 5, 8, 7, 2, 7,\n",
       "       6, 6, 3, 5, 1, 8, 4, 8, 8, 8, 8, 6, 7, 7, 5, 4, 7, 6, 7, 2, 1, 1,\n",
       "       8, 7, 5, 3, 2, 5, 7, 4, 6, 2, 7, 3, 1, 4, 5, 8, 8, 7, 3, 3, 4, 5,\n",
       "       6, 1, 5, 1, 8, 2, 6, 1, 8, 3, 5, 1, 8, 2, 4, 8, 3, 7, 2, 8, 5, 4,\n",
       "       8, 7, 1, 6, 2, 4, 7, 4, 4, 3, 5, 7, 1, 7, 4, 5, 8, 8, 7, 7, 3, 3,\n",
       "       6, 6, 3, 5, 3, 4, 7, 3, 1, 8, 7, 5, 7, 6, 8, 8, 3, 7, 4, 6, 3, 6,\n",
       "       6, 7, 8, 4, 3, 4, 2, 7, 3, 4, 7, 8, 4, 7, 4, 8, 3, 6, 4, 2, 3, 8,\n",
       "       5, 6, 1, 2, 4, 3, 7, 8, 5, 2, 7, 5, 5, 5, 1, 8, 1, 1, 8, 1, 1, 4,\n",
       "       6, 1, 2, 7, 6, 7, 6, 5, 1, 3, 2, 3, 1, 4, 3, 7, 7, 7, 8, 8, 5, 7,\n",
       "       4, 8, 5, 2, 4, 8, 5, 3, 3, 1, 7, 6, 7, 5, 8, 4, 3, 5, 1, 5, 4, 3,\n",
       "       1, 4, 4, 7, 3, 3, 5, 4, 6, 1, 8, 2, 2, 6, 6, 5, 5, 7, 1, 7, 8, 6,\n",
       "       3, 1, 6, 5, 3, 7, 8, 8, 7, 4, 2, 5, 4, 4, 5, 6, 7, 4, 8, 1, 1, 8,\n",
       "       6, 6, 4, 3, 1, 4, 4, 4, 8, 3, 6, 5, 8, 3, 4, 7, 1, 6, 3, 8, 5, 8,\n",
       "       5, 8, 5, 1, 6, 6, 6, 8, 2, 3, 8, 7, 2, 4, 6, 6, 2, 3, 4, 5, 3, 8,\n",
       "       5, 7, 8, 3, 6, 3, 1, 1, 8, 6, 8, 6, 8, 3, 3, 7, 7, 7, 1, 7, 6, 7,\n",
       "       4, 5, 5, 8, 3, 4, 5, 3, 7, 6, 1, 3, 4, 3, 5, 3, 3, 6, 4, 1, 7, 4,\n",
       "       4, 1, 7, 8], dtype=int64)"
      ]
     },
     "execution_count": 127,
     "metadata": {},
     "output_type": "execute_result"
    }
   ],
   "source": [
    "#Lets load the saved model and get the predictions\n",
    "\n",
    "model=joblib.load(\"Primary Fuel.pkl\")\n",
    "\n",
    "\n",
    "#Prediction\n",
    "prediction=model.predict(x_test)\n",
    "prediction"
   ]
  },
  {
   "cell_type": "markdown",
   "id": "bdcedadc",
   "metadata": {},
   "source": [
    "### Plot the AUC ROC curve"
   ]
  },
  {
   "cell_type": "code",
   "execution_count": 128,
   "id": "c0431def",
   "metadata": {},
   "outputs": [],
   "source": [
    "from sklearn.metrics import roc_auc_score\n",
    "from sklearn.metrics import roc_curve\n",
    "from sklearn.metrics import auc"
   ]
  },
  {
   "cell_type": "code",
   "execution_count": 132,
   "id": "87fe7bcb",
   "metadata": {},
   "outputs": [
    {
     "ename": "ValueError",
     "evalue": "multiclass format is not supported",
     "output_type": "error",
     "traceback": [
      "\u001b[1;31m---------------------------------------------------------------------------\u001b[0m",
      "\u001b[1;31mValueError\u001b[0m                                Traceback (most recent call last)",
      "Input \u001b[1;32mIn [132]\u001b[0m, in \u001b[0;36m<cell line: 2>\u001b[1;34m()\u001b[0m\n\u001b[0;32m      1\u001b[0m y_pred_prob\u001b[38;5;241m=\u001b[39mFinal_model\u001b[38;5;241m.\u001b[39mpredict_proba(x_test)[:,\u001b[38;5;241m1\u001b[39m]\n\u001b[1;32m----> 2\u001b[0m fpr,tpr,thresholds\u001b[38;5;241m=\u001b[39m\u001b[43mroc_curve\u001b[49m\u001b[43m(\u001b[49m\u001b[43my_test\u001b[49m\u001b[43m,\u001b[49m\u001b[43my_pred_prob\u001b[49m\u001b[43m)\u001b[49m\n\u001b[0;32m      3\u001b[0m roc_auc\u001b[38;5;241m=\u001b[39mauc(fpr,tpr)\n\u001b[0;32m      5\u001b[0m plt\u001b[38;5;241m.\u001b[39mplot([\u001b[38;5;241m0\u001b[39m,\u001b[38;5;241m1\u001b[39m],[\u001b[38;5;241m0\u001b[39m,\u001b[38;5;241m1\u001b[39m],\u001b[38;5;124m'\u001b[39m\u001b[38;5;124mk--\u001b[39m\u001b[38;5;124m'\u001b[39m)\n",
      "File \u001b[1;32m~\\anaconda3\\lib\\site-packages\\sklearn\\metrics\\_ranking.py:962\u001b[0m, in \u001b[0;36mroc_curve\u001b[1;34m(y_true, y_score, pos_label, sample_weight, drop_intermediate)\u001b[0m\n\u001b[0;32m    873\u001b[0m \u001b[38;5;28;01mdef\u001b[39;00m \u001b[38;5;21mroc_curve\u001b[39m(\n\u001b[0;32m    874\u001b[0m     y_true, y_score, \u001b[38;5;241m*\u001b[39m, pos_label\u001b[38;5;241m=\u001b[39m\u001b[38;5;28;01mNone\u001b[39;00m, sample_weight\u001b[38;5;241m=\u001b[39m\u001b[38;5;28;01mNone\u001b[39;00m, drop_intermediate\u001b[38;5;241m=\u001b[39m\u001b[38;5;28;01mTrue\u001b[39;00m\n\u001b[0;32m    875\u001b[0m ):\n\u001b[0;32m    876\u001b[0m     \u001b[38;5;124;03m\"\"\"Compute Receiver operating characteristic (ROC).\u001b[39;00m\n\u001b[0;32m    877\u001b[0m \n\u001b[0;32m    878\u001b[0m \u001b[38;5;124;03m    Note: this implementation is restricted to the binary classification task.\u001b[39;00m\n\u001b[1;32m   (...)\u001b[0m\n\u001b[0;32m    960\u001b[0m \n\u001b[0;32m    961\u001b[0m \u001b[38;5;124;03m    \"\"\"\u001b[39;00m\n\u001b[1;32m--> 962\u001b[0m     fps, tps, thresholds \u001b[38;5;241m=\u001b[39m \u001b[43m_binary_clf_curve\u001b[49m\u001b[43m(\u001b[49m\n\u001b[0;32m    963\u001b[0m \u001b[43m        \u001b[49m\u001b[43my_true\u001b[49m\u001b[43m,\u001b[49m\u001b[43m \u001b[49m\u001b[43my_score\u001b[49m\u001b[43m,\u001b[49m\u001b[43m \u001b[49m\u001b[43mpos_label\u001b[49m\u001b[38;5;241;43m=\u001b[39;49m\u001b[43mpos_label\u001b[49m\u001b[43m,\u001b[49m\u001b[43m \u001b[49m\u001b[43msample_weight\u001b[49m\u001b[38;5;241;43m=\u001b[39;49m\u001b[43msample_weight\u001b[49m\n\u001b[0;32m    964\u001b[0m \u001b[43m    \u001b[49m\u001b[43m)\u001b[49m\n\u001b[0;32m    966\u001b[0m     \u001b[38;5;66;03m# Attempt to drop thresholds corresponding to points in between and\u001b[39;00m\n\u001b[0;32m    967\u001b[0m     \u001b[38;5;66;03m# collinear with other points. These are always suboptimal and do not\u001b[39;00m\n\u001b[0;32m    968\u001b[0m     \u001b[38;5;66;03m# appear on a plotted ROC curve (and thus do not affect the AUC).\u001b[39;00m\n\u001b[1;32m   (...)\u001b[0m\n\u001b[0;32m    973\u001b[0m     \u001b[38;5;66;03m# but does not drop more complicated cases like fps = [1, 3, 7],\u001b[39;00m\n\u001b[0;32m    974\u001b[0m     \u001b[38;5;66;03m# tps = [1, 2, 4]; there is no harm in keeping too many thresholds.\u001b[39;00m\n\u001b[0;32m    975\u001b[0m     \u001b[38;5;28;01mif\u001b[39;00m drop_intermediate \u001b[38;5;129;01mand\u001b[39;00m \u001b[38;5;28mlen\u001b[39m(fps) \u001b[38;5;241m>\u001b[39m \u001b[38;5;241m2\u001b[39m:\n",
      "File \u001b[1;32m~\\anaconda3\\lib\\site-packages\\sklearn\\metrics\\_ranking.py:731\u001b[0m, in \u001b[0;36m_binary_clf_curve\u001b[1;34m(y_true, y_score, pos_label, sample_weight)\u001b[0m\n\u001b[0;32m    729\u001b[0m y_type \u001b[38;5;241m=\u001b[39m type_of_target(y_true)\n\u001b[0;32m    730\u001b[0m \u001b[38;5;28;01mif\u001b[39;00m \u001b[38;5;129;01mnot\u001b[39;00m (y_type \u001b[38;5;241m==\u001b[39m \u001b[38;5;124m\"\u001b[39m\u001b[38;5;124mbinary\u001b[39m\u001b[38;5;124m\"\u001b[39m \u001b[38;5;129;01mor\u001b[39;00m (y_type \u001b[38;5;241m==\u001b[39m \u001b[38;5;124m\"\u001b[39m\u001b[38;5;124mmulticlass\u001b[39m\u001b[38;5;124m\"\u001b[39m \u001b[38;5;129;01mand\u001b[39;00m pos_label \u001b[38;5;129;01mis\u001b[39;00m \u001b[38;5;129;01mnot\u001b[39;00m \u001b[38;5;28;01mNone\u001b[39;00m)):\n\u001b[1;32m--> 731\u001b[0m     \u001b[38;5;28;01mraise\u001b[39;00m \u001b[38;5;167;01mValueError\u001b[39;00m(\u001b[38;5;124m\"\u001b[39m\u001b[38;5;132;01m{0}\u001b[39;00m\u001b[38;5;124m format is not supported\u001b[39m\u001b[38;5;124m\"\u001b[39m\u001b[38;5;241m.\u001b[39mformat(y_type))\n\u001b[0;32m    733\u001b[0m check_consistent_length(y_true, y_score, sample_weight)\n\u001b[0;32m    734\u001b[0m y_true \u001b[38;5;241m=\u001b[39m column_or_1d(y_true)\n",
      "\u001b[1;31mValueError\u001b[0m: multiclass format is not supported"
     ]
    }
   ],
   "source": [
    "y_pred_prob=Final_model.predict_proba(x_test)[:,1]\n",
    "fpr,tpr,thresholds=roc_curve(y_test,y_pred_prob)\n",
    "roc_auc=auc(fpr,tpr)\n",
    "\n",
    "plt.plot([0,1],[0,1],'k--')\n",
    "plt.plot(fpr,tpr,label=\"LogisticRegression(area=%0.2f)\"% roc_auc)\n",
    "plt.xlabel(\"False Positive Rate\")\n",
    "plt.ylabel(\"True Positive Rate\")\n",
    "plt.show()\n",
    "auc_score=roc_auc_score(y_test,Final_model.predict(x_test))\n",
    "print(\"AUC score:\",\"\\n\",auc_score)"
   ]
  },
  {
   "cell_type": "markdown",
   "id": "6640a66e",
   "metadata": {},
   "source": [
    "# Regression model"
   ]
  },
  {
   "cell_type": "markdown",
   "id": "2ff132ae",
   "metadata": {},
   "source": [
    "#### Predicting capacity_mw "
   ]
  },
  {
   "cell_type": "markdown",
   "id": "76ebfbed",
   "metadata": {},
   "source": [
    "## Seperating Features and Label"
   ]
  },
  {
   "cell_type": "code",
   "execution_count": 133,
   "id": "10ae0b85",
   "metadata": {},
   "outputs": [],
   "source": [
    "x=df.drop(['capacity_mw'],axis=1)\n",
    "y=df[\"capacity_mw\"]"
   ]
  },
  {
   "cell_type": "code",
   "execution_count": 134,
   "id": "e5367187",
   "metadata": {},
   "outputs": [
    {
     "name": "stdout",
     "output_type": "stream",
     "text": [
      "Feature dimensions: (871, 8)\n",
      "Target dimensions: (871,)\n"
     ]
    }
   ],
   "source": [
    "print(\"Feature dimensions:\",x.shape)\n",
    "print(\"Target dimensions:\",y.shape)"
   ]
  },
  {
   "cell_type": "markdown",
   "id": "15ebe1f9",
   "metadata": {},
   "source": [
    "### Feature scaling using standard scalarisation"
   ]
  },
  {
   "cell_type": "code",
   "execution_count": 135,
   "id": "d31771a1",
   "metadata": {},
   "outputs": [
    {
     "data": {
      "text/html": [
       "<div>\n",
       "<style scoped>\n",
       "    .dataframe tbody tr th:only-of-type {\n",
       "        vertical-align: middle;\n",
       "    }\n",
       "\n",
       "    .dataframe tbody tr th {\n",
       "        vertical-align: top;\n",
       "    }\n",
       "\n",
       "    .dataframe thead th {\n",
       "        text-align: right;\n",
       "    }\n",
       "</style>\n",
       "<table border=\"1\" class=\"dataframe\">\n",
       "  <thead>\n",
       "    <tr style=\"text-align: right;\">\n",
       "      <th></th>\n",
       "      <th>name</th>\n",
       "      <th>gppd_idnr</th>\n",
       "      <th>latitude</th>\n",
       "      <th>longitude</th>\n",
       "      <th>primary_fuel</th>\n",
       "      <th>source</th>\n",
       "      <th>url</th>\n",
       "      <th>geolocation_source</th>\n",
       "    </tr>\n",
       "  </thead>\n",
       "  <tbody>\n",
       "    <tr>\n",
       "      <th>0</th>\n",
       "      <td>-1.730063</td>\n",
       "      <td>0.743728</td>\n",
       "      <td>1.152834</td>\n",
       "      <td>-0.943636</td>\n",
       "      <td>0.017398</td>\n",
       "      <td>1.421876</td>\n",
       "      <td>0.449820</td>\n",
       "      <td>-1.056082</td>\n",
       "    </tr>\n",
       "    <tr>\n",
       "      <th>1</th>\n",
       "      <td>-1.726086</td>\n",
       "      <td>0.194881</td>\n",
       "      <td>0.596680</td>\n",
       "      <td>-0.524376</td>\n",
       "      <td>-1.319695</td>\n",
       "      <td>2.858110</td>\n",
       "      <td>1.080231</td>\n",
       "      <td>0.401679</td>\n",
       "    </tr>\n",
       "    <tr>\n",
       "      <th>2</th>\n",
       "      <td>-1.722109</td>\n",
       "      <td>1.519274</td>\n",
       "      <td>0.130858</td>\n",
       "      <td>-2.380666</td>\n",
       "      <td>0.463096</td>\n",
       "      <td>-0.522564</td>\n",
       "      <td>1.528523</td>\n",
       "      <td>0.401679</td>\n",
       "    </tr>\n",
       "    <tr>\n",
       "      <th>3</th>\n",
       "      <td>-1.718132</td>\n",
       "      <td>-1.730063</td>\n",
       "      <td>0.451018</td>\n",
       "      <td>2.432694</td>\n",
       "      <td>-0.873998</td>\n",
       "      <td>-0.500469</td>\n",
       "      <td>-0.530819</td>\n",
       "      <td>0.401679</td>\n",
       "    </tr>\n",
       "    <tr>\n",
       "      <th>4</th>\n",
       "      <td>-1.714155</td>\n",
       "      <td>-1.726086</td>\n",
       "      <td>0.140053</td>\n",
       "      <td>1.241301</td>\n",
       "      <td>-1.319695</td>\n",
       "      <td>-0.500469</td>\n",
       "      <td>-0.530819</td>\n",
       "      <td>0.401679</td>\n",
       "    </tr>\n",
       "    <tr>\n",
       "      <th>...</th>\n",
       "      <td>...</td>\n",
       "      <td>...</td>\n",
       "      <td>...</td>\n",
       "      <td>...</td>\n",
       "      <td>...</td>\n",
       "      <td>...</td>\n",
       "      <td>...</td>\n",
       "      <td>...</td>\n",
       "    </tr>\n",
       "    <tr>\n",
       "      <th>866</th>\n",
       "      <td>1.714155</td>\n",
       "      <td>0.095452</td>\n",
       "      <td>-0.781891</td>\n",
       "      <td>0.205526</td>\n",
       "      <td>-1.319695</td>\n",
       "      <td>-0.500469</td>\n",
       "      <td>-0.530819</td>\n",
       "      <td>0.401679</td>\n",
       "    </tr>\n",
       "    <tr>\n",
       "      <th>867</th>\n",
       "      <td>1.718132</td>\n",
       "      <td>1.395982</td>\n",
       "      <td>-1.335458</td>\n",
       "      <td>0.395445</td>\n",
       "      <td>0.017398</td>\n",
       "      <td>0.714806</td>\n",
       "      <td>-1.035147</td>\n",
       "      <td>-2.513844</td>\n",
       "    </tr>\n",
       "    <tr>\n",
       "      <th>868</th>\n",
       "      <td>1.722109</td>\n",
       "      <td>1.670406</td>\n",
       "      <td>-0.947732</td>\n",
       "      <td>-0.250151</td>\n",
       "      <td>0.463096</td>\n",
       "      <td>-0.522564</td>\n",
       "      <td>2.299024</td>\n",
       "      <td>0.401679</td>\n",
       "    </tr>\n",
       "    <tr>\n",
       "      <th>869</th>\n",
       "      <td>1.726086</td>\n",
       "      <td>0.274424</td>\n",
       "      <td>0.528934</td>\n",
       "      <td>-0.783513</td>\n",
       "      <td>-1.319695</td>\n",
       "      <td>0.317080</td>\n",
       "      <td>-0.194600</td>\n",
       "      <td>0.401679</td>\n",
       "    </tr>\n",
       "    <tr>\n",
       "      <th>870</th>\n",
       "      <td>1.730063</td>\n",
       "      <td>1.610749</td>\n",
       "      <td>-1.816950</td>\n",
       "      <td>0.234371</td>\n",
       "      <td>0.463096</td>\n",
       "      <td>-0.522564</td>\n",
       "      <td>2.088888</td>\n",
       "      <td>0.401679</td>\n",
       "    </tr>\n",
       "  </tbody>\n",
       "</table>\n",
       "<p>871 rows × 8 columns</p>\n",
       "</div>"
      ],
      "text/plain": [
       "         name  gppd_idnr  latitude  longitude  primary_fuel    source  \\\n",
       "0   -1.730063   0.743728  1.152834  -0.943636      0.017398  1.421876   \n",
       "1   -1.726086   0.194881  0.596680  -0.524376     -1.319695  2.858110   \n",
       "2   -1.722109   1.519274  0.130858  -2.380666      0.463096 -0.522564   \n",
       "3   -1.718132  -1.730063  0.451018   2.432694     -0.873998 -0.500469   \n",
       "4   -1.714155  -1.726086  0.140053   1.241301     -1.319695 -0.500469   \n",
       "..        ...        ...       ...        ...           ...       ...   \n",
       "866  1.714155   0.095452 -0.781891   0.205526     -1.319695 -0.500469   \n",
       "867  1.718132   1.395982 -1.335458   0.395445      0.017398  0.714806   \n",
       "868  1.722109   1.670406 -0.947732  -0.250151      0.463096 -0.522564   \n",
       "869  1.726086   0.274424  0.528934  -0.783513     -1.319695  0.317080   \n",
       "870  1.730063   1.610749 -1.816950   0.234371      0.463096 -0.522564   \n",
       "\n",
       "          url  geolocation_source  \n",
       "0    0.449820           -1.056082  \n",
       "1    1.080231            0.401679  \n",
       "2    1.528523            0.401679  \n",
       "3   -0.530819            0.401679  \n",
       "4   -0.530819            0.401679  \n",
       "..        ...                 ...  \n",
       "866 -0.530819            0.401679  \n",
       "867 -1.035147           -2.513844  \n",
       "868  2.299024            0.401679  \n",
       "869 -0.194600            0.401679  \n",
       "870  2.088888            0.401679  \n",
       "\n",
       "[871 rows x 8 columns]"
      ]
     },
     "execution_count": 135,
     "metadata": {},
     "output_type": "execute_result"
    }
   ],
   "source": [
    "from sklearn.preprocessing import StandardScaler\n",
    "scaler=StandardScaler()\n",
    "x=pd.DataFrame(scaler.fit_transform(x),columns=x.columns)\n",
    "x"
   ]
  },
  {
   "cell_type": "code",
   "execution_count": 136,
   "id": "153f5ee7",
   "metadata": {},
   "outputs": [
    {
     "data": {
      "text/html": [
       "<div>\n",
       "<style scoped>\n",
       "    .dataframe tbody tr th:only-of-type {\n",
       "        vertical-align: middle;\n",
       "    }\n",
       "\n",
       "    .dataframe tbody tr th {\n",
       "        vertical-align: top;\n",
       "    }\n",
       "\n",
       "    .dataframe thead th {\n",
       "        text-align: right;\n",
       "    }\n",
       "</style>\n",
       "<table border=\"1\" class=\"dataframe\">\n",
       "  <thead>\n",
       "    <tr style=\"text-align: right;\">\n",
       "      <th></th>\n",
       "      <th>VIF values</th>\n",
       "      <th>Features</th>\n",
       "    </tr>\n",
       "  </thead>\n",
       "  <tbody>\n",
       "    <tr>\n",
       "      <th>0</th>\n",
       "      <td>1.328543</td>\n",
       "      <td>name</td>\n",
       "    </tr>\n",
       "    <tr>\n",
       "      <th>1</th>\n",
       "      <td>3.245974</td>\n",
       "      <td>gppd_idnr</td>\n",
       "    </tr>\n",
       "    <tr>\n",
       "      <th>2</th>\n",
       "      <td>1.103075</td>\n",
       "      <td>latitude</td>\n",
       "    </tr>\n",
       "    <tr>\n",
       "      <th>3</th>\n",
       "      <td>1.314252</td>\n",
       "      <td>longitude</td>\n",
       "    </tr>\n",
       "    <tr>\n",
       "      <th>4</th>\n",
       "      <td>1.051914</td>\n",
       "      <td>primary_fuel</td>\n",
       "    </tr>\n",
       "    <tr>\n",
       "      <th>5</th>\n",
       "      <td>1.421245</td>\n",
       "      <td>source</td>\n",
       "    </tr>\n",
       "    <tr>\n",
       "      <th>6</th>\n",
       "      <td>2.067704</td>\n",
       "      <td>url</td>\n",
       "    </tr>\n",
       "    <tr>\n",
       "      <th>7</th>\n",
       "      <td>1.987111</td>\n",
       "      <td>geolocation_source</td>\n",
       "    </tr>\n",
       "  </tbody>\n",
       "</table>\n",
       "</div>"
      ],
      "text/plain": [
       "   VIF values            Features\n",
       "0    1.328543                name\n",
       "1    3.245974           gppd_idnr\n",
       "2    1.103075            latitude\n",
       "3    1.314252           longitude\n",
       "4    1.051914        primary_fuel\n",
       "5    1.421245              source\n",
       "6    2.067704                 url\n",
       "7    1.987111  geolocation_source"
      ]
     },
     "execution_count": 136,
     "metadata": {},
     "output_type": "execute_result"
    }
   ],
   "source": [
    "#Checking Vif in every scaled column\n",
    "\n",
    "from statsmodels.stats.outliers_influence import variance_inflation_factor\n",
    "vif=pd.DataFrame()\n",
    "vif[\"VIF values\"]=[variance_inflation_factor(x.values,i)for i in range(len(x.columns))]\n",
    "vif[\"Features\"]=x.columns\n",
    "\n",
    "vif"
   ]
  },
  {
   "cell_type": "markdown",
   "id": "69a7ac14",
   "metadata": {},
   "source": [
    "VIF = 1: Indicates no multicollinearity. The predictor variable is not correlated with other variables in the model. VIF > 1 and VIF < 5: Suggests moderate multicollinearity. The predictor variable is moderately correlated with other variables. VIF >= 5: Indicates high multicollinearity. The predictor variable is highly correlated with other variables, and its coefficient estimates may be unreliable"
   ]
  },
  {
   "cell_type": "markdown",
   "id": "c1ac422e",
   "metadata": {},
   "source": [
    "### Modelling"
   ]
  },
  {
   "cell_type": "code",
   "execution_count": 137,
   "id": "3a689957",
   "metadata": {},
   "outputs": [],
   "source": [
    "#Importing libraries\n",
    "\n",
    "from sklearn.model_selection import train_test_split\n",
    "from sklearn.metrics import mean_absolute_error\n",
    "from sklearn.metrics import mean_squared_error\n",
    "from sklearn.metrics import r2_score\n",
    "from sklearn.ensemble import GradientBoostingRegressor\n",
    "from sklearn.linear_model import LinearRegression"
   ]
  },
  {
   "cell_type": "markdown",
   "id": "0398d300",
   "metadata": {},
   "source": [
    "### Creating train test split"
   ]
  },
  {
   "cell_type": "code",
   "execution_count": 138,
   "id": "faea85e3",
   "metadata": {},
   "outputs": [
    {
     "name": "stdout",
     "output_type": "stream",
     "text": [
      "Maximum R2 score is: 0.6351127370541438 on random state 67\n"
     ]
    }
   ],
   "source": [
    "maxAccu=0\n",
    "maxRS=0\n",
    "for i in range(1,100):\n",
    "    x_train,x_test,y_train,y_test=train_test_split(x,y,test_size=0.20,random_state=i)\n",
    "    lr=LinearRegression()\n",
    "    lr.fit(x_train,y_train)\n",
    "    pred=lr.predict(x_test)\n",
    "    acc=r2_score(y_test,pred)\n",
    "    if acc>maxAccu:\n",
    "        maxAccu=acc\n",
    "        maxRS=i\n",
    "print(\"Maximum R2 score is:\",maxAccu,\"on random state\",maxRS)"
   ]
  },
  {
   "cell_type": "code",
   "execution_count": 139,
   "id": "0475eb55",
   "metadata": {},
   "outputs": [],
   "source": [
    "x_train,x_test,y_train,y_test=train_test_split(x,y,test_size=0.30,random_state=maxRS) "
   ]
  },
  {
   "cell_type": "code",
   "execution_count": 140,
   "id": "3e6a47ea",
   "metadata": {},
   "outputs": [],
   "source": [
    "#Importing all the regressor models\n",
    "\n",
    "from sklearn.ensemble import ExtraTreesRegressor\n",
    "from sklearn.linear_model import LinearRegression\n",
    "from sklearn.ensemble import RandomForestRegressor\n",
    "from sklearn.tree import DecisionTreeRegressor\n",
    "from sklearn.neighbors import KNeighborsRegressor as KNN\n",
    "from sklearn.linear_model import Lasso,Ridge"
   ]
  },
  {
   "cell_type": "code",
   "execution_count": 141,
   "id": "4e340c9a",
   "metadata": {},
   "outputs": [
    {
     "name": "stdout",
     "output_type": "stream",
     "text": [
      "R2 score: 0.6213859131653345\n",
      "R2 score on training data: 49.74285449809964\n",
      "Mean Absolute Error: 0.8327903558295374\n",
      "Mean Squared Error: 1.028013104194285\n",
      "Root Mean Squared Error: 1.013909810680558\n"
     ]
    }
   ],
   "source": [
    "LR=LinearRegression()\n",
    "LR.fit(x_train,y_train)\n",
    "pred_LR=LR.predict(x_test)\n",
    "pred_train=LR.predict(x_train)\n",
    "print(\"R2 score:\",r2_score(y_test,pred_LR))\n",
    "print(\"R2 score on training data:\",r2_score(y_train,pred_train)*100)\n",
    "print(\"Mean Absolute Error:\",mean_absolute_error(y_test,pred_LR))\n",
    "print(\"Mean Squared Error:\",mean_squared_error(y_test,pred_LR))\n",
    "print(\"Root Mean Squared Error:\",np.sqrt(mean_squared_error(y_test,pred_LR)))"
   ]
  },
  {
   "cell_type": "code",
   "execution_count": 142,
   "id": "e541999c",
   "metadata": {},
   "outputs": [
    {
     "name": "stdout",
     "output_type": "stream",
     "text": [
      "R2 score: 0.6675410955119812\n",
      "R2 score on training data: 93.87065797939054\n",
      "Mean Absolute Error: 0.7118360932091797\n",
      "Mean Squared Error: 0.9026925365537332\n",
      "Root Mean Squared Error: 0.9501013296242318\n"
     ]
    }
   ],
   "source": [
    "RFR=RandomForestRegressor()\n",
    "RFR.fit(x_train,y_train)\n",
    "pred_RFR=RFR.predict(x_test)\n",
    "pred_train=RFR.predict(x_train)\n",
    "print(\"R2 score:\",r2_score(y_test,pred_RFR))\n",
    "print(\"R2 score on training data:\",r2_score(y_train,pred_train)*100)\n",
    "print(\"Mean Absolute Error:\",mean_absolute_error(y_test,pred_RFR))\n",
    "print(\"Mean Squared Error:\",mean_squared_error(y_test,pred_RFR))\n",
    "print(\"Root Mean Squared Error:\",np.sqrt(mean_squared_error(y_test,pred_RFR)))"
   ]
  },
  {
   "cell_type": "code",
   "execution_count": 143,
   "id": "4efe81ec",
   "metadata": {},
   "outputs": [
    {
     "name": "stdout",
     "output_type": "stream",
     "text": [
      "R2 score: 0.6193404672411122\n",
      "R2 score on training data: 65.68734846841267\n",
      "Mean Absolute Error: 0.7828142021101322\n",
      "Mean Squared Error: 1.033566899700419\n",
      "Root Mean Squared Error: 1.016644923117417\n"
     ]
    }
   ],
   "source": [
    "knn=KNN()\n",
    "knn.fit(x_train,y_train)\n",
    "pred_knn=knn.predict(x_test)\n",
    "pred_train=knn.predict(x_train)\n",
    "print(\"R2 score:\",r2_score(y_test,pred_knn))\n",
    "print(\"R2 score on training data:\",r2_score(y_train,pred_train)*100)\n",
    "print(\"Mean Absolute Error:\",mean_absolute_error(y_test,pred_knn))\n",
    "print(\"Mean Squared Error:\",mean_squared_error(y_test,pred_knn))\n",
    "print(\"Root Mean Squared Error:\",np.sqrt(mean_squared_error(y_test,pred_knn)))"
   ]
  },
  {
   "cell_type": "code",
   "execution_count": 144,
   "id": "10bd8b2f",
   "metadata": {},
   "outputs": [
    {
     "name": "stdout",
     "output_type": "stream",
     "text": [
      "R2 score: 0.6509645620987252\n",
      "R2 score on training data: 78.79862732731235\n",
      "Mean Absolute Error: 0.7524754168909132\n",
      "Mean Squared Error: 0.9477011460151741\n",
      "Root Mean Squared Error: 0.9734994329814343\n"
     ]
    }
   ],
   "source": [
    "GBR=GradientBoostingRegressor()\n",
    "GBR.fit(x_train,y_train)\n",
    "pred_GBR=GBR.predict(x_test)\n",
    "pred_train=GBR.predict(x_train)\n",
    "print(\"R2 score:\",r2_score(y_test,pred_GBR))\n",
    "print(\"R2 score on training data:\",r2_score(y_train,pred_train)*100)\n",
    "print(\"Mean Absolute Error:\",mean_absolute_error(y_test,pred_GBR))\n",
    "print(\"Mean Squared Error:\",mean_squared_error(y_test,pred_GBR))\n",
    "print(\"Root Mean Squared Error:\",np.sqrt(mean_squared_error(y_test,pred_GBR)))"
   ]
  },
  {
   "cell_type": "code",
   "execution_count": 145,
   "id": "11809261",
   "metadata": {},
   "outputs": [
    {
     "name": "stdout",
     "output_type": "stream",
     "text": [
      "R2 score: -0.00016988031580389418\n",
      "R2 score on training data: 0.0\n",
      "Mean Absolute Error: 1.3988426602591721\n",
      "Mean Squared Error: 2.7156616172975863\n",
      "Root Mean Squared Error: 1.6479264599179133\n"
     ]
    }
   ],
   "source": [
    "lasso=Lasso()\n",
    "lasso.fit(x_train,y_train)\n",
    "pred_lasso=lasso.predict(x_test)\n",
    "pred_train=lasso.predict(x_train)\n",
    "print(\"R2 score:\",r2_score(y_test,pred_lasso))\n",
    "print(\"R2 score on training data:\",r2_score(y_train,pred_train)*100)\n",
    "print(\"Mean Absolute Error:\",mean_absolute_error(y_test,pred_lasso))\n",
    "print(\"Mean Squared Error:\",mean_squared_error(y_test,pred_lasso))\n",
    "print(\"Root Mean Squared Error:\",np.sqrt(mean_squared_error(y_test,pred_lasso)))"
   ]
  },
  {
   "cell_type": "code",
   "execution_count": 146,
   "id": "98264ac9",
   "metadata": {},
   "outputs": [
    {
     "name": "stdout",
     "output_type": "stream",
     "text": [
      "R2 score: 0.6212464345186521\n",
      "R2 score on training data: 49.742690981202244\n",
      "Mean Absolute Error: 0.8329854562130693\n",
      "Mean Squared Error: 1.028391816665719\n",
      "Root Mean Squared Error: 1.0140965519444975\n"
     ]
    }
   ],
   "source": [
    "rd=Ridge()\n",
    "rd.fit(x_train,y_train)\n",
    "pred_rd=rd.predict(x_test)\n",
    "pred_train=rd.predict(x_train)\n",
    "print(\"R2 score:\",r2_score(y_test,pred_rd))\n",
    "print(\"R2 score on training data:\",r2_score(y_train,pred_train)*100)\n",
    "print(\"Mean Absolute Error:\",mean_absolute_error(y_test,pred_rd))\n",
    "print(\"Mean Squared Error:\",mean_squared_error(y_test,pred_rd))\n",
    "print(\"Root Mean Squared Error:\",np.sqrt(mean_squared_error(y_test,pred_rd)))"
   ]
  },
  {
   "cell_type": "code",
   "execution_count": 147,
   "id": "1e34f273",
   "metadata": {},
   "outputs": [
    {
     "name": "stdout",
     "output_type": "stream",
     "text": [
      "R2 score: 0.6368867627889232\n",
      "R2 score on training data: 58.61249056502176\n",
      "Mean Absolute Error: 0.7763796180191779\n",
      "Mean Squared Error: 0.9859251917438622\n",
      "Root Mean Squared Error: 0.9929376575313589\n"
     ]
    }
   ],
   "source": [
    "from sklearn.svm import SVR\n",
    "svr=SVR()\n",
    "svr.fit(x_train,y_train)\n",
    "pred_svr=svr.predict(x_test)\n",
    "pred_train=svr.predict(x_train)\n",
    "print(\"R2 score:\",r2_score(y_test,pred_svr))\n",
    "print(\"R2 score on training data:\",r2_score(y_train,pred_train)*100)\n",
    "print(\"Mean Absolute Error:\",mean_absolute_error(y_test,pred_svr))\n",
    "print(\"Mean Squared Error:\",mean_squared_error(y_test,pred_svr))\n",
    "print(\"Root Mean Squared Error:\",np.sqrt(mean_squared_error(y_test,pred_svr)))"
   ]
  },
  {
   "cell_type": "code",
   "execution_count": 148,
   "id": "e78b84b4",
   "metadata": {},
   "outputs": [
    {
     "name": "stdout",
     "output_type": "stream",
     "text": [
      "R2 score: 0.6312814161953104\n",
      "R2 score on training data: 100.0\n",
      "Mean Absolute Error: 0.7703503906786083\n",
      "Mean Squared Error: 1.0011448308226931\n",
      "Root Mean Squared Error: 1.0005722516753566\n"
     ]
    }
   ],
   "source": [
    "etr=ExtraTreesRegressor()\n",
    "etr.fit(x_train,y_train)\n",
    "pred_etr=etr.predict(x_test)\n",
    "pred_train=etr.predict(x_train)\n",
    "print(\"R2 score:\",r2_score(y_test,pred_etr))\n",
    "print(\"R2 score on training data:\",r2_score(y_train,pred_train)*100)\n",
    "print(\"Mean Absolute Error:\",mean_absolute_error(y_test,pred_etr))\n",
    "print(\"Mean Squared Error:\",mean_squared_error(y_test,pred_etr))\n",
    "print(\"Root Mean Squared Error:\",np.sqrt(mean_squared_error(y_test,pred_etr)))"
   ]
  },
  {
   "cell_type": "code",
   "execution_count": 149,
   "id": "2d1a83b9",
   "metadata": {},
   "outputs": [],
   "source": [
    "from sklearn.model_selection import cross_val_score"
   ]
  },
  {
   "cell_type": "code",
   "execution_count": 150,
   "id": "3695f284",
   "metadata": {},
   "outputs": [
    {
     "name": "stdout",
     "output_type": "stream",
     "text": [
      "[0.57041331 0.54352974 0.4744592  0.55830998 0.45816638]\n",
      "0.5209757245616183\n",
      "Difference between R2 score and CVS is: 10.04101886037162\n"
     ]
    }
   ],
   "source": [
    "score=cross_val_score(LR,x,y)\n",
    "print(score)\n",
    "print(score.mean())\n",
    "print(\"Difference between R2 score and CVS is:\",(r2_score(y_test,pred_LR)-score.mean())*100)"
   ]
  },
  {
   "cell_type": "code",
   "execution_count": 151,
   "id": "001723c7",
   "metadata": {},
   "outputs": [
    {
     "name": "stdout",
     "output_type": "stream",
     "text": [
      "[0.49052617 0.61416132 0.63186222 0.55981656 0.55370008]\n",
      "0.5700132685991836\n",
      "Difference between R2 score and CVS is: 9.75278269127976\n"
     ]
    }
   ],
   "source": [
    "score=cross_val_score(RFR,x,y)\n",
    "print(score)\n",
    "print(score.mean())\n",
    "print(\"Difference between R2 score and CVS is:\",(r2_score(y_test,pred_RFR)-score.mean())*100)"
   ]
  },
  {
   "cell_type": "code",
   "execution_count": 152,
   "id": "e54927c3",
   "metadata": {},
   "outputs": [
    {
     "name": "stdout",
     "output_type": "stream",
     "text": [
      "[0.50884969 0.48529967 0.52248718 0.4347579  0.4948714 ]\n",
      "0.4892531693455108\n",
      "Difference between R2 score and CVS is: 13.008729789560148\n"
     ]
    }
   ],
   "source": [
    "score=cross_val_score(knn,x,y)\n",
    "print(score)\n",
    "print(score.mean())\n",
    "print(\"Difference between R2 score and CVS is:\",(r2_score(y_test,pred_knn)-score.mean())*100)"
   ]
  },
  {
   "cell_type": "code",
   "execution_count": 153,
   "id": "97b858a3",
   "metadata": {},
   "outputs": [
    {
     "name": "stdout",
     "output_type": "stream",
     "text": [
      "[0.39955102 0.59140534 0.59750525 0.55509197 0.49052849]\n",
      "0.5268164151771554\n",
      "Difference between R2 score and CVS is: 12.414814692156984\n"
     ]
    }
   ],
   "source": [
    "score=cross_val_score(GBR,x,y)\n",
    "print(score)\n",
    "print(score.mean())\n",
    "print(\"Difference between R2 score and CVS is:\",(r2_score(y_test,pred_GBR)-score.mean())*100)"
   ]
  },
  {
   "cell_type": "code",
   "execution_count": 154,
   "id": "0c4a3beb",
   "metadata": {},
   "outputs": [
    {
     "name": "stdout",
     "output_type": "stream",
     "text": [
      "[-0.00012345 -0.00025547 -0.00189184 -0.02049178 -0.01325128]\n",
      "-0.007202762626740045\n",
      "Difference between R2 score and CVS is: 0.703288231093615\n"
     ]
    }
   ],
   "source": [
    "score=cross_val_score(lasso,x,y)\n",
    "print(score)\n",
    "print(score.mean())\n",
    "print(\"Difference between R2 score and CVS is:\",(r2_score(y_test,pred_lasso)-score.mean())*100)"
   ]
  },
  {
   "cell_type": "code",
   "execution_count": 155,
   "id": "f5a0b9b5",
   "metadata": {},
   "outputs": [
    {
     "name": "stdout",
     "output_type": "stream",
     "text": [
      "[0.57047993 0.54394954 0.47451224 0.55810897 0.4583446 ]\n",
      "0.5210790558844541\n",
      "Difference between R2 score and CVS is: 10.0167378634198\n"
     ]
    }
   ],
   "source": [
    "score=cross_val_score(rd,x,y)\n",
    "print(score)\n",
    "print(score.mean())\n",
    "print(\"Difference between R2 score and CVS is:\",(r2_score(y_test,pred_rd)-score.mean())*100)"
   ]
  },
  {
   "cell_type": "code",
   "execution_count": 156,
   "id": "c226d4aa",
   "metadata": {},
   "outputs": [
    {
     "name": "stdout",
     "output_type": "stream",
     "text": [
      "[0.53971845 0.50318742 0.4971326  0.57233374 0.49142684]\n",
      "0.5207598117764983\n",
      "Difference between R2 score and CVS is: 11.612695101242487\n"
     ]
    }
   ],
   "source": [
    "score=cross_val_score(svr,x,y)\n",
    "print(score)\n",
    "print(score.mean())\n",
    "print(\"Difference between R2 score and CVS is:\",(r2_score(y_test,pred_svr)-score.mean())*100)"
   ]
  },
  {
   "cell_type": "code",
   "execution_count": 157,
   "id": "3646c98e",
   "metadata": {},
   "outputs": [
    {
     "name": "stdout",
     "output_type": "stream",
     "text": [
      "[0.53109554 0.53484492 0.61155667 0.54047491 0.52803413]\n",
      "0.5492012348586851\n",
      "Difference between R2 score and CVS is: 8.20801813366253\n"
     ]
    }
   ],
   "source": [
    "score=cross_val_score(etr,x,y)\n",
    "print(score)\n",
    "print(score.mean())\n",
    "print(\"Difference between R2 score and CVS is:\",(r2_score(y_test,pred_etr)-score.mean())*100)"
   ]
  },
  {
   "cell_type": "code",
   "execution_count": 158,
   "id": "0d2fdaf0",
   "metadata": {},
   "outputs": [],
   "source": [
    "# We will take Lass as it has leat difference"
   ]
  },
  {
   "cell_type": "markdown",
   "id": "7cbeca75",
   "metadata": {},
   "source": [
    "### HyperParameter tuning"
   ]
  },
  {
   "cell_type": "code",
   "execution_count": 159,
   "id": "8749cc31",
   "metadata": {},
   "outputs": [],
   "source": [
    "from sklearn.model_selection import GridSearchCV"
   ]
  },
  {
   "cell_type": "code",
   "execution_count": 160,
   "id": "e7637145",
   "metadata": {},
   "outputs": [],
   "source": [
    "param={'alpha':[0.01, 0.1, 1.0, 10.0],\n",
    "             'fit_intercept':[True,False],\n",
    "             'normalize':[True,False],\n",
    "             'precompute':[True,False],\n",
    "             'selection':['cyclic', 'random']}"
   ]
  },
  {
   "cell_type": "code",
   "execution_count": 161,
   "id": "dba178f1",
   "metadata": {},
   "outputs": [],
   "source": [
    "gscv=GridSearchCV(Lasso(),param,cv=5)"
   ]
  },
  {
   "cell_type": "code",
   "execution_count": 162,
   "id": "85b8878b",
   "metadata": {},
   "outputs": [
    {
     "data": {
      "text/plain": [
       "GridSearchCV(cv=5, estimator=Lasso(),\n",
       "             param_grid={'alpha': [0.01, 0.1, 1.0, 10.0],\n",
       "                         'fit_intercept': [True, False],\n",
       "                         'normalize': [True, False],\n",
       "                         'precompute': [True, False],\n",
       "                         'selection': ['cyclic', 'random']})"
      ]
     },
     "execution_count": 162,
     "metadata": {},
     "output_type": "execute_result"
    }
   ],
   "source": [
    "gscv.fit(x_train,y_train)"
   ]
  },
  {
   "cell_type": "code",
   "execution_count": 163,
   "id": "99df52ec",
   "metadata": {},
   "outputs": [
    {
     "data": {
      "text/plain": [
       "{'alpha': 0.01,\n",
       " 'fit_intercept': True,\n",
       " 'normalize': False,\n",
       " 'precompute': False,\n",
       " 'selection': 'random'}"
      ]
     },
     "execution_count": 163,
     "metadata": {},
     "output_type": "execute_result"
    }
   ],
   "source": [
    " gscv.best_params_"
   ]
  },
  {
   "cell_type": "code",
   "execution_count": 164,
   "id": "d89d3c48",
   "metadata": {},
   "outputs": [],
   "source": [
    "Model=Lasso(alpha= 0.01,\n",
    "fit_intercept=True,\n",
    "normalize=False,\n",
    "precompute=False,\n",
    "selection='random')"
   ]
  },
  {
   "cell_type": "code",
   "execution_count": 165,
   "id": "ed42e542",
   "metadata": {},
   "outputs": [
    {
     "name": "stdout",
     "output_type": "stream",
     "text": [
      "R2 score: 0.6183445797731135\n",
      "Mean Absolute Error: 0.8366536833896997\n",
      "Mean Squared Error: 1.0362709337102591\n",
      "Root Mean Squared Error: 1.017973935673335\n"
     ]
    }
   ],
   "source": [
    "Model.fit(x_train,y_train)\n",
    "pred=Model.predict(x_test)\n",
    "print(\"R2 score:\",r2_score(y_test,pred))\n",
    "print(\"Mean Absolute Error:\",mean_absolute_error(y_test,pred))\n",
    "print(\"Mean Squared Error:\",mean_squared_error(y_test,pred))\n",
    "print(\"Root Mean Squared Error:\",np.sqrt(mean_squared_error(y_test,pred)))"
   ]
  },
  {
   "cell_type": "code",
   "execution_count": 169,
   "id": "d7d3455d",
   "metadata": {},
   "outputs": [],
   "source": [
    "import pickle\n",
    "filename='capacity_mw .pkl'\n",
    "pickle.dump(Model,open(filename, 'wb'))  #saved model"
   ]
  },
  {
   "cell_type": "code",
   "execution_count": 170,
   "id": "9c0be597",
   "metadata": {},
   "outputs": [
    {
     "name": "stdout",
     "output_type": "stream",
     "text": [
      "61.83445797731135\n"
     ]
    }
   ],
   "source": [
    "#loading the model\n",
    "\n",
    "loaded_model=pickle.load(open('capacity_mw .pkl','rb'))  #read binary mode\n",
    "result=loaded_model.score(x_test,y_test)\n",
    "print(result*100)"
   ]
  },
  {
   "cell_type": "code",
   "execution_count": 171,
   "id": "ab6562b5",
   "metadata": {},
   "outputs": [
    {
     "data": {
      "text/html": [
       "<div>\n",
       "<style scoped>\n",
       "    .dataframe tbody tr th:only-of-type {\n",
       "        vertical-align: middle;\n",
       "    }\n",
       "\n",
       "    .dataframe tbody tr th {\n",
       "        vertical-align: top;\n",
       "    }\n",
       "\n",
       "    .dataframe thead th {\n",
       "        text-align: right;\n",
       "    }\n",
       "</style>\n",
       "<table border=\"1\" class=\"dataframe\">\n",
       "  <thead>\n",
       "    <tr style=\"text-align: right;\">\n",
       "      <th></th>\n",
       "      <th>0</th>\n",
       "      <th>1</th>\n",
       "      <th>2</th>\n",
       "      <th>3</th>\n",
       "      <th>4</th>\n",
       "      <th>5</th>\n",
       "      <th>6</th>\n",
       "      <th>7</th>\n",
       "      <th>8</th>\n",
       "      <th>9</th>\n",
       "      <th>...</th>\n",
       "      <th>252</th>\n",
       "      <th>253</th>\n",
       "      <th>254</th>\n",
       "      <th>255</th>\n",
       "      <th>256</th>\n",
       "      <th>257</th>\n",
       "      <th>258</th>\n",
       "      <th>259</th>\n",
       "      <th>260</th>\n",
       "      <th>261</th>\n",
       "    </tr>\n",
       "  </thead>\n",
       "  <tbody>\n",
       "    <tr>\n",
       "      <th>Predicted</th>\n",
       "      <td>4.018778</td>\n",
       "      <td>5.304703</td>\n",
       "      <td>5.328369</td>\n",
       "      <td>3.561872</td>\n",
       "      <td>2.176761</td>\n",
       "      <td>5.509461</td>\n",
       "      <td>4.987769</td>\n",
       "      <td>5.273778</td>\n",
       "      <td>5.212306</td>\n",
       "      <td>3.309584</td>\n",
       "      <td>...</td>\n",
       "      <td>4.248546</td>\n",
       "      <td>5.488177</td>\n",
       "      <td>4.591807</td>\n",
       "      <td>5.492384</td>\n",
       "      <td>2.032533</td>\n",
       "      <td>5.220968</td>\n",
       "      <td>3.883545</td>\n",
       "      <td>4.295145</td>\n",
       "      <td>1.995530</td>\n",
       "      <td>4.148620</td>\n",
       "    </tr>\n",
       "    <tr>\n",
       "      <th>original</th>\n",
       "      <td>4.291416</td>\n",
       "      <td>5.787720</td>\n",
       "      <td>3.604034</td>\n",
       "      <td>4.446900</td>\n",
       "      <td>3.059102</td>\n",
       "      <td>5.787720</td>\n",
       "      <td>6.421839</td>\n",
       "      <td>5.781181</td>\n",
       "      <td>5.638906</td>\n",
       "      <td>4.636294</td>\n",
       "      <td>...</td>\n",
       "      <td>3.852692</td>\n",
       "      <td>6.346003</td>\n",
       "      <td>5.217661</td>\n",
       "      <td>5.787720</td>\n",
       "      <td>1.741506</td>\n",
       "      <td>5.638906</td>\n",
       "      <td>2.462801</td>\n",
       "      <td>2.653493</td>\n",
       "      <td>0.685539</td>\n",
       "      <td>4.044851</td>\n",
       "    </tr>\n",
       "  </tbody>\n",
       "</table>\n",
       "<p>2 rows × 262 columns</p>\n",
       "</div>"
      ],
      "text/plain": [
       "                0         1         2         3         4         5    \\\n",
       "Predicted  4.018778  5.304703  5.328369  3.561872  2.176761  5.509461   \n",
       "original   4.291416  5.787720  3.604034  4.446900  3.059102  5.787720   \n",
       "\n",
       "                6         7         8         9    ...       252       253  \\\n",
       "Predicted  4.987769  5.273778  5.212306  3.309584  ...  4.248546  5.488177   \n",
       "original   6.421839  5.781181  5.638906  4.636294  ...  3.852692  6.346003   \n",
       "\n",
       "                254       255       256       257       258       259  \\\n",
       "Predicted  4.591807  5.492384  2.032533  5.220968  3.883545  4.295145   \n",
       "original   5.217661  5.787720  1.741506  5.638906  2.462801  2.653493   \n",
       "\n",
       "                260       261  \n",
       "Predicted  1.995530  4.148620  \n",
       "original   0.685539  4.044851  \n",
       "\n",
       "[2 rows x 262 columns]"
      ]
     },
     "execution_count": 171,
     "metadata": {},
     "output_type": "execute_result"
    }
   ],
   "source": [
    "conclusion=pd.DataFrame([loaded_model.predict(x_test)[:],y_test[:]],index=[\"Predicted\",\"original\"])   \n",
    "conclusion"
   ]
  },
  {
   "cell_type": "code",
   "execution_count": null,
   "id": "391cde37",
   "metadata": {},
   "outputs": [],
   "source": []
  }
 ],
 "metadata": {
  "kernelspec": {
   "display_name": "Python 3 (ipykernel)",
   "language": "python",
   "name": "python3"
  },
  "language_info": {
   "codemirror_mode": {
    "name": "ipython",
    "version": 3
   },
   "file_extension": ".py",
   "mimetype": "text/x-python",
   "name": "python",
   "nbconvert_exporter": "python",
   "pygments_lexer": "ipython3",
   "version": "3.9.12"
  }
 },
 "nbformat": 4,
 "nbformat_minor": 5
}
